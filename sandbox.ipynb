{
 "cells": [
  {
   "cell_type": "code",
   "execution_count": null,
   "metadata": {},
   "outputs": [],
   "source": [
    "def is_string_integer(s):\n",
    "    '''This function checks whether the string is \n",
    "    a valid integer in base 10\n",
    "    '''\n",
    "    assert len(s)==1\n",
    "    if ord(s)<58 and ord(s)>47:\n",
    "        return True\n",
    "    return False\n"
   ]
  },
  {
   "cell_type": "code",
   "execution_count": null,
   "metadata": {},
   "outputs": [],
   "source": [
    "is_string_integer(\"9\")"
   ]
  },
  {
   "cell_type": "code",
   "execution_count": null,
   "metadata": {},
   "outputs": [],
   "source": [
    "import itertools as it\n",
    "\n",
    "def get_power_of3(x):\n",
    "    ''' This function constructs number x using any possible \n",
    "    non-repeating combination of [1,3,9,27] i.e. by both adding/subtracting operations\n",
    "    '''\n",
    "    assert isinstance(x,int)\n",
    "    assert x<=40 and x>=1\n",
    "    for v in it.product([1,-1,0],repeat=4):\n",
    "        s=sum([ a*b for a,b in zip([1,3,9,27],v)])\n",
    "        if s==x:\n",
    "            return list(v)\n",
    "    \n",
    "\n",
    "\n",
    "    "
   ]
  },
  {
   "cell_type": "code",
   "execution_count": null,
   "metadata": {},
   "outputs": [],
   "source": [
    "def write_columns(data, fname):\n",
    "    '''This function writes the data from list in three columns with following values per column:\n",
    "    data_value, data_value**2, (data_value+data_value**2)/3\n",
    "    '''\n",
    "    assert isinstance(data, list)\n",
    "    assert isinstance(fname, str)\n",
    "    with open(fname,'w') as f:\n",
    "        for d in data:\n",
    "            assert isinstance(d,float) or isinstance(d,int)            \n",
    "            # print(f'{d:.2f},{d**2:.2f},{(d+d**2)/3.0:.2f}')\n",
    "            f.write(f'{d:.2f},{d**2:.2f},{(d+d**2)/3.0:.2f}')\n",
    "            f.write(\"\\n\")\n"
   ]
  },
  {
   "cell_type": "code",
   "execution_count": null,
   "metadata": {},
   "outputs": [],
   "source": [
    "write_columns([4,3,2,4],\"p4_test\")"
   ]
  },
  {
   "cell_type": "code",
   "execution_count": null,
   "metadata": {},
   "outputs": [],
   "source": [
    "def write_chunks_of_five(words, fname):\n",
    "    ''' This function writes a file with consecutibe non-overlapping sequences \n",
    "    of five words merged in one line.\n",
    "    '''\n",
    "    assert isinstance(words, list)\n",
    "    assert isinstance(fname,str)\n",
    "    n = len(words)\n",
    "    with open(fname,'w') as f:\n",
    "        for st in range(0,n,5):\n",
    "            en = st+5 if st+5<=n else n\n",
    "            for w in words[st:en]:\n",
    "                assert isinstance(w,str)\n",
    "            row = \" \".join(words[st:en])\n",
    "            print(row)\n",
    "            f.write(row)\n",
    "            f.write(\"\\n\")"
   ]
  },
  {
   "cell_type": "code",
   "execution_count": null,
   "metadata": {},
   "outputs": [],
   "source": [
    "write_chunks_of_five([\"this\",\"dfd\",\"fsdfs\",\"dfff\",\"srrrr\",\"dfdfdf\",\"sdfdssdsd\"],\"p6_test\")"
   ]
  },
  {
   "cell_type": "code",
   "execution_count": null,
   "metadata": {},
   "outputs": [],
   "source": [
    "write_chunks_of_five([\"dfsdf\"],\"p6_test\")"
   ]
  },
  {
   "cell_type": "code",
   "execution_count": null,
   "metadata": {},
   "outputs": [],
   "source": [
    "def fibonacci(n):\n",
    "    ''' This generator func computes the first n Fibonnacci numbers.'''\n",
    "    assert n>=0\n",
    "    assert isinstance(n, int)\n",
    "    a = 1\n",
    "    b = 1\n",
    "    if n==0:\n",
    "        yield a\n",
    "    for i in range(1,n+1):\n",
    "        if i==1 or i==0:\n",
    "            yield a\n",
    "        elif i==2:\n",
    "            yield b\n",
    "        else:\n",
    "            c = a+b\n",
    "            yield c\n",
    "            a,b=b,c"
   ]
  },
  {
   "cell_type": "code",
   "execution_count": null,
   "metadata": {},
   "outputs": [],
   "source": [
    "list(fibonacci(3))"
   ]
  },
  {
   "cell_type": "code",
   "execution_count": null,
   "metadata": {},
   "outputs": [],
   "source": [
    "def all_sublists(x):\n",
    "    ''' This function generates all sublists i.e. 2**len(x) subset\n",
    "    of list x. Ordering is ignored and func asserts against empty input array.\n",
    "    '''\n",
    "    assert isinstance(x,list)\n",
    "    assert x!=[]\n",
    "    unique_list = []\n",
    "    for v in x:\n",
    "        assert v!=[]\n",
    "        if v not in unique_list:\n",
    "            unique_list.append(v)\n",
    "        else:\n",
    "            assert v not in unique_list\n",
    "\n",
    "    x_len=len(x)\n",
    "    n = 2**x_len\n",
    "    ans=[]\n",
    "    for i in range(1,n):\n",
    "        temp=i\n",
    "        sublist=[]\n",
    "        for j in range(x_len):\n",
    "            if (temp & 1) == 1:\n",
    "                sublist.append(x[j])\n",
    "            temp=temp>>1\n",
    "        ans.append(sublist)\n",
    "    assert len(ans) == 2**len(x)-1\n",
    "    return ans\n",
    "                \n",
    "\n"
   ]
  },
  {
   "cell_type": "code",
   "execution_count": null,
   "metadata": {},
   "outputs": [],
   "source": [
    "all_sublists([[3,4,3],[3,4,5]])"
   ]
  },
  {
   "cell_type": "code",
   "execution_count": null,
   "metadata": {},
   "outputs": [],
   "source": [
    "number_of_days(2021,10)"
   ]
  },
  {
   "cell_type": "code",
   "execution_count": null,
   "metadata": {},
   "outputs": [],
   "source": [
    "number_of_leap_years(1890,1908)"
   ]
  },
  {
   "cell_type": "code",
   "execution_count": null,
   "metadata": {},
   "outputs": [],
   "source": [
    "get_day_of_week(2021,9,30)"
   ]
  },
  {
   "cell_type": "code",
   "execution_count": null,
   "metadata": {},
   "outputs": [],
   "source": [
    "from time import sleep\n",
    "import random\n",
    "from datetime import datetime\n",
    "import itertools as it\n",
    "\n",
    "def producer():\n",
    "    'produce timestamps'\n",
    "    starttime = datetime.now()\n",
    "    while True:\n",
    "        sleep(random.uniform(0,0.2))\n",
    "        yield datetime.now()-starttime"
   ]
  },
  {
   "cell_type": "code",
   "execution_count": null,
   "metadata": {},
   "outputs": [],
   "source": [
    "import types\n",
    "\n",
    "def tracker(p,limit=1):\n",
    "    ''' This function is to track the odd numbered seconds from \n",
    "    producer's output upto a given limit.\n",
    "    |p|: producer \n",
    "    |limit|: tracking limit for odd numbered seconds \n",
    "    '''\n",
    "    assert limit > 0\n",
    "    assert isinstance(p,types.GeneratorType)\n",
    "    sec=0\n",
    "    sumi=0\n",
    "    while sumi<limit:\n",
    "        delta=next(p)\n",
    "        sec=int(delta.total_seconds())\n",
    "        if sec%2!=0:\n",
    "            sumi+=1\n",
    "        limitUpdate = (yield sumi)\n",
    "        if limitUpdate!=None:\n",
    "            assert limitUpdate>=limit\n",
    "            limit = limitUpdate\n",
    "        \n",
    "        \n"
   ]
  },
  {
   "cell_type": "code",
   "execution_count": null,
   "metadata": {},
   "outputs": [],
   "source": [
    "p=producer()\n",
    "t=tracker(p,limit=2)"
   ]
  },
  {
   "cell_type": "code",
   "execution_count": null,
   "metadata": {},
   "outputs": [],
   "source": [
    "list(tracker([\"ssds\"],limit=3))"
   ]
  },
  {
   "cell_type": "code",
   "execution_count": null,
   "metadata": {},
   "outputs": [],
   "source": [
    "next(t)"
   ]
  },
  {
   "cell_type": "code",
   "execution_count": 36,
   "metadata": {},
   "outputs": [],
   "source": [
    "import itertools as it\n",
    "import random\n",
    "\n",
    "def get_sample(nbits=3, prob=None, n=4):\n",
    "    ''' This func returns list of n samples from a finite PMF defined by dict prob\n",
    "    with keys defined by specific num of bits.\n",
    "    '''\n",
    "    assert isinstance(prob,dict) and isinstance(nbits,int) and isinstance(n,int)\n",
    "    assert nbits>0\n",
    "    assert len(prob.keys())==pow(2,nbits)\n",
    "    assert sum(list(prob.values()))==1\n",
    "\n",
    "    keys=list(prob.keys())\n",
    "    w = [prob[x] for x in keys]\n",
    "    return random.choices(keys,w,k=n)"
   ]
  },
  {
   "cell_type": "code",
   "execution_count": 8,
   "metadata": {},
   "outputs": [
    {
     "data": {
      "text/plain": [
       "['001', '101']"
      ]
     },
     "execution_count": 8,
     "metadata": {},
     "output_type": "execute_result"
    }
   ],
   "source": [
    "bits=3\n",
    "p={ \"\".join(x):1/pow(2,bits) for x in it.product([\"1\",\"0\"],repeat=bits)}\n",
    "get_sample(bits,p,2)\n"
   ]
  },
  {
   "cell_type": "code",
   "execution_count": 61,
   "metadata": {},
   "outputs": [
    {
     "name": "stdout",
     "output_type": "stream",
     "text": [
      "['111', '110', '101', '100', '011', '010', '001', '000'] [0.125, 0.125, 0.125, 0.125, 0.125, 0.125, 0.125, 0.125]\n"
     ]
    },
    {
     "data": {
      "text/plain": [
       "['011', '100']"
      ]
     },
     "execution_count": 61,
     "metadata": {},
     "output_type": "execute_result"
    }
   ],
   "source": [
    "get_sammple(3,p,2)"
   ]
  },
  {
   "cell_type": "code",
   "execution_count": 37,
   "metadata": {},
   "outputs": [],
   "source": [
    "def map_bitstring(l):\n",
    "    ''' This func takes a list of bitstrings (i.e., 0101) and maps each bitstring \n",
    "    to 0 if the number of 0s in the bitstring strictly exceeds the number of 1s\n",
    "    '''\n",
    "    assert isinstance(l,list)\n",
    "    strings = list(set(l))    \n",
    "    ans = {}\n",
    "    for s in strings:\n",
    "        assert isinstance(s,str)\n",
    "        intString = []\n",
    "        for b in s:\n",
    "            assert b=='1' or b=='0'\n",
    "            intString.append(int(b))\n",
    "\n",
    "        if sum(intString)>=len(intString)-sum(intString):\n",
    "            ans[s]=1\n",
    "        else:\n",
    "            ans[s]=0\n",
    "    return ans"
   ]
  },
  {
   "cell_type": "code",
   "execution_count": 35,
   "metadata": {},
   "outputs": [
    {
     "data": {
      "text/plain": [
       "{'011': 1, '1100': 1, '000': 0, '111': 1, '100': 0, '010': 0, '110': 1}"
      ]
     },
     "execution_count": 35,
     "metadata": {},
     "output_type": "execute_result"
    }
   ],
   "source": [
    "map_bitstring(['100', '1100', '110', '010', '111', '000', '110', '010', '011', '000'])"
   ]
  },
  {
   "cell_type": "code",
   "execution_count": 40,
   "metadata": {},
   "outputs": [],
   "source": [
    "def gather_values(x):\n",
    "    '''This func generates n samples and tally the number of times an \n",
    "    existing key is repeated. Generate a new dictionary with \n",
    "    bitstrings as keys and with values as lists that contain \n",
    "    the corresponding mapped values from map_bitstring.\n",
    "    '''\n",
    "    assert isinstance(x,list)\n",
    "    bit_map = map_bitstring(x)\n",
    "    freq_map = {}\n",
    "    for b in x:\n",
    "        if b not in freq_map:\n",
    "            freq_map[b]=[]\n",
    "        freq_map[b].append(bit_map[b])\n",
    "    return freq_map\n",
    "    \n"
   ]
  },
  {
   "cell_type": "code",
   "execution_count": 39,
   "metadata": {},
   "outputs": [
    {
     "data": {
      "text/plain": [
       "{'10': [1, 1, 1, 1, 1],\n",
       " '11': [1, 1, 1, 1, 1, 1],\n",
       " '01': [1, 1, 1],\n",
       " '00': [0, 0, 0, 0, 0, 0]}"
      ]
     },
     "execution_count": 39,
     "metadata": {},
     "output_type": "execute_result"
    }
   ],
   "source": [
    "gather_values(['10', '11', '01', '00', '10', '00', '00', '11', '10', '00', '00', '01', '01', '11', '10', '00', '11', '10', '11', '11'])"
   ]
  },
  {
   "cell_type": "code",
   "execution_count": 133,
   "metadata": {},
   "outputs": [],
   "source": [
    "def threshold_values(seq,threshold=1):\n",
    "    ''' This func thresholds the sampled values based upon their frequency and value.\n",
    "    Given threshold=2, we want to keep only those bitstrings with \n",
    "    the two highest frequency counts of the 1 value.\n",
    "    '''\n",
    "    assert threshold>0\n",
    "    g_map = gather_values(seq)\n",
    "    f = [ k for k,v in sorted(g_map.items(),key=lambda x: (len(x[1]),-int(x[0],2)),reverse=True)][:threshold]\n",
    "    f_map={}\n",
    "    for k,v in g_map.items():\n",
    "        if k in f:\n",
    "            f_map[k]=1\n",
    "        else:\n",
    "            f_map[k]=0\n",
    "        \n",
    "    return f_map "
   ]
  },
  {
   "cell_type": "code",
   "execution_count": 134,
   "metadata": {},
   "outputs": [],
   "source": [
    "seq=['1111', '0110', '1001', '0011', '0111', '0100', '0111', '1100', '0011', '0010', '0010', '1010', '1010', '1100', '0110', '0101', '0110', '1111', '1001', '0110', '0010', '1101', '0101', '0010', '0100', '0010', '0000', '0000', '0011', '0110', '0101', '1010', '1011', '1101', '1100', '0111', '1110', '0100', '0110', '1101', '0001', '1110', '0010', '0001', '1010', '1010', '0011', '1000', '0010', '0000', '1010', '1101', '1111', '1000', '1000', '0010', '1010', '0101', '0101', '1101', '0110', '1001', '1100', '1100', '1000', '1010', '0011', '0101', '0101', '0011', '0001', '1010', '0011', '0011', '1101', '1010', '0101', '0011', '1011', '0101', '0000', '1111', '1001', '0101', '1100', '0011', '1111', '1101', '0001', '1111', '1110', '1111', '0001', '0010', '0110', '0100', '0101', '1100', '1110', '1001'] "
   ]
  },
  {
   "cell_type": "code",
   "execution_count": 135,
   "metadata": {},
   "outputs": [
    {
     "data": {
      "text/plain": [
       "{'1111': 0,\n",
       " '0110': 0,\n",
       " '1001': 0,\n",
       " '0011': 1,\n",
       " '0111': 0,\n",
       " '0100': 0,\n",
       " '1100': 0,\n",
       " '0010': 0,\n",
       " '1010': 1,\n",
       " '0101': 1,\n",
       " '1101': 0,\n",
       " '0000': 0,\n",
       " '1011': 0,\n",
       " '1110': 0,\n",
       " '0001': 0,\n",
       " '1000': 0}"
      ]
     },
     "execution_count": 135,
     "metadata": {},
     "output_type": "execute_result"
    }
   ],
   "source": [
    "threshold_values(seq,3)"
   ]
  },
  {
   "cell_type": "code",
   "execution_count": 45,
   "metadata": {},
   "outputs": [],
   "source": [
    "import itertools as it\n",
    "\n",
    "def descrambler(w,k):\n",
    "    '''This generator yields all outcomes which descrambles the word into\n",
    "    k paritions with each partition representing a word from given common\n",
    "    word dictionary.'''\n",
    "    assert isinstance(w,str)\n",
    "    assert isinstance(k,tuple)\n",
    "    assert len(w)==sum(k)\n",
    "    assert \" \" not in w\n",
    "    import collections\n",
    "    word_map=collections.defaultdict(set)\n",
    "    with open('words.txt','r') as f:\n",
    "        for l in f.readlines():\n",
    "            temp = l.strip()\n",
    "            key=len(temp)\n",
    "            if key not in word_map:\n",
    "                word_map[key]=set()\n",
    "            word_map[key].add(l.strip())\n",
    "    print(\"Word List loaded\")\n",
    "    ans = set()\n",
    "    for p in it.permutations(w,len(w)):\n",
    "        s = \"\".join(p)\n",
    "        st=0\n",
    "        f=0\n",
    "        res=[]\n",
    "        \n",
    "        for gap in k:\n",
    "            en=st+gap\n",
    "            if s[st:en] not in word_map[gap]:\n",
    "                f=1\n",
    "                break\n",
    "            res.append(s[st:en])\n",
    "            st=en\n",
    "        res=\" \".join(res)\n",
    "        if f==0 and res not in ans:\n",
    "            ans.add(res)\n",
    "            yield res\n",
    "\n",
    "\n"
   ]
  },
  {
   "cell_type": "code",
   "execution_count": 46,
   "metadata": {},
   "outputs": [
    {
     "name": "stdout",
     "output_type": "stream",
     "text": [
      "Word List loaded\n"
     ]
    },
    {
     "data": {
      "text/plain": [
       "['there hello', 'hello three', 'hello there']"
      ]
     },
     "execution_count": 46,
     "metadata": {},
     "output_type": "execute_result"
    }
   ],
   "source": [
    "g=descrambler('trleeohelh' , k=(5,5))\n",
    "next(g)\n",
    "list(g)"
   ]
  },
  {
   "cell_type": "code",
   "execution_count": 41,
   "metadata": {},
   "outputs": [
    {
     "data": {
      "text/plain": [
       "'ceeghiknooootu'"
      ]
     },
     "execution_count": 41,
     "metadata": {},
     "output_type": "execute_result"
    }
   ],
   "source": [
    "\"\".join(sorted('choeounokeoitg'))"
   ]
  },
  {
   "cell_type": "code",
   "execution_count": 86,
   "metadata": {},
   "outputs": [
    {
     "name": "stdout",
     "output_type": "stream",
     "text": [
      "Words loaded \n"
     ]
    }
   ],
   "source": [
    "w='choeounokeoitg'\n",
    "k=(3,5,6)\n",
    "word_map={}\n",
    "with open('words.txt','r') as f:\n",
    "    for l in f.readlines():\n",
    "        temp = l.strip()\n",
    "        sort_s = \"\".join(sorted(temp))\n",
    "        if sort_s not in word_map:\n",
    "            word_map[sort_s]=set()\n",
    "        word_map[sort_s].add(l.strip())\n",
    "print(\"Words loaded \")"
   ]
  },
  {
   "cell_type": "code",
   "execution_count": 88,
   "metadata": {},
   "outputs": [
    {
     "ename": "KeyError",
     "evalue": "'eelrt'",
     "output_type": "error",
     "traceback": [
      "\u001b[1;31m---------------------------------------------------------------------------\u001b[0m",
      "\u001b[1;31mKeyError\u001b[0m                                  Traceback (most recent call last)",
      "\u001b[1;32m<ipython-input-88-a64249769181>\u001b[0m in \u001b[0;36m<module>\u001b[1;34m\u001b[0m\n\u001b[1;32m----> 1\u001b[1;33m \u001b[0mword_map\u001b[0m\u001b[1;33m[\u001b[0m\u001b[1;34m'eelrt'\u001b[0m\u001b[1;33m]\u001b[0m\u001b[1;33m\u001b[0m\u001b[1;33m\u001b[0m\u001b[0m\n\u001b[0m",
      "\u001b[1;31mKeyError\u001b[0m: 'eelrt'"
     ]
    }
   ],
   "source": [
    "word_map['eelrt']"
   ]
  },
  {
   "cell_type": "code",
   "execution_count": 13,
   "metadata": {},
   "outputs": [],
   "source": [
    "import itertools as it\n",
    "\n",
    "def descrambler(w,k):\n",
    "    '''This generator yields all outcomes which descrambles the word into\n",
    "    k paritions with each partition representing a word from given common\n",
    "    word dictionary.'''\n",
    "    assert isinstance(w,str)\n",
    "    assert isinstance(k,tuple)\n",
    "    assert len(w)==sum(k)\n",
    "    assert \" \" not in w\n",
    "    \n",
    "    word_map = {}\n",
    "    with open('words.txt','r') as f:\n",
    "        for l in f.readlines():\n",
    "            temp = l.strip()\n",
    "            sort_s = \"\".join(sorted(temp))\n",
    "            if sort_s not in word_map:\n",
    "                word_map[sort_s]=set()\n",
    "            word_map[sort_s].add(temp)\n",
    "    print(\"Words loaded! \")\n",
    "    \n",
    "    ans_set=set()\n",
    "    def gen(tot_k,pos,part_k,words,word,vis):\n",
    "        if pos>k[part_k] or part_k>tot_k:\n",
    "            return\n",
    "        if pos==k[part_k]: \n",
    "            sorted_key = \"\".join(sorted(word))\n",
    "            if sorted_key in word_map:\n",
    "                for wi in word_map[sorted_key]:\n",
    "                    # print(\"Boom foundiiiiii \",wi,word,part_k,tot_k)    \n",
    "#                     if wi in words:\n",
    "#                         return\n",
    "                    words.append(wi)\n",
    "                    if part_k>=tot_k:\n",
    "                        if \" \".join(words) not in ans_set:\n",
    "                            ans_set.add(\" \".join(words))\n",
    "                            print(\"Booom \",part_k,tot_k,\" \".join(words))\n",
    "                    else:\n",
    "                        gen(tot_k,0,part_k+1,words,\"\",vis)\n",
    "                    words.pop()\n",
    "            return\n",
    "        # print(word,words,pos,part_k,k)\n",
    "        for i in range(0,len(w)):\n",
    "            if i not in vis or vis[i]!=1:\n",
    "                # print(word)\n",
    "                vis[i]=1\n",
    "                gen(tot_k,pos+1,part_k,words,word+w[i],vis)\n",
    "                vis[i]=0\n",
    "#                 gen(tot_k,pos,part_k,words,word,vis)\n",
    "        return\n",
    "\n",
    "    gen(len(k)-1,0,0,[],\"\",{})\n",
    "    return list(ans_set)"
   ]
  },
  {
   "cell_type": "code",
   "execution_count": 19,
   "metadata": {},
   "outputs": [],
   "source": [
    "import itertools as it\n",
    "\n",
    "def descrambler(w,k):\n",
    "    '''This generator yields all outcomes which descrambles the word into\n",
    "    k paritions with each partition representing a word from given common\n",
    "    word dictionary.'''\n",
    "    assert isinstance(w,str)\n",
    "    assert isinstance(k,tuple)\n",
    "    assert len(w)==sum(k)\n",
    "    assert \" \" not in w\n",
    "    \n",
    "    from collections import defaultdict\n",
    "    word_map = defaultdict(set)\n",
    "    with open('words.txt','r') as f:\n",
    "        while True:\n",
    "            l = f.readline()\n",
    "            \n",
    "            if not l:\n",
    "                break\n",
    "            temp = l.strip()\n",
    "            if len(temp) not in k:\n",
    "                continue\n",
    "            word_map[len(temp)].add(temp)\n",
    "#     for k,v in word_map.items():\n",
    "#         print(k,len(v))\n",
    "    \n",
    "    ans_set=set()    \n",
    "    mem_map=defaultdict(int)\n",
    "    def gen(tot_k,pos,part_k,words,word,vis):\n",
    "        if pos>k[part_k] or part_k>tot_k:\n",
    "            return\n",
    "        \n",
    "        if pos==k[part_k]: \n",
    "            if word in word_map[len(word)]:\n",
    "                words.append(word)\n",
    "                if part_k>=tot_k:\n",
    "                    ordered_w = \" \".join(words)\n",
    "                    if ordered_w not in ans_set:\n",
    "                        ans_set.add(ordered_w)                    \n",
    "                else:\n",
    "                    if mem_map[(part_k,word)]!=1:\n",
    "                        mem_map[(part_k,word)]=1\n",
    "                        gen(tot_k,0,part_k+1,words,\"\",vis)\n",
    "                        \n",
    "                words.pop()\n",
    "            return\n",
    "\n",
    "        for i in range(0,len(w)):\n",
    "            if i not in vis or vis[i]!=1:\n",
    "                vis[i]=1\n",
    "                gen(tot_k,pos+1,part_k,words,word+w[i],vis)\n",
    "                vis[i]=0\n",
    "#         mem_map[(word,part_k,pos)]=1\n",
    "        return \n",
    "\n",
    "    gen(len(k)-1,0,0,[],\"\",{})\n",
    "    \n",
    "    for i in list(ans_set):\n",
    "        yield i"
   ]
  },
  {
   "cell_type": "code",
   "execution_count": 23,
   "metadata": {},
   "outputs": [],
   "source": [
    "from collections import defaultdict,Counter\n",
    "\n",
    "def descrambler(w,k):\n",
    "    '''This generator yields all outcomes which descrambles the word into\n",
    "    k paritions with each partition representing a word from given common\n",
    "    word dictionary.'''\n",
    "    assert isinstance(w,str)\n",
    "    assert isinstance(k,tuple)\n",
    "    assert len(w)==sum(k)\n",
    "    assert \" \" not in w\n",
    "    \n",
    "    word_map = defaultdict(set)\n",
    "    with open('words.txt','r') as f:\n",
    "        while True:\n",
    "            l = f.readline()\n",
    "            \n",
    "            if not l:\n",
    "                break\n",
    "            temp = l.strip()\n",
    "            if len(temp) not in k:\n",
    "                continue\n",
    "            word_map[len(temp)].add(temp)\n",
    "    \n",
    "    ans_set=set()\n",
    "    def gen(tot_part,freq_c, k_part, words):\n",
    "        if k_part>=tot_part:\n",
    "            if \" \".join(words) not in ans_set:\n",
    "                ans_set.add(\" \".join(words))\n",
    "            return\n",
    "        for word in word_map[k[k_part]]:\n",
    "            source_counter = Counter(word)\n",
    "            target_counter = freq_c.copy()\n",
    "            target_counter.subtract(source_counter)\n",
    "            \n",
    "            if any([x<0 for x in target_counter.values()]):\n",
    "                continue\n",
    "            else:\n",
    "                words.append(word)\n",
    "                gen(tot_part,target_counter,k_part+1,words)\n",
    "                words.pop()\n",
    "    gen(len(k),Counter(w),0,[])  \n",
    "    \n",
    "    for i in list(ans_set):\n",
    "        yield i\n",
    "            \n",
    "    \n",
    "    "
   ]
  },
  {
   "cell_type": "code",
   "execution_count": 24,
   "metadata": {},
   "outputs": [
    {
     "name": "stdout",
     "output_type": "stream",
     "text": [
      "Wall time: 5.08 s\n"
     ]
    },
    {
     "data": {
      "text/plain": [
       "['neo ought cookie',\n",
       " 'neo tough cookie',\n",
       " 'one tough cookie',\n",
       " 'one ought cookie']"
      ]
     },
     "execution_count": 24,
     "metadata": {},
     "output_type": "execute_result"
    }
   ],
   "source": [
    "%time list(descrambler('choeounokeoitg',(3,5,6)))"
   ]
  },
  {
   "cell_type": "code",
   "execution_count": 25,
   "metadata": {},
   "outputs": [
    {
     "data": {
      "text/plain": [
       "'wise insider consequences'"
      ]
     },
     "execution_count": 25,
     "metadata": {},
     "output_type": "execute_result"
    }
   ],
   "source": [
    "g=descrambler('qeodwnsciseuesincereins',(4,7,12))\n",
    "next(g)"
   ]
  },
  {
   "cell_type": "code",
   "execution_count": 55,
   "metadata": {},
   "outputs": [
    {
     "data": {
      "text/plain": [
       "'one ought cookie'"
      ]
     },
     "execution_count": 55,
     "metadata": {},
     "output_type": "execute_result"
    }
   ],
   "source": [
    "g=descrambler('choeounokeoitg',(3,5,6))\n",
    "next(g)"
   ]
  },
  {
   "cell_type": "code",
   "execution_count": 64,
   "metadata": {},
   "outputs": [
    {
     "data": {
      "text/plain": [
       "'one ought cookie ought cookie ought cookie tough cookie tough cookie cookie'"
      ]
     },
     "execution_count": 64,
     "metadata": {},
     "output_type": "execute_result"
    }
   ],
   "source": [
    "next(g)"
   ]
  },
  {
   "cell_type": "code",
   "execution_count": 27,
   "metadata": {},
   "outputs": [
    {
     "name": "stdout",
     "output_type": "stream",
     "text": [
      "Booom  2 2 one ought cookie\n",
      "Booom  2 2 one tough cookie\n",
      "Booom  2 2 neo ought cookie\n",
      "Booom  2 2 neo tough cookie\n",
      "Wall time: 38.7 s\n"
     ]
    },
    {
     "data": {
      "text/plain": [
       "['one tough cookie',\n",
       " 'neo ought cookie',\n",
       " 'neo tough cookie',\n",
       " 'one ought cookie']"
      ]
     },
     "execution_count": 27,
     "metadata": {},
     "output_type": "execute_result"
    }
   ],
   "source": [
    "\n",
    "%time descrambler('choeounokeoitg',(3,5,6))\n",
    "# %time descrambler('trleeohelh' , k=(5,5))"
   ]
  },
  {
   "cell_type": "code",
   "execution_count": 23,
   "metadata": {},
   "outputs": [
    {
     "ename": "TypeError",
     "evalue": "'int' object is not iterable",
     "output_type": "error",
     "traceback": [
      "\u001b[1;31m---------------------------------------------------------------------------\u001b[0m",
      "\u001b[1;31mTypeError\u001b[0m                                 Traceback (most recent call last)",
      "\u001b[1;32m<ipython-input-23-e734f8aca5ac>\u001b[0m in \u001b[0;36m<module>\u001b[1;34m\u001b[0m\n\u001b[1;32m----> 1\u001b[1;33m \u001b[0mnext\u001b[0m\u001b[1;33m(\u001b[0m\u001b[0mg\u001b[0m\u001b[1;33m)\u001b[0m\u001b[1;33m\u001b[0m\u001b[1;33m\u001b[0m\u001b[0m\n\u001b[0m",
      "\u001b[1;32m<ipython-input-19-b2e902659905>\u001b[0m in \u001b[0;36mdescrambler\u001b[1;34m(w, k)\u001b[0m\n\u001b[0;32m     26\u001b[0m         \u001b[0mres\u001b[0m\u001b[1;33m=\u001b[0m\u001b[1;33m[\u001b[0m\u001b[1;33m]\u001b[0m\u001b[1;33m\u001b[0m\u001b[1;33m\u001b[0m\u001b[0m\n\u001b[0;32m     27\u001b[0m \u001b[1;33m\u001b[0m\u001b[0m\n\u001b[1;32m---> 28\u001b[1;33m         \u001b[1;32mfor\u001b[0m \u001b[0mgap\u001b[0m \u001b[1;32min\u001b[0m \u001b[0mk\u001b[0m\u001b[1;33m:\u001b[0m\u001b[1;33m\u001b[0m\u001b[1;33m\u001b[0m\u001b[0m\n\u001b[0m\u001b[0;32m     29\u001b[0m             \u001b[0men\u001b[0m\u001b[1;33m=\u001b[0m\u001b[0mst\u001b[0m\u001b[1;33m+\u001b[0m\u001b[0mgap\u001b[0m\u001b[1;33m\u001b[0m\u001b[1;33m\u001b[0m\u001b[0m\n\u001b[0;32m     30\u001b[0m             \u001b[1;32mif\u001b[0m \u001b[0ms\u001b[0m\u001b[1;33m[\u001b[0m\u001b[0mst\u001b[0m\u001b[1;33m:\u001b[0m\u001b[0men\u001b[0m\u001b[1;33m]\u001b[0m \u001b[1;32mnot\u001b[0m \u001b[1;32min\u001b[0m \u001b[0mword_map\u001b[0m\u001b[1;33m[\u001b[0m\u001b[0mk\u001b[0m\u001b[1;33m]\u001b[0m\u001b[1;33m:\u001b[0m\u001b[1;33m\u001b[0m\u001b[1;33m\u001b[0m\u001b[0m\n",
      "\u001b[1;31mTypeError\u001b[0m: 'int' object is not iterable"
     ]
    }
   ],
   "source": [
    "next(g)"
   ]
  },
  {
   "cell_type": "code",
   "execution_count": 3,
   "metadata": {},
   "outputs": [],
   "source": [
    "from urllib.request import urlopen\n",
    "u='https://storage.googleapis.com/class-notes-181217.appspot.com/google-10000-english-no-swears.txt'\n",
    "response = urlopen(u)\n",
    "words = [i.strip().decode('utf8') for i in response.readlines()]"
   ]
  },
  {
   "cell_type": "code",
   "execution_count": 47,
   "metadata": {},
   "outputs": [],
   "source": [
    "from collections import Counter\n",
    "\n",
    "def get_average_word_length(words):\n",
    "    ''' This function evaluates the average length of words from input list of words.'''\n",
    "\n",
    "    assert isinstance(words, list)\n",
    "    assert len(words)!=0\n",
    "\n",
    "    cnt_dict = {}\n",
    "    for w in words:\n",
    "        if w==\"\":\n",
    "            continue\n",
    "        assert len(w)>0\n",
    "        if w not in cnt_dict:\n",
    "            cnt_dict[w]=0\n",
    "        cnt_dict[w]+=1\n",
    "    sumi=0\n",
    "    n=0\n",
    "    for w,c in cnt_dict.items():\n",
    "        sumi+=len(w)*c\n",
    "        n+=c\n",
    "    return float(sumi)/n\n",
    "\n",
    "def get_longest_word(words):\n",
    "    ''' This function returns the longst word from given words list.'''\n",
    "\n",
    "    assert isinstance(words,list)\n",
    "    assert len(words)!=0\n",
    "\n",
    "    maxWordLen = 0\n",
    "    longestWord = \"\"\n",
    "    for w in words:\n",
    "        assert isinstance(w,str)\n",
    "        if len(w) >= maxWordLen:\n",
    "            maxWordLen = len(w)\n",
    "            longestWord = w\n",
    "    \n",
    "    assert longestWord!=\"\"\n",
    "    return  longestWord \n",
    " \n",
    "def get_longest_words_startswith(words,start):\n",
    "    ''' This function returns the longest word that starts with given single character \"start\"\n",
    "    from the given words list.\n",
    "    '''\n",
    "\n",
    "    assert isinstance(words,list)\n",
    "    assert len(words)!=0\n",
    "    assert(isinstance(start,str))\n",
    "    \n",
    "    maxWordLen = 0\n",
    "    longestWord = \"\"\n",
    "\n",
    "    for w in words:\n",
    "        assert isinstance(w,str)\n",
    "        if w.startswith(start) and len(w)>=maxWordLen:\n",
    "            maxWordLen=len(w)\n",
    "            longestWord = w\n",
    "            \n",
    "    assert longestWord!=\"\"\n",
    "    return  longestWord \n",
    " \n",
    "def get_most_common_start(words):\n",
    "    ''' This function return the most commmon starting letter in word list.'''\n",
    "\n",
    "    assert isinstance(words,list)\n",
    "    assert len(words)!=0\n",
    "\n",
    "    firstCharList = []\n",
    "    for w in words:\n",
    "        assert isinstance(w,str)\n",
    "        assert len(w) != 0\n",
    "        firstCharList.append(w[0])\n",
    "    return Counter(firstCharList).most_common(1)[0][0]\n",
    "\n",
    "def get_most_common_end(words):\n",
    "    ''' This function return the most commmon ending letter in word list.'''\n",
    "\n",
    "    assert isinstance(words,list)\n",
    "    assert len(words)!=0\n",
    "\n",
    "    lastCharList = []\n",
    "    for w in words:\n",
    "        assert isinstance(w,str)\n",
    "        assert len(w) != 0\n",
    "        lastCharList.append(w[-1])\n",
    "    return Counter(lastCharList).most_common(1)[0][0]"
   ]
  },
  {
   "cell_type": "code",
   "execution_count": 48,
   "metadata": {},
   "outputs": [
    {
     "data": {
      "text/plain": [
       "['the',\n",
       " 'in',\n",
       " 'by',\n",
       " 'it',\n",
       " 'from',\n",
       " 'have',\n",
       " 'we',\n",
       " 'about',\n",
       " 'search',\n",
       " 'other',\n",
       " 'they',\n",
       " 'what',\n",
       " 'use',\n",
       " 'so',\n",
       " 'business',\n",
       " 'help',\n",
       " 'c',\n",
       " 'would',\n",
       " 'services',\n",
       " 'like']"
      ]
     },
     "execution_count": 48,
     "metadata": {},
     "output_type": "execute_result"
    }
   ],
   "source": [
    "words[:100:5]"
   ]
  },
  {
   "cell_type": "code",
   "execution_count": 54,
   "metadata": {},
   "outputs": [
    {
     "data": {
      "text/plain": [
       "'e'"
      ]
     },
     "execution_count": 54,
     "metadata": {},
     "output_type": "execute_result"
    }
   ],
   "source": [
    "get_most_common_end(words[:100:5])"
   ]
  },
  {
   "cell_type": "code",
   "execution_count": 101,
   "metadata": {},
   "outputs": [],
   "source": [
    "class Interval(object):\n",
    "    ''' This class handles Interval data structure and addtion operation for merging them.'''\n",
    "\n",
    "    def __init__(self,a,b):\n",
    "        \"\"\"\n",
    "        :a: integer\n",
    "        :b: integer\n",
    "        \"\"\"\n",
    "        assert a<b\n",
    "        assert isinstance(a,int)\n",
    "        assert isinstance(b,int)\n",
    "        self._a = a\n",
    "        self._b = b\n",
    "\n",
    "    def __repr__(self):\n",
    "        return f\"Interval({self._a},{self._b})\"\n",
    "    def __eq__(self,other):\n",
    "        return self._a == other._a and self._b == other._b\n",
    "    def __lt__(self,other):\n",
    "        return self._b < other._a \n",
    "    def __gt__(self,other):\n",
    "        return self._a > other._b \n",
    "    def __ge__(self,other):\n",
    "        return  self._b > other._a and self._a<other._b \n",
    "    def __le__(self,other):\n",
    "        return self._a < other._a and self._b> other._a\n",
    "    \n",
    "    def __add__(self,other):\n",
    "        assert isinstance(other, Interval)\n",
    "                \n",
    "        if self>other or other>self:\n",
    "            if self>other:\n",
    "                return [other,self]\n",
    "            return [self,other]\n",
    "        else:\n",
    "            left = min(self._a,other._a)\n",
    "            right = max(self._b,other._b)\n",
    "            return Interval(left,right)"
   ]
  },
  {
   "cell_type": "code",
   "execution_count": 102,
   "metadata": {},
   "outputs": [],
   "source": [
    "i1=Interval(4,23)\n",
    "i2=Interval(-10,5)\n",
    "i3=Interval(20,300)"
   ]
  },
  {
   "cell_type": "code",
   "execution_count": 104,
   "metadata": {},
   "outputs": [
    {
     "data": {
      "text/plain": [
       "Interval(-10,23)"
      ]
     },
     "execution_count": 104,
     "metadata": {},
     "output_type": "execute_result"
    }
   ],
   "source": [
    "i2+i1"
   ]
  },
  {
   "cell_type": "code",
   "execution_count": 135,
   "metadata": {},
   "outputs": [
    {
     "name": "stdout",
     "output_type": "stream",
     "text": [
      "5 4\n"
     ]
    }
   ],
   "source": [
    "x=np.ones((2,2))\n",
    "x[0][0]\n",
    "m,n=6,6\n",
    "xi,xj = int(m*random()),int(n*random())\n",
    "print(xi,xj)"
   ]
  },
  {
   "cell_type": "code",
   "execution_count": 31,
   "metadata": {},
   "outputs": [],
   "source": [
    "import numpy as np\n",
    "import random\n",
    "\n",
    "def gen_rand_slash(m=6,n=6,direction='back'):\n",
    "    ''' This function creates a random pixel slash from random pixel \n",
    "    in given direction.\n",
    "\n",
    "    :m: number of rows in image.\n",
    "    :n: number of columns in image.\n",
    "    :direction: direction in which you want to generate the random slash.\n",
    "\n",
    "    '''\n",
    "    assert isinstance(direction,str)\n",
    "    assert direction == 'back' or direction == 'forward'\n",
    "    assert m>=2 and n>=2\n",
    "\n",
    "    x = np.zeros((m,n))\n",
    "    xi,xj = 0,0\n",
    "    \n",
    "    while True:\n",
    "        xi,xj = random.randint(0,m-1),random.randint(0,n-1)\n",
    "        if direction == \"back\" and (xi==0 or xj==0):\n",
    "            continue\n",
    "        elif direction == \"forward\" and (xi==0 or xj==n-1):\n",
    "            continue\n",
    "        else:\n",
    "            break\n",
    "\n",
    "    while m>xi>=0 and 0<=xj<n:\n",
    "        x[xi][xj]=1\n",
    "        if direction=='back':\n",
    "            xi-=1\n",
    "            xj-=1\n",
    "        elif direction == 'forward':\n",
    "            xi-=1\n",
    "            xj+=1\n",
    "    return x"
   ]
  },
  {
   "cell_type": "code",
   "execution_count": 63,
   "metadata": {},
   "outputs": [],
   "source": [
    "def gen_rand_slash(m=6,n=6,direction=\"back\"):\n",
    "    assert isinstance(direction,str)\n",
    "    assert direction == 'back' or direction == 'forward'\n",
    "    assert m>=2 and n>=2\n",
    "    \n",
    "    k = random.randint(-(m-2),(n-2))\n",
    "    x=np.eye(m,n,k)\n",
    "    if direction==\"back\":\n",
    "        return x\n",
    "    else:\n",
    "        \n",
    "        return np.flip(x,1)"
   ]
  },
  {
   "cell_type": "code",
   "execution_count": 1,
   "metadata": {},
   "outputs": [
    {
     "ename": "NameError",
     "evalue": "name 'gen_rand_slash' is not defined",
     "output_type": "error",
     "traceback": [
      "\u001b[1;31m---------------------------------------------------------------------------\u001b[0m",
      "\u001b[1;31mNameError\u001b[0m                                 Traceback (most recent call last)",
      "\u001b[1;32m<ipython-input-1-fc0925fb553c>\u001b[0m in \u001b[0;36m<module>\u001b[1;34m\u001b[0m\n\u001b[0;32m      3\u001b[0m \u001b[0mfig\u001b[0m\u001b[1;33m,\u001b[0m\u001b[0maxs\u001b[0m\u001b[1;33m=\u001b[0m\u001b[0msubplots\u001b[0m\u001b[1;33m(\u001b[0m\u001b[1;36m3\u001b[0m\u001b[1;33m,\u001b[0m\u001b[1;36m3\u001b[0m\u001b[1;33m,\u001b[0m\u001b[0msharex\u001b[0m\u001b[1;33m=\u001b[0m\u001b[1;32mTrue\u001b[0m\u001b[1;33m,\u001b[0m\u001b[0msharey\u001b[0m\u001b[1;33m=\u001b[0m\u001b[1;32mTrue\u001b[0m\u001b[1;33m)\u001b[0m\u001b[1;33m\u001b[0m\u001b[1;33m\u001b[0m\u001b[0m\n\u001b[0;32m      4\u001b[0m \u001b[1;32mfor\u001b[0m \u001b[0max\u001b[0m \u001b[1;32min\u001b[0m \u001b[0maxs\u001b[0m\u001b[1;33m.\u001b[0m\u001b[0mflatten\u001b[0m\u001b[1;33m(\u001b[0m\u001b[1;33m)\u001b[0m\u001b[1;33m:\u001b[0m\u001b[1;33m\u001b[0m\u001b[1;33m\u001b[0m\u001b[0m\n\u001b[1;32m----> 5\u001b[1;33m     \u001b[0my\u001b[0m\u001b[1;33m=\u001b[0m\u001b[0mgen_rand_slash\u001b[0m\u001b[1;33m(\u001b[0m\u001b[0mdirection\u001b[0m\u001b[1;33m=\u001b[0m\u001b[1;34m\"forward\"\u001b[0m\u001b[1;33m)\u001b[0m\u001b[1;33m\u001b[0m\u001b[1;33m\u001b[0m\u001b[0m\n\u001b[0m\u001b[0;32m      6\u001b[0m     \u001b[0max\u001b[0m\u001b[1;33m.\u001b[0m\u001b[0mimshow\u001b[0m\u001b[1;33m(\u001b[0m\u001b[0my\u001b[0m\u001b[1;33m,\u001b[0m\u001b[0mcmap\u001b[0m\u001b[1;33m=\u001b[0m\u001b[0mcm\u001b[0m\u001b[1;33m.\u001b[0m\u001b[0mgray_r\u001b[0m\u001b[1;33m)\u001b[0m\u001b[1;33m\u001b[0m\u001b[1;33m\u001b[0m\u001b[0m\n",
      "\u001b[1;31mNameError\u001b[0m: name 'gen_rand_slash' is not defined"
     ]
    },
    {
     "data": {
      "image/png": "[encoded data removed]",
      "text/plain": [
       "<Figure size 432x288 with 9 Axes>"
      ]
     },
     "metadata": {
      "needs_background": "light"
     },
     "output_type": "display_data"
    }
   ],
   "source": [
    "from matplotlib.pylab import subplots,cm\n",
    "\n",
    "fig,axs=subplots(3,3,sharex=True,sharey=True)\n",
    "for ax in axs.flatten():\n",
    "    y=gen_rand_slash(direction=\"forward\")\n",
    "    ax.imshow(y,cmap=cm.gray_r)"
   ]
  },
  {
   "cell_type": "code",
   "execution_count": 33,
   "metadata": {},
   "outputs": [],
   "source": [
    "import os\n",
    "\n",
    "def split_by_n(fname,n=3):\n",
    "    \"\"\"This function divides the file into equal-sized n chunks\n",
    "    such that no lines are truncated. \n",
    "\n",
    "    Args:\n",
    "        fname (str): filepath for source txt file\n",
    "        n (int, optional): Number of splits to be created. Defaults to 3.\n",
    "    \"\"\"\n",
    "\n",
    "    assert isinstance(fname,str), \"Checks whether the file path is string or not.\"\n",
    "    assert os.path.exists(fname), \"File not found in the given path\"\n",
    "    assert isinstance(n, int), \"Chunk size must be integer\"\n",
    "    assert n>0, \"Chunks can't be less than or equal to 0\"\n",
    "\n",
    "    chunkSize = os.path.getsize(fname)/n\n",
    "    currChunkSize = 0\n",
    "    newFileFlag = 1\n",
    "    c=0\n",
    "\n",
    "    with open(fname,\"r\") as f:    \n",
    "        while c<n:\n",
    "            l = f.readline()\n",
    "            if len(l)==0:\n",
    "                break\n",
    "\n",
    "            if currChunkSize+len(l)>chunkSize and c!=n-1:\n",
    "                c+=1\n",
    "                newFileFlag=1\n",
    "                currChunkSize=0\n",
    "\n",
    "            if newFileFlag:\n",
    "                targetFile = open(fname+f\"_{c:03d}.txt\",\"a\")\n",
    "\n",
    "            currChunkSize+=len(l)\n",
    "            targetFile.write(l)\n",
    "        \n"
   ]
  },
  {
   "cell_type": "code",
   "execution_count": 35,
   "metadata": {},
   "outputs": [],
   "source": [
    "split_n(\"pg5200.txt\")"
   ]
  },
  {
   "cell_type": "code",
   "execution_count": 2,
   "metadata": {},
   "outputs": [],
   "source": [
    "import re,string\n",
    "\n",
    "def encrypt_message(message, fname):\n",
    "    \"\"\"Given `message`, which is a lowercase string without any punctuation, and `fname` which is the\n",
    "    name of a text file source for the codebook, generate a sequence of 2-tuples that\n",
    "    represents the `(line number, word number)` of each word in the message. The output is a list\n",
    "    of 2-tuples for the entire message. Repeated words in the message should not have the same 2-tuple. \n",
    "\n",
    "    Args:\n",
    "        message ([str]): [given message to be encrypted]\n",
    "        fname ([str]): [given filename for codebook]\n",
    "    \n",
    "    Returns:\n",
    "        [list]: [encrypted message 2-tuple list]\n",
    "    \"\"\"\n",
    "\n",
    "    assert isinstance(message,str), \"Check whether message is string or not.\"\n",
    "    assert isinstance(fname,str), \"Checks whether the file path is string or not.\"\n",
    "    assert os.path.exists(fname), \"File not found in the given path.\"\n",
    "\n",
    "    with open(fname,\"r\") as f:\n",
    "        mapi={}\n",
    "        cnt=1\n",
    "        p = re.compile(\"[%s]\"% re.escape(string.punctuation))\n",
    "        \n",
    "        while True:\n",
    "            line = f.readline()\n",
    "            if line==\"\":\n",
    "                break\n",
    "            line=p.sub('',line).lower()\n",
    "            for i,w in enumerate(line.split(\" \")):\n",
    "                mapi[w]=(cnt,i+1)\n",
    "            \n",
    "            cnt+=1\n",
    "    encrypted = []\n",
    "    for w in message.split(\" \"):\n",
    "        assert w in mapi.keys(), \"word in message is not in file.txt\"\n",
    "        encrypted.append(mapi[w])\n",
    "    return encrypted\n",
    "\n",
    "def decrypt_message(inlist,fname):\n",
    "    \"\"\"Given `inlist`, which is a list of 2-tuples`fname` which is the\n",
    "    name of a text file source for the codebook, return the encrypted message.\n",
    "\n",
    "    Args:\n",
    "        inlist ([list]): [list of words to be decrypted]\n",
    "        fname ([str]): [given filename for codebook]\n",
    "\n",
    "    Returns:\n",
    "        [str]: [decrypted message]\n",
    "    \"\"\"\n",
    "    mapi={}\n",
    "    with open(fname,\"r\") as f:\n",
    "        mapi={}\n",
    "        cnt=1\n",
    "        p = re.compile(\"[%s]\"% re.escape(string.punctuation))\n",
    "        p = re.compile(f\"[{re.escape(string.punctuation)}]\")\n",
    "        while True:\n",
    "            line = f.readline()\n",
    "            if line==\"\":\n",
    "                break\n",
    "            line=p.sub('',line).lower()            \n",
    "            mapi[cnt]=line.split(\" \")\n",
    "            cnt+=1\n",
    "    \n",
    "    decrypted=[]\n",
    "    for line,wcount in inlist:\n",
    "        assert line in mapi.keys(), \"check whether valid line number is provided or not\"\n",
    "        assert wcount-1 <len(mapi[line]), \"check whether valid word number is provided or not\"\n",
    "        decrypted.append(mapi[line][wcount-1])\n",
    "    return \" \".join(decrypted)\n",
    "\n",
    "\n",
    "\n",
    "\n",
    "            "
   ]
  },
  {
   "cell_type": "code",
   "execution_count": 3,
   "metadata": {},
   "outputs": [
    {
     "data": {
      "text/plain": [
       "'let us not say we met late at the night about the secret'"
      ]
     },
     "execution_count": 3,
     "metadata": {},
     "output_type": "execute_result"
    }
   ],
   "source": [
    "l=encrypt_message(\"let us not say we met late at the night about the secret\",\"pg5200.txt\")\n",
    "decrypt_message(l,\"pg5200.txt\")"
   ]
  },
  {
   "cell_type": "code",
   "execution_count": 26,
   "metadata": {},
   "outputs": [],
   "source": [
    "import random\n",
    "from collections import Counter,defaultdict\n",
    "\n",
    "def multinomial_sample(n,p,k=1):\n",
    "    \"\"\"Return samples from a multinomial distribution.\n",
    "\n",
    "    Args:\n",
    "        n (int): number of trials.\n",
    "        p (list): list of probabilities.\n",
    "        k (int, optional): number of desired samples. Defaults to 1.\n",
    "\n",
    "    Returns:\n",
    "        list: Returns list of sample counts from the multinomial distribution.\n",
    "    \"\"\"\n",
    "\n",
    "    assert isinstance(n,int), \"check whehter n is not integer\"\n",
    "    assert isinstance(p,list), \"check whether probability is not a list\"\n",
    "    assert isinstance(k,int), \"check whether k is integer or not\"\n",
    "    assert sum(p)==1, \"check whether sum of probability is 1.0 or not\"\n",
    "    assert k>0, \"check that number of samples requested are >1\"\n",
    "    \n",
    "    samples=[]\n",
    "    for _ in range(k):\n",
    "        sample = random.choices(range(len(p)),p,k=n)        \n",
    "        sampleCount = [0]*len(p)\n",
    "\n",
    "        for key,value in Counter(sample).items():\n",
    "            sampleCount[key]=value\n",
    "\n",
    "        samples.append(sampleCount)\n",
    "        \n",
    "    return samples"
   ]
  },
  {
   "cell_type": "code",
   "execution_count": 27,
   "metadata": {},
   "outputs": [
    {
     "data": {
      "text/plain": [
       "[[0, 0, 2, 0], [0, 0, 2, 0], [2, 0, 0, 0]]"
      ]
     },
     "execution_count": 27,
     "metadata": {},
     "output_type": "execute_result"
    }
   ],
   "source": [
    "# multinomial_sample(10,[1/3,1/3,1/3],k=10)\n",
    "multinomial_sample(2,[0.5,0,0.5,0],k=3)"
   ]
  },
  {
   "cell_type": "code",
   "execution_count": 7,
   "metadata": {},
   "outputs": [],
   "source": [
    "\n",
    "# x=x['Is there anything in particular you want to use Python for?']"
   ]
  },
  {
   "cell_type": "code",
   "execution_count": null,
   "metadata": {},
   "outputs": [
    {
     "name": "stdout",
     "output_type": "stream",
     "text": [
      "5\n"
     ]
    }
   ],
   "source": [
    "print(num_pairs([3,5,1,7,8,10,62,13]))"
   ]
  },
  {
   "cell_type": "code",
   "execution_count": 5,
   "metadata": {},
   "outputs": [],
   "source": [
    "import pandas as pd\n",
    "import numpy as np\n",
    "\n",
    "\n",
    "def split_count(x):\n",
    "    \"\"\"Ths function splits the DataSeries column with multiple comma-separated values into dataframe with count of individual unique values. \n",
    "\n",
    "    Args:\n",
    "        x (Pandas Series): Series column with multiple comma-separated values\n",
    "\n",
    "    Returns:\n",
    "        Pandas Dataframe: Dataframe with count for each value repeated in column\n",
    "    \"\"\"\n",
    "\n",
    "    assert isinstance(x, pd.core.series.Series)\n",
    "\n",
    "    t = x.str.split(\",\")\n",
    "    def randooo(x):\n",
    "        return \"aditya\"\n",
    "    df = pd.DataFrame({\"survey_data\": t, \"count\": t.apply(randooo)})\n",
    "\n",
    "    exploded_df = df.explode(\"survey_data\")\n",
    "    exploded_df.survey_data = exploded_df.survey_data.str.strip()\n",
    "    grp_df = (\n",
    "        exploded_df.groupby([\"survey_data\"])[\"count\"].count().sort_values().to_frame()\n",
    "    )\n",
    "    grp_df.index.name = None\n",
    "\n",
    "    return grp_df\n"
   ]
  },
  {
   "cell_type": "code",
   "execution_count": 6,
   "metadata": {},
   "outputs": [
    {
     "data": {
      "text/html": [
       "<div>\n",
       "<style scoped>\n",
       "    .dataframe tbody tr th:only-of-type {\n",
       "        vertical-align: middle;\n",
       "    }\n",
       "\n",
       "    .dataframe tbody tr th {\n",
       "        vertical-align: top;\n",
       "    }\n",
       "\n",
       "    .dataframe thead th {\n",
       "        text-align: right;\n",
       "    }\n",
       "</style>\n",
       "<table border=\"1\" class=\"dataframe\">\n",
       "  <thead>\n",
       "    <tr style=\"text-align: right;\">\n",
       "      <th></th>\n",
       "      <th>count</th>\n",
       "    </tr>\n",
       "  </thead>\n",
       "  <tbody>\n",
       "    <tr>\n",
       "      <th>All of the above</th>\n",
       "      <td>1</td>\n",
       "    </tr>\n",
       "    <tr>\n",
       "      <th>As a general skill</th>\n",
       "      <td>1</td>\n",
       "    </tr>\n",
       "    <tr>\n",
       "      <th>Computer Vision</th>\n",
       "      <td>1</td>\n",
       "    </tr>\n",
       "    <tr>\n",
       "      <th>Computer vision</th>\n",
       "      <td>1</td>\n",
       "    </tr>\n",
       "    <tr>\n",
       "      <th>Computer vision/image processing</th>\n",
       "      <td>1</td>\n",
       "    </tr>\n",
       "    <tr>\n",
       "      <th>EDA tools</th>\n",
       "      <td>1</td>\n",
       "    </tr>\n",
       "    <tr>\n",
       "      <th>Image Processing</th>\n",
       "      <td>1</td>\n",
       "    </tr>\n",
       "    <tr>\n",
       "      <th>not sure</th>\n",
       "      <td>1</td>\n",
       "    </tr>\n",
       "    <tr>\n",
       "      <th>scripting seems desirable for many jobs</th>\n",
       "      <td>1</td>\n",
       "    </tr>\n",
       "    <tr>\n",
       "      <th>Web development</th>\n",
       "      <td>104</td>\n",
       "    </tr>\n",
       "    <tr>\n",
       "      <th>Numerical processing</th>\n",
       "      <td>173</td>\n",
       "    </tr>\n",
       "    <tr>\n",
       "      <th>Scientific visualization</th>\n",
       "      <td>198</td>\n",
       "    </tr>\n",
       "    <tr>\n",
       "      <th>Statistical analysis</th>\n",
       "      <td>222</td>\n",
       "    </tr>\n",
       "    <tr>\n",
       "      <th>Data extraction and processing</th>\n",
       "      <td>291</td>\n",
       "    </tr>\n",
       "    <tr>\n",
       "      <th>Data analytics</th>\n",
       "      <td>351</td>\n",
       "    </tr>\n",
       "    <tr>\n",
       "      <th>Machine learning</th>\n",
       "      <td>381</td>\n",
       "    </tr>\n",
       "  </tbody>\n",
       "</table>\n",
       "</div>"
      ],
      "text/plain": [
       "                                         count\n",
       "All of the above                             1\n",
       "As a general skill                           1\n",
       "Computer Vision                              1\n",
       "Computer vision                              1\n",
       "Computer vision/image processing             1\n",
       "EDA tools                                    1\n",
       "Image Processing                             1\n",
       "not sure                                     1\n",
       "scripting seems desirable for many jobs      1\n",
       "Web development                            104\n",
       "Numerical processing                       173\n",
       "Scientific visualization                   198\n",
       "Statistical analysis                       222\n",
       "Data extraction and processing             291\n",
       "Data analytics                             351\n",
       "Machine learning                           381"
      ]
     },
     "execution_count": 6,
     "metadata": {},
     "output_type": "execute_result"
    }
   ],
   "source": [
    "df=pd.read_csv(\"survey_data.csv\")\n",
    "df.columns\n",
    "\n",
    "split_count(df['Is there anything in particular you want to use Python for?'])"
   ]
  },
  {
   "cell_type": "code",
   "execution_count": 50,
   "metadata": {},
   "outputs": [],
   "source": [
    "import pandas as pd\n",
    "\n",
    "\n",
    "def add_month_yr(x):\n",
    "    \"\"\"This function takes survey data frame and creates a dataframe with time stamp as re-formatted to month-year format with ID as index.\n",
    "\n",
    "    Args:\n",
    "        x (pd.DataFrame): survey data dataframe\n",
    "\n",
    "    Returns:\n",
    "        pd.DataFrame: Time dataframe with reformatted column\n",
    "    \"\"\"\n",
    "\n",
    "    assert (\n",
    "        \"Timestamp\" in x.columns\n",
    "    ), \"Checks whether Timestamp column is present or not.\"\n",
    "    assert (\n",
    "        x.Timestamp.isnull().sum() == 0\n",
    "    ), \"Check whether Timestamp column is null or not.\"\n",
    "\n",
    "    x.Timestamp = pd.to_datetime(x.Timestamp, infer_datetime_format=True)\n",
    "    x[\"month-yr\"] = x.Timestamp.dt.strftime(\"%b-%Y\")\n",
    "    time_df = x[[\"month-yr\", \"ID\"]]\n",
    "    time_df = time_df.set_index(\"ID\")\n",
    "\n",
    "    return time_df\n"
   ]
  },
  {
   "cell_type": "code",
   "execution_count": 45,
   "metadata": {},
   "outputs": [],
   "source": [
    "import pandas as pd\n",
    "\n",
    "def count_month_yr(x):\n",
    "    \"\"\"This function counts the months-year from previous datframe obtained.\n",
    "\n",
    "    Args:\n",
    "        x (pd.DataFrame): survey-data dataframe\n",
    "\n",
    "    Returns:\n",
    "        pd.DataFrame: Dataframe with month-yr count\n",
    "    \"\"\"\n",
    "\n",
    "    assert isinstance(x,pd.DataFrame)  \n",
    "\n",
    "    month_df = x\n",
    "    if \"month-yr\" not in x.columns:\n",
    "        month_df = add_month_yr(x)\n",
    "    month_df[\"Timestamp\"] = pd.to_datetime(month_df[\"month-yr\"])\n",
    "    \n",
    "\n",
    "    return month_df.to_frame()\n"
   ]
  },
  {
   "cell_type": "code",
   "execution_count": 132,
   "metadata": {},
   "outputs": [],
   "source": [
    "df=pd.read_csv(\"survey_data.csv\")\n",
    "month_df=add_month_yr(df)\n",
    "\n",
    "month_df[\"Timestamp\"] = pd.to_datetime(month_df[\"month-yr\"])\n",
    "# month_df['Timestamp']=month_df['Timestamp'].astype(\"category\")\n",
    "sorted_months_yrs = list(pd.to_datetime(month_df[\"Timestamp\"].unique()).strftime(\"%b-%Y\"))\n",
    "\n",
    "df[\"month-yr\"] = pd.Categorical(df[\"month-yr\"],categories=sorted_months_yrs,ordered=True)\n"
   ]
  },
  {
   "cell_type": "code",
   "execution_count": 8,
   "metadata": {},
   "outputs": [],
   "source": [
    "import pandas as pd\n",
    "\n",
    "\n",
    "def add_month_yr(x):\n",
    "    \"\"\"This function takes survey data frame and creates a dataframe with time stamp as re-formatted to month-year format with ID as index.\n",
    "\n",
    "    Args:\n",
    "        x (pd.DataFrame): survey data dataframe\n",
    "\n",
    "    Returns:\n",
    "        pd.DataFrame: Time dataframe with reformatted column\n",
    "    \"\"\"\n",
    "\n",
    "    assert (\n",
    "        \"Timestamp\" in x.columns\n",
    "    ), \"Checks whether Timestamp column is present or not.\"\n",
    "    assert (\n",
    "        x.Timestamp.isnull().sum() == 0\n",
    "    ), \"Check whether Timestamp column is null or not.\"\n",
    "\n",
    "    x.Timestamp = pd.to_datetime(x.Timestamp, infer_datetime_format=True)\n",
    "    x[\"month-yr\"] = x.Timestamp.dt.strftime(\"%b-%Y\")\n",
    "    time_df = x[[\"month-yr\", \"ID\"]]\n",
    "    time_df = time_df.set_index(\"ID\")\n",
    "\n",
    "    return time_df\n",
    "\n",
    "\n",
    "def fix_categorical(x):\n",
    "    \"\"\" This function takes the month-yr dataframe column and then return the same dataframe with an updated column of CategoricalDtype that does the sorting based on month-yr index.\n",
    "\n",
    "    Args:\n",
    "        x (pd.DataFrame): survey-data dataframe\n",
    "\n",
    "    Returns:\n",
    "        pd.DataFrame: Dataframe with fixed updated column\n",
    "    \"\"\"\n",
    "\n",
    "    assert isinstance(x, pd.DataFrame), \"Check whether x is dataframe or not\"\n",
    "\n",
    "    month_df = x\n",
    "    if \"month-yr\" not in x.columns:\n",
    "        month_df = add_month_yr(x)\n",
    "    month_df[\"Timestamp\"] = pd.to_datetime(month_df[\"month-yr\"])\n",
    "    sorted_months_yrs = list(\n",
    "        pd.to_datetime(month_df[\"Timestamp\"].unique()).strftime(\"%b-%Y\")\n",
    "    )\n",
    "    x[\"month-yr\"] = pd.Categorical(\n",
    "        x[\"month-yr\"], categories=sorted_months_yrs, ordered=True\n",
    "    )\n",
    "\n",
    "    return x\n"
   ]
  },
  {
   "cell_type": "code",
   "execution_count": 11,
   "metadata": {},
   "outputs": [
    {
     "data": {
      "text/html": [
       "<div>\n",
       "<style scoped>\n",
       "    .dataframe tbody tr th:only-of-type {\n",
       "        vertical-align: middle;\n",
       "    }\n",
       "\n",
       "    .dataframe tbody tr th {\n",
       "        vertical-align: top;\n",
       "    }\n",
       "\n",
       "    .dataframe thead th {\n",
       "        text-align: right;\n",
       "    }\n",
       "</style>\n",
       "<table border=\"1\" class=\"dataframe\">\n",
       "  <thead>\n",
       "    <tr style=\"text-align: right;\">\n",
       "      <th></th>\n",
       "      <th>Timestamp</th>\n",
       "    </tr>\n",
       "    <tr>\n",
       "      <th>month-yr</th>\n",
       "      <th></th>\n",
       "    </tr>\n",
       "  </thead>\n",
       "  <tbody>\n",
       "    <tr>\n",
       "      <th>Sep-2017</th>\n",
       "      <td>74</td>\n",
       "    </tr>\n",
       "    <tr>\n",
       "      <th>Jan-2018</th>\n",
       "      <td>148</td>\n",
       "    </tr>\n",
       "    <tr>\n",
       "      <th>Feb-2018</th>\n",
       "      <td>2</td>\n",
       "    </tr>\n",
       "    <tr>\n",
       "      <th>Mar-2018</th>\n",
       "      <td>41</td>\n",
       "    </tr>\n",
       "    <tr>\n",
       "      <th>Apr-2018</th>\n",
       "      <td>28</td>\n",
       "    </tr>\n",
       "    <tr>\n",
       "      <th>Sep-2018</th>\n",
       "      <td>130</td>\n",
       "    </tr>\n",
       "    <tr>\n",
       "      <th>Oct-2018</th>\n",
       "      <td>6</td>\n",
       "    </tr>\n",
       "    <tr>\n",
       "      <th>Jan-2019</th>\n",
       "      <td>57</td>\n",
       "    </tr>\n",
       "  </tbody>\n",
       "</table>\n",
       "</div>"
      ],
      "text/plain": [
       "          Timestamp\n",
       "month-yr           \n",
       "Sep-2017         74\n",
       "Jan-2018        148\n",
       "Feb-2018          2\n",
       "Mar-2018         41\n",
       "Apr-2018         28\n",
       "Sep-2018        130\n",
       "Oct-2018          6\n",
       "Jan-2019         57"
      ]
     },
     "execution_count": 11,
     "metadata": {},
     "output_type": "execute_result"
    }
   ],
   "source": [
    "df=pd.read_csv(\"survey_data.csv\")\n",
    "df=fix_categorical(add_month_yr(df))\n",
    "# df.dtypes\n",
    "df.groupby('month-yr')['Timestamp'].count().to_frame().sort_index() \n",
    "# df.head()"
   ]
  },
  {
   "cell_type": "code",
   "execution_count": 1,
   "metadata": {},
   "outputs": [],
   "source": [
    "class Rational:\n",
    "    \"\"\" Class implements rational numbers (ratio of integers).\"\"\"\n",
    "\n",
    "    def __init__(self, num, dnm):\n",
    "        \"\"\"Intializes Rational number object; assigning numerator and denominator in appropriate fields.\n",
    "\n",
    "        Args:\n",
    "            num (int): Numerator of Rational Number\n",
    "            dnm (int): Denominator of Rational Number\n",
    "        \"\"\"\n",
    "\n",
    "        assert isinstance(num, int), \"Check whether numerator is integer or not\" \n",
    "        assert isinstance(dnm, int), \"Check whether denominator is integer or not\" \n",
    "        \n",
    "        self.num = num\n",
    "        self.dnm = dnm\n",
    "\n",
    "    def __repr__(self):\n",
    "        if self.dnm != 1:\n",
    "            return f\"{self.num}/{self.dnm}\"\n",
    "        else:\n",
    "            return f\"{self.num}\"\n",
    "\n",
    "    def compute_hcf(self,x, y):\n",
    "        while y:\n",
    "            x, y = y, x % y\n",
    "        return x\n",
    "\n",
    "    def simplest_form(self, rat):\n",
    "\n",
    "        assert isinstance(rat, Rational), \" Check whether the class of rat is Rational\"\n",
    "        \n",
    "        hcf = self.compute_hcf(min(rat.num, rat.dnm), max(rat.num, rat.dnm))\n",
    "        rat.num //= hcf\n",
    "        rat.dnm //= hcf\n",
    "\n",
    "        return rat\n",
    "\n",
    "    def __float__(self):\n",
    "        return self.num / self.dnm\n",
    "\n",
    "    def __int__(self):\n",
    "        return self.num // self.dnm\n",
    "\n",
    "    def __neg__(self):\n",
    "        self.num = -1 * self.num\n",
    "        return self\n",
    "\n",
    "    def __mul__(self, other):\n",
    "\n",
    "        if isinstance(other, Rational):\n",
    "            return Rational(self.num * other.num, self.dnm * other.dnm)\n",
    "        else:\n",
    "            assert isinstance(other, int), \" Check whether the other is int or not.\"\n",
    "            return self.simplest_form(Rational(self.num * other, self.dnm))\n",
    "    \n",
    "    def __rmul__(self, other):\n",
    "    \n",
    "        if isinstance(other, Rational):\n",
    "            return Rational(self.num * other.num, self.dnm * other.dnm)\n",
    "        else:\n",
    "            assert isinstance(other, int), \" Check whether the other is int or not.\"\n",
    "            return self.simplest_form(Rational(self.num * other, self.dnm))\n",
    "\n",
    "    def __truediv__(self, other):\n",
    "        if isinstance(other, Rational):\n",
    "            return self.simplest_form(\n",
    "                Rational(self.num * other.dnm, self.dnm * other.num)\n",
    "            )\n",
    "        else:\n",
    "            assert isinstance(other, int), \" Check whether the other is int or not.\"\n",
    "            assert other!=0, \"Division by zero not allowed.\"\n",
    "            return self.simplest_form(Rational(self.num, other * self.dnm))\n",
    "\n",
    "    def __rtruediv__(self, other):\n",
    "        assert isinstance(other, int), \" Check whether the 2nd operand is int or not.\"\n",
    "        return Rational(other * self.dnm, self.num)\n",
    "\n",
    "    def __add__(self, other):\n",
    "        if isinstance(other,Rational):\n",
    "            num_new = (self.num * other.dnm) + (other.num * self.dnm)\n",
    "            dnm_new = self.dnm * other.dnm            \n",
    "        else:\n",
    "            assert isinstance(other, int), \" Check whether the 2nd operand is int or not.\"\n",
    "            return self.__add__(Rational(other,1))\n",
    "            \n",
    "\n",
    "        return self.simplest_form(Rational(num_new, dnm_new))\n",
    "\n",
    "    def __sub__(self, other):\n",
    "        if isinstance(other,Rational):\n",
    "            num_new = (self.num * other.dnm) - (other.num * self.dnm)\n",
    "            dnm_new = self.dnm * other.dnm\n",
    "        else:\n",
    "            assert isinstance(other, int), \" Check whether the 2nd operand is int or not.\"\n",
    "            return self.__sub__(Rational(other,1))\n",
    "\n",
    "        return self.simplest_form(Rational(num_new, dnm_new))\n",
    "\n",
    "    def __lt__(self, other):\n",
    "        return (self.num * other.dnm) < (other.num * self.dnm)\n",
    "\n",
    "    def __le__(self, other):\n",
    "        return (self.num * other.dnm) <= (other.num * self.dnm)\n",
    "\n",
    "    def __gt__(self, other):\n",
    "        return (self.num * other.dnm) > (other.num * self.dnm)\n",
    "\n",
    "    def __ge__(self, other):\n",
    "        return (self.num * other.dnm) >= (other.num * self.dnm)    \n",
    "\n",
    "    def __eq__(self, other):\n",
    "        \n",
    "        assert isinstance(other,Rational), \"Check whether the 2nd operand is Rtional or not.\"\n",
    "        assert isinstance(self,Rational), \"Check whether the 1st operand is Rtional or not.\"\n",
    "\n",
    "        s1 = self.simplest_form(self)\n",
    "        s2 = self.simplest_form(other)\n",
    "\n",
    "        return s1.num == s2.num and s1.dnm == s2.dnm\n",
    "    def __abs__(self):\n",
    "        if self.num<0:\n",
    "            return -1*self\n",
    "        return self\n"
   ]
  },
  {
   "cell_type": "code",
   "execution_count": 5,
   "metadata": {},
   "outputs": [
    {
     "data": {
      "text/plain": [
       "3/4"
      ]
     },
     "execution_count": 5,
     "metadata": {},
     "output_type": "execute_result"
    }
   ],
   "source": [
    "abs(Rational(-3,4))"
   ]
  },
  {
   "cell_type": "code",
   "execution_count": 41,
   "metadata": {},
   "outputs": [
    {
     "data": {
      "text/plain": [
       "-3/10"
      ]
     },
     "execution_count": 41,
     "metadata": {},
     "output_type": "execute_result"
    }
   ],
   "source": [
    "r = Rational(3,4)\n",
    "-1/(Rational(10,3))"
   ]
  },
  {
   "cell_type": "code",
   "execution_count": 42,
   "metadata": {},
   "outputs": [
    {
     "data": {
      "text/plain": [
       "-1.3333333333333333"
      ]
     },
     "execution_count": 42,
     "metadata": {},
     "output_type": "execute_result"
    }
   ],
   "source": [
    "float(-1/r)"
   ]
  },
  {
   "cell_type": "code",
   "execution_count": 43,
   "metadata": {},
   "outputs": [
    {
     "data": {
      "text/plain": [
       "3"
      ]
     },
     "execution_count": 43,
     "metadata": {},
     "output_type": "execute_result"
    }
   ],
   "source": [
    "int(Rational(10,3))"
   ]
  },
  {
   "cell_type": "code",
   "execution_count": 44,
   "metadata": {},
   "outputs": [
    {
     "data": {
      "text/plain": [
       "977/24"
      ]
     },
     "execution_count": 44,
     "metadata": {},
     "output_type": "execute_result"
    }
   ],
   "source": [
    "Rational(10,3) * Rational(101,8) - Rational(11,8)"
   ]
  },
  {
   "cell_type": "code",
   "execution_count": 45,
   "metadata": {},
   "outputs": [
    {
     "data": {
      "text/plain": [
       "[1/100, 9/8, 10/3, 10]"
      ]
     },
     "execution_count": 45,
     "metadata": {},
     "output_type": "execute_result"
    }
   ],
   "source": [
    "sorted([Rational(10,3),Rational(9,8), Rational(10,1), Rational(1,100)])"
   ]
  },
  {
   "cell_type": "code",
   "execution_count": 46,
   "metadata": {},
   "outputs": [
    {
     "data": {
      "text/plain": [
       "222183135/290480806"
      ]
     },
     "execution_count": 46,
     "metadata": {},
     "output_type": "execute_result"
    }
   ],
   "source": [
    "Rational(12345,128191) + Rational(101,103) * 30/ 44"
   ]
  },
  {
   "cell_type": "code",
   "execution_count": 3,
   "metadata": {},
   "outputs": [],
   "source": [
    "class Rational:\n",
    "    \"\"\" Class implements rational numbers (ratio of integers).\"\"\"\n",
    "\n",
    "    def __init__(self, num, dnm):\n",
    "        \"\"\"Intializes Rational number object; assigning numerator and denominator in appropriate fields.\n",
    "\n",
    "        Args:\n",
    "            num (int): Numerator of Rational Number\n",
    "            dnm (int): Denominator of Rational Number\n",
    "        \"\"\"\n",
    "\n",
    "        assert isinstance(num, int), \"Check whether numerator is integer or not\"\n",
    "        assert isinstance(dnm, int), \"Check whether denominator is integer or not\"\n",
    "\n",
    "        self.num = num\n",
    "        self.dnm = dnm\n",
    "\n",
    "    def __repr__(self):\n",
    "        if self.dnm != 1:\n",
    "            return f\"{self.num}/{self.dnm}\"\n",
    "        else:\n",
    "            return f\"{self.num}\"\n",
    "\n",
    "    def compute_hcf(self, x, y):\n",
    "        while y:\n",
    "            x, y = y, x % y\n",
    "        return x\n",
    "\n",
    "    def simplest_form(self, rat):\n",
    "\n",
    "        assert isinstance(rat, Rational), \" Check whether the class of rat is Rational\"\n",
    "\n",
    "        hcf = self.compute_hcf(min(rat.num, rat.dnm), max(rat.num, rat.dnm))\n",
    "        rat.num //= hcf\n",
    "        rat.dnm //= hcf\n",
    "\n",
    "        return rat\n",
    "\n",
    "    def __float__(self):\n",
    "        return self.num / self.dnm\n",
    "\n",
    "    def __int__(self):\n",
    "        return self.num // self.dnm\n",
    "\n",
    "    def __neg__(self):\n",
    "        self.num = -1 * self.num\n",
    "        return self\n",
    "\n",
    "    def __mul__(self, other):\n",
    "\n",
    "        if isinstance(other, Rational):\n",
    "            return Rational(self.num * other.num, self.dnm * other.dnm)\n",
    "        else:\n",
    "            assert isinstance(other, int), \" Check whether the other is int or not.\"\n",
    "            return self.simplest_form(Rational(self.num * other, self.dnm))\n",
    "\n",
    "    def __rmul__(self, other):\n",
    "\n",
    "        if isinstance(other, Rational):\n",
    "            return Rational(self.num * other.num, self.dnm * other.dnm)\n",
    "        else:\n",
    "            assert isinstance(other, int), \" Check whether the other is int or not.\"\n",
    "            return self.simplest_form(Rational(self.num * other, self.dnm))\n",
    "\n",
    "    def __truediv__(self, other):\n",
    "        if isinstance(other, Rational):\n",
    "            return self.simplest_form(\n",
    "                Rational(self.num * other.dnm, self.dnm * other.num)\n",
    "            )\n",
    "        else:\n",
    "            assert isinstance(other, int), \" Check whether the other is int or not.\"\n",
    "            assert other != 0, \"Division by zero not allowed.\"\n",
    "            return self.simplest_form(Rational(self.num, other * self.dnm))\n",
    "\n",
    "    def __rtruediv__(self, other):\n",
    "        assert isinstance(other, int), \" Check whether the 2nd operand is int or not.\"\n",
    "        return Rational(other * self.dnm, self.num)\n",
    "\n",
    "    def __add__(self, other):\n",
    "        if isinstance(other, Rational):\n",
    "            num_new = (self.num * other.dnm) + (other.num * self.dnm)\n",
    "            dnm_new = self.dnm * other.dnm\n",
    "        else:\n",
    "            assert isinstance(\n",
    "                other, int\n",
    "            ), \" Check whether the 2nd operand is int or not.\"\n",
    "            return self.__add__(Rational(other, 1))\n",
    "\n",
    "        return self.simplest_form(Rational(num_new, dnm_new))\n",
    "\n",
    "    def __sub__(self, other):\n",
    "        if isinstance(other, Rational):\n",
    "            num_new = (self.num * other.dnm) - (other.num * self.dnm)\n",
    "            dnm_new = self.dnm * other.dnm\n",
    "        else:\n",
    "            assert isinstance(\n",
    "                other, int\n",
    "            ), \" Check whether the 2nd operand is int or not.\"\n",
    "            return self.__sub__(Rational(other, 1))\n",
    "\n",
    "        return self.simplest_form(Rational(num_new, dnm_new))\n",
    "\n",
    "    def __lt__(self, other):\n",
    "        return (self.num * other.dnm) < (other.num * self.dnm)\n",
    "\n",
    "    def __le__(self, other):\n",
    "        return (self.num * other.dnm) <= (other.num * self.dnm)\n",
    "\n",
    "    def __gt__(self, other):\n",
    "        return (self.num * other.dnm) > (other.num * self.dnm)\n",
    "\n",
    "    def __ge__(self, other):\n",
    "        return (self.num * other.dnm) >= (other.num * self.dnm)\n",
    "\n",
    "    def __eq__(self, other):\n",
    "\n",
    "        assert isinstance(\n",
    "            other, Rational\n",
    "        ), \"Check whether the 2nd operand is Rational or not.\"\n",
    "        assert isinstance(\n",
    "            self, Rational\n",
    "        ), \"Check whether the 1st operand is Rational or not.\"\n",
    "\n",
    "        s1 = self.simplest_form(self)\n",
    "        s2 = self.simplest_form(other)\n",
    "\n",
    "        return s1.num == s2.num and s1.dnm == s2.dnm\n",
    "\n",
    "    def __abs__(self):\n",
    "        assert isinstance(self, Rational), \"Check whether the x is Rational or not.\"\n",
    "\n",
    "        if self.num < 0:\n",
    "            return -1 * self\n",
    "        return self\n",
    "\n",
    "\n",
    "def square_root_rational(x, abs_tol=Rational(1, 1000)):\n",
    "    \"\"\"This function takes an input rational number x and returns the square root of x to absolute precision abs_tol.\n",
    "\n",
    "    Args:\n",
    "        x (Rational): Rational number whose sqrt is required.\n",
    "        abs_tol (Rational, optional): Error tolerance of sqrt estimate. Defaults to Rational(1,1000).\n",
    "\n",
    "    Returns:\n",
    "        [Rational]: Square root estimate of x.\n",
    "    \"\"\"\n",
    "    assert isinstance(x, Rational), \"Check whether Rational input is provided.\"\n",
    "    assert isinstance(\n",
    "        abs_tol, Rational\n",
    "    ), \"Check whether Rational tolerance is provided.\"\n",
    "    assert x > Rational(0,1), \"Check whether x is positive or not.\"\n",
    "\n",
    "    low = Rational(0, 1)\n",
    "    high = x + 1\n",
    "    estimate = (low + high) / 2\n",
    "    while abs((estimate * estimate) - x) >= abs_tol:\n",
    "        if ((low * low) - x) * ((estimate * estimate) - x) < Rational(0, 1):\n",
    "            high = estimate\n",
    "        else:\n",
    "            low = estimate\n",
    "        estimate = (high + low) / 2\n",
    "    return estimate\n",
    "\n"
   ]
  },
  {
   "cell_type": "code",
   "execution_count": 6,
   "metadata": {},
   "outputs": [
    {
     "data": {
      "text/plain": [
       "1938040595/100663296"
      ]
     },
     "execution_count": 6,
     "metadata": {},
     "output_type": "execute_result"
    }
   ],
   "source": [
    "square_root_rational(Rational(1112,3),abs_tol=Rational(1,10000))"
   ]
  },
  {
   "cell_type": "code",
   "execution_count": 7,
   "metadata": {},
   "outputs": [
    {
     "data": {
      "text/plain": [
       "19.252703537543614"
      ]
     },
     "execution_count": 7,
     "metadata": {},
     "output_type": "execute_result"
    }
   ],
   "source": [
    "1938040595/100663296"
   ]
  },
  {
   "cell_type": "code",
   "execution_count": 1,
   "metadata": {},
   "outputs": [
    {
     "data": {
      "text/plain": [
       "19.252705437591537"
      ]
     },
     "execution_count": 1,
     "metadata": {},
     "output_type": "execute_result"
    }
   ],
   "source": [
    "import math\n",
    "math.sqrt(1112/3)"
   ]
  },
  {
   "cell_type": "code",
   "execution_count": 3,
   "metadata": {},
   "outputs": [],
   "source": [
    "import numpy as np\n",
    "from numpy import arange"
   ]
  },
  {
   "cell_type": "code",
   "execution_count": 4,
   "metadata": {},
   "outputs": [
    {
     "data": {
      "text/plain": [
       "array([[0],\n",
       "       [1],\n",
       "       [2]])"
      ]
     },
     "execution_count": 4,
     "metadata": {},
     "output_type": "execute_result"
    }
   ],
   "source": [
    "x = np.arange(3)\n",
    "y=np.arange(5)\n",
    "x=np.array(x).reshape(len(x),-1)\n",
    "x"
   ]
  },
  {
   "cell_type": "code",
   "execution_count": 5,
   "metadata": {},
   "outputs": [
    {
     "data": {
      "text/plain": [
       "array([0, 1, 2, 3, 4])"
      ]
     },
     "execution_count": 5,
     "metadata": {},
     "output_type": "execute_result"
    }
   ],
   "source": [
    "y"
   ]
  },
  {
   "cell_type": "code",
   "execution_count": 6,
   "metadata": {},
   "outputs": [
    {
     "data": {
      "text/plain": [
       "array([[[0, 0, 0, 0, 0]],\n",
       "\n",
       "       [[0, 1, 2, 3, 4]],\n",
       "\n",
       "       [[0, 2, 4, 6, 8]]])"
      ]
     },
     "execution_count": 6,
     "metadata": {},
     "output_type": "execute_result"
    }
   ],
   "source": [
    "x[:,None]*y"
   ]
  },
  {
   "cell_type": "code",
   "execution_count": 17,
   "metadata": {},
   "outputs": [],
   "source": [
    "import numpy as np\n",
    "from numpy import arange\n",
    "\n",
    "def solvefrob(coefs,b):\n",
    "    \"\"\"This function solved Forbenius equation of format:\n",
    "    a_1*x_1 + ....a_n*x_n = b.\n",
    "\n",
    "    Args:\n",
    "        coefs (list): List of a_i coefficients \n",
    "        b (int): Value of RHS in Forbenius equation\n",
    "\n",
    "    Returns:\n",
    "        list(tuple): All possible solution tuples for the equation.\n",
    "    \"\"\"\n",
    "    \n",
    "    assert isinstance(coefs,list), \"Check whether the coefficients list is there or not.\"\n",
    "    assert isinstance(b,int), \"Check whether the RHS is integer or not.\"\n",
    "    assert all(co>0 for co in coefs), \"Check all coeffcients are greater than zero or not.\"\n",
    "    assert b>0, \"Check all coeffcients are greater than zero or not.\"\n",
    "\n",
    "    limits=[] # Max feasable value acceptable for each coefficient.\n",
    "\n",
    "    for c in coefs:\n",
    "        assert isinstance(c,int), \"Check all coefficients are integers or not.\"\n",
    "        limits.append(b//c)\n",
    "        \n",
    "    for i,c in enumerate(coefs):\n",
    "        temp=np.arange(limits[i]+1)\n",
    "        for j in range(i):\n",
    "            temp=temp[:,np.newaxis]\n",
    "        limits[i]=c*temp\n",
    "        \n",
    "    eq_sum=(sum(limits)==b)\n",
    "    np_tuples=np.flip(np.transpose(np.nonzero(eq_sum)))\n",
    "    answer=[]\n",
    "    for i in range(len(np_tuples)):\n",
    "        answer.append(tuple(np_tuples[i]))\n",
    "    \n",
    "    return answer\n"
   ]
  },
  {
   "cell_type": "code",
   "execution_count": 18,
   "metadata": {},
   "outputs": [
    {
     "data": {
      "text/plain": [
       "[(0, 0, 0, 2),\n",
       " (0, 1, 1, 1),\n",
       " (2, 0, 1, 1),\n",
       " (1, 2, 0, 1),\n",
       " (3, 1, 0, 1),\n",
       " (5, 0, 0, 1),\n",
       " (1, 0, 3, 0),\n",
       " (0, 2, 2, 0),\n",
       " (2, 1, 2, 0),\n",
       " (4, 0, 2, 0),\n",
       " (1, 3, 1, 0),\n",
       " (3, 2, 1, 0),\n",
       " (5, 1, 1, 0),\n",
       " (7, 0, 1, 0),\n",
       " (0, 5, 0, 0),\n",
       " (2, 4, 0, 0),\n",
       " (4, 3, 0, 0),\n",
       " (6, 2, 0, 0),\n",
       " (8, 1, 0, 0),\n",
       " (10, 0, 0, 0)]"
      ]
     },
     "execution_count": 18,
     "metadata": {},
     "output_type": "execute_result"
    }
   ],
   "source": [
    "b=10\n",
    "coefs=[1,2,3,5]\n",
    "\n",
    "solvefrob(coefs,b)"
   ]
  },
  {
   "cell_type": "code",
   "execution_count": 46,
   "metadata": {},
   "outputs": [
    {
     "data": {
      "text/plain": [
       "(5, 10)"
      ]
     },
     "execution_count": 46,
     "metadata": {},
     "output_type": "execute_result"
    }
   ],
   "source": [
    "a3[:,None,None].shape\n",
    "(a1+2*a2[:,None]).shape"
   ]
  },
  {
   "cell_type": "code",
   "execution_count": 36,
   "metadata": {},
   "outputs": [
    {
     "data": {
      "text/plain": [
       "array([[[ 0,  1,  2,  3,  4,  5,  6,  7,  8,  9],\n",
       "        [ 2,  3,  4,  5,  6,  7,  8,  9, 10, 11],\n",
       "        [ 4,  5,  6,  7,  8,  9, 10, 11, 12, 13],\n",
       "        [ 6,  7,  8,  9, 10, 11, 12, 13, 14, 15],\n",
       "        [ 8,  9, 10, 11, 12, 13, 14, 15, 16, 17]],\n",
       "\n",
       "       [[ 3,  4,  5,  6,  7,  8,  9, 10, 11, 12],\n",
       "        [ 5,  6,  7,  8,  9, 10, 11, 12, 13, 14],\n",
       "        [ 7,  8,  9, 10, 11, 12, 13, 14, 15, 16],\n",
       "        [ 9, 10, 11, 12, 13, 14, 15, 16, 17, 18],\n",
       "        [11, 12, 13, 14, 15, 16, 17, 18, 19, 20]],\n",
       "\n",
       "       [[ 6,  7,  8,  9, 10, 11, 12, 13, 14, 15],\n",
       "        [ 8,  9, 10, 11, 12, 13, 14, 15, 16, 17],\n",
       "        [10, 11, 12, 13, 14, 15, 16, 17, 18, 19],\n",
       "        [12, 13, 14, 15, 16, 17, 18, 19, 20, 21],\n",
       "        [14, 15, 16, 17, 18, 19, 20, 21, 22, 23]]])"
      ]
     },
     "execution_count": 36,
     "metadata": {},
     "output_type": "execute_result"
    }
   ],
   "source": [
    "a1=np.arange(10)\n",
    "a2=np.arange(5)\n",
    "a3=np.arange(3)\n",
    "\n",
    "a1+2*a2[:,None]+3*a3[:,None,None]"
   ]
  },
  {
   "cell_type": "code",
   "execution_count": 18,
   "metadata": {},
   "outputs": [
    {
     "data": {
      "text/plain": [
       "array([[[0]],\n",
       "\n",
       "       [[1]]])"
      ]
     },
     "execution_count": 18,
     "metadata": {},
     "output_type": "execute_result"
    }
   ],
   "source": [
    "x=np.arange(2)\n",
    "y=x[:,np.newaxis]\n",
    "z=x[:,np.newaxis,np.newaxis]\n",
    "z\n"
   ]
  },
  {
   "cell_type": "code",
   "execution_count": 37,
   "metadata": {},
   "outputs": [],
   "source": [
    "from collections import defaultdict\n",
    "\n",
    "def count_paths(m,n,blocks):\n",
    "    \"\"\"Starting at the upper left and only moving downwards and rightwards, this function finds the number of connected paths between the top-left square and the bottom right square by traversing non-blocked places.\n",
    "\n",
    "    Args:\n",
    "        m (int): number of horizontal rows.\n",
    "        n (int): number of vertical columns.\n",
    "        blocks (list):  list of tuples indicating the blocked entries in the grid.\n",
    "\n",
    "    Returns:\n",
    "        int: Number of possible unblocked paths from top-left ot bottom-right.\n",
    "    \"\"\"\n",
    "\n",
    "    assert isinstance(m,int), \"Check whether M is integer or not.\"\n",
    "    assert m>0, \"Check whether m>0 or not.\"\n",
    "    assert isinstance(n,int), \"Check whether N is integer or not.\"\n",
    "    assert n>0, \"Check whether n>0 or not.\"\n",
    "\n",
    "        \n",
    "    assert isinstance(blocks,list), \"Check whether Blocks is list or not.\"\n",
    "\n",
    "    grid = [[0 for _ in range(n)] for _ in range(m)]\n",
    "    for b in blocks:\n",
    "        assert all(x>=0 for x in b), \"Check all blocks coordinates are legit or not.\"\n",
    "\n",
    "        if b[0]==0 and b[1]==0: # Check if the starting point is blocked itself.\n",
    "            return 0\n",
    "\n",
    "        grid[b[0]][b[1]]=1\n",
    "        \n",
    "    visited=defaultdict(int)\n",
    "\n",
    "    def crawl(i,j,visited):\n",
    "        \"\"\"This function crawls through the grid in DFS fashion avoiding the blocks to check whether bottom-rightmost end can be reached or not. \n",
    "\n",
    "        Args:\n",
    "            i (int): x-coordinate\n",
    "            j (int): y-coordinate\n",
    "            visited (dict): dictionary of visited coordinates.\n",
    "\n",
    "        Returns:\n",
    "            int: 1 if end can be reached otheewise 0.\n",
    "        \"\"\"\n",
    "        \n",
    "        if i>=m or j>=n:\n",
    "            return 0\n",
    "        if i==m-1 and j==n-1:\n",
    "            return 1\n",
    "\n",
    "        path_sum=0\n",
    "        if i+1<m and visited[(i+1,j)]==0 and grid[i+1][j]!=1:\n",
    "            visited[(i+1,j)]=1\n",
    "            path_sum+= crawl(i+1,j,visited)\n",
    "            visited[(i+1,j)]=0\n",
    "        \n",
    "        if j+1<n and visited[(i,j+1)]==0 and grid[i][j+1]!=1:\n",
    "            visited[(i,j+1)]=1\n",
    "            path_sum+= crawl(i,j+1,visited)\n",
    "            visited[(i,j+1)]=0\n",
    "        return path_sum\n",
    "\n",
    "    return crawl(0,0,visited)\n",
    "\n"
   ]
  },
  {
   "cell_type": "code",
   "execution_count": 40,
   "metadata": {},
   "outputs": [
    {
     "data": {
      "text/plain": [
       "3"
      ]
     },
     "execution_count": 40,
     "metadata": {},
     "output_type": "execute_result"
    }
   ],
   "source": [
    "count_paths(3,4,[(0,3),(1,1)])"
   ]
  },
  {
   "cell_type": "code",
   "execution_count": 48,
   "metadata": {},
   "outputs": [],
   "source": [
    "def get_trapped_water(seq):\n",
    "    \"\"\"Computes how many units of water remain trapped between the walls in the map.\n",
    "\n",
    "    Args:\n",
    "        seq (list): input list of elevations. \n",
    "\n",
    "    Returns:\n",
    "        int: volume of water trapped.\n",
    "    \"\"\"\n",
    "    assert isinstance(seq,list), \"Check whether wall map is list or not.\"\n",
    "    \n",
    "    n=len(seq)\n",
    "    rmax = [0]\n",
    "    curr_max = seq[n-1]\n",
    "\n",
    "    for i in range(n-2,-1,-1):\n",
    "        assert isinstance(seq[i],int), \"Check whether all wall elevations are int or not.\"\n",
    "        curr_max =max(curr_max,seq[i+1])\n",
    "        rmax.append(curr_max)\n",
    "    \n",
    "    rmax.reverse()\n",
    "\n",
    "    lmax = seq[0]\n",
    "    vol_water=0\n",
    "    for i in range(1,n):\n",
    "        if lmax>seq[i] and rmax[i]>seq[i]:\n",
    "            vol_water+=(min(lmax,rmax[i])-seq[i])\n",
    "        lmax=max(lmax,seq[i])\n",
    "    return vol_water\n",
    "\n",
    "\n",
    "\n",
    "\n"
   ]
  },
  {
   "cell_type": "code",
   "execution_count": 50,
   "metadata": {},
   "outputs": [
    {
     "data": {
      "text/plain": [
       "8"
      ]
     },
     "execution_count": 50,
     "metadata": {},
     "output_type": "execute_result"
    }
   ],
   "source": [
    "get_trapped_water([3,3, 0, 1, 3, 0, 5] )"
   ]
  },
  {
   "cell_type": "code",
   "execution_count": 64,
   "metadata": {},
   "outputs": [],
   "source": [
    "\n",
    "\n",
    "def next_permutation(t):\n",
    "    \"\"\"Given a permutation of any length, generate the next permutation in lexicographic order.\n",
    "\n",
    "    Args:\n",
    "        t (tuple): input tuple\n",
    "\n",
    "    Returns:\n",
    "        tuple: next permutation \n",
    "    \"\"\"\n",
    "    assert isinstance(t,tuple), \"Check whether the input is tuple or not.\"\n",
    "    assert all(isinstance(x,int) for x in t) or all(isinstance(x,str) for x in t), \"Check all the inputs are of same type\"\n",
    "\n",
    "    assert len(t)==len(set(t)), \"all unique elements or not\"\n",
    "\n",
    "    t=list(t)\n",
    "    n=len(t)\n",
    "    pos = n-1\n",
    "\n",
    "    # find position for next character till which tuples are in descending order\n",
    "    while pos>0 and t[pos-1]>t[pos]:\n",
    "        pos-=1\n",
    "\n",
    "    t[pos:]=reversed(t[pos:])\n",
    "\n",
    "    # find the lead next position for generating lowest lexigraphic order.\n",
    "    if pos>0:\n",
    "        next_pos =pos\n",
    "        while t[pos-1]>t[next_pos]:\n",
    "            next_pos+=1\n",
    "\n",
    "        t[pos-1],t[next_pos]=t[next_pos],t[pos-1]\n",
    "\n",
    "    return tuple(t)\n",
    "    "
   ]
  },
  {
   "cell_type": "code",
   "execution_count": 66,
   "metadata": {},
   "outputs": [
    {
     "data": {
      "text/plain": [
       "(2, 1)"
      ]
     },
     "execution_count": 66,
     "metadata": {},
     "output_type": "execute_result"
    }
   ],
   "source": [
    "next_permutation((1,2))"
   ]
  },
  {
   "cell_type": "code",
   "execution_count": 116,
   "metadata": {},
   "outputs": [
    {
     "data": {
      "text/plain": [
       "(0, 5, 2, 1, 4, 7, 6, 3)"
      ]
     },
     "execution_count": 116,
     "metadata": {},
     "output_type": "execute_result"
    }
   ],
   "source": [
    "next_permutation((0, 5, 2, 1, 4, 7, 3, 6))"
   ]
  },
  {
   "cell_type": "code",
   "execution_count": 117,
   "metadata": {},
   "outputs": [
    {
     "data": {
      "text/plain": [
       "(1, 2, 3)"
      ]
     },
     "execution_count": 117,
     "metadata": {},
     "output_type": "execute_result"
    }
   ],
   "source": [
    "next_permutation((3,2,1))"
   ]
  },
  {
   "cell_type": "code",
   "execution_count": 120,
   "metadata": {},
   "outputs": [
    {
     "ename": "AssertionError",
     "evalue": "Check all the inputs are of same type",
     "output_type": "error",
     "traceback": [
      "\u001b[1;31m---------------------------------------------------------------------------\u001b[0m",
      "\u001b[1;31mAssertionError\u001b[0m                            Traceback (most recent call last)",
      "\u001b[1;32m~\\AppData\\Local\\Temp/ipykernel_9336/3005314479.py\u001b[0m in \u001b[0;36m<module>\u001b[1;34m\u001b[0m\n\u001b[1;32m----> 1\u001b[1;33m \u001b[0mnext_permutation\u001b[0m\u001b[1;33m(\u001b[0m\u001b[1;33m(\u001b[0m\u001b[1;36m1\u001b[0m\u001b[1;33m,\u001b[0m\u001b[1;34m\"b\"\u001b[0m\u001b[1;33m,\u001b[0m\u001b[1;34m\"a\"\u001b[0m\u001b[1;33m)\u001b[0m\u001b[1;33m)\u001b[0m\u001b[1;33m\u001b[0m\u001b[1;33m\u001b[0m\u001b[0m\n\u001b[0m",
      "\u001b[1;32m~\\AppData\\Local\\Temp/ipykernel_9336/1682363098.py\u001b[0m in \u001b[0;36mnext_permutation\u001b[1;34m(t)\u001b[0m\n\u001b[0;32m     10\u001b[0m     \u001b[1;32massert\u001b[0m \u001b[0misinstance\u001b[0m\u001b[1;33m(\u001b[0m\u001b[0mt\u001b[0m\u001b[1;33m,\u001b[0m\u001b[0mtuple\u001b[0m\u001b[1;33m)\u001b[0m\u001b[1;33m,\u001b[0m \u001b[1;34m\"Check whether the input is tuple or not.\"\u001b[0m\u001b[1;33m\u001b[0m\u001b[1;33m\u001b[0m\u001b[0m\n\u001b[0;32m     11\u001b[0m     \u001b[1;32massert\u001b[0m \u001b[0mlen\u001b[0m\u001b[1;33m(\u001b[0m\u001b[0mt\u001b[0m\u001b[1;33m)\u001b[0m\u001b[1;33m>=\u001b[0m\u001b[1;36m1\u001b[0m\u001b[1;33m\u001b[0m\u001b[1;33m\u001b[0m\u001b[0m\n\u001b[1;32m---> 12\u001b[1;33m     \u001b[1;32massert\u001b[0m \u001b[0mall\u001b[0m\u001b[1;33m(\u001b[0m\u001b[0misinstance\u001b[0m\u001b[1;33m(\u001b[0m\u001b[0mx\u001b[0m\u001b[1;33m,\u001b[0m\u001b[0mint\u001b[0m\u001b[1;33m)\u001b[0m \u001b[1;32mfor\u001b[0m \u001b[0mx\u001b[0m \u001b[1;32min\u001b[0m \u001b[0mt\u001b[0m\u001b[1;33m)\u001b[0m \u001b[1;32mor\u001b[0m \u001b[0mall\u001b[0m\u001b[1;33m(\u001b[0m\u001b[0misinstance\u001b[0m\u001b[1;33m(\u001b[0m\u001b[0mx\u001b[0m\u001b[1;33m,\u001b[0m\u001b[0mstr\u001b[0m\u001b[1;33m)\u001b[0m \u001b[1;32mfor\u001b[0m \u001b[0mx\u001b[0m \u001b[1;32min\u001b[0m \u001b[0mt\u001b[0m\u001b[1;33m)\u001b[0m\u001b[1;33m,\u001b[0m \u001b[1;34m\"Check all the inputs are of same type\"\u001b[0m\u001b[1;33m\u001b[0m\u001b[1;33m\u001b[0m\u001b[0m\n\u001b[0m\u001b[0;32m     13\u001b[0m \u001b[1;33m\u001b[0m\u001b[0m\n\u001b[0;32m     14\u001b[0m     \u001b[0mt\u001b[0m\u001b[1;33m=\u001b[0m\u001b[0mlist\u001b[0m\u001b[1;33m(\u001b[0m\u001b[0mt\u001b[0m\u001b[1;33m)\u001b[0m\u001b[1;33m\u001b[0m\u001b[1;33m\u001b[0m\u001b[0m\n",
      "\u001b[1;31mAssertionError\u001b[0m: Check all the inputs are of same type"
     ]
    }
   ],
   "source": [
    "next_permutation((1,\"b\",\"a\"))"
   ]
  },
  {
   "cell_type": "code",
   "execution_count": 54,
   "metadata": {},
   "outputs": [],
   "source": [
    "from collections import defaultdict\n",
    "\n",
    "class Polynomial():\n",
    "    \"\"\"Class that can implement a univariate polynomial (Polynomial) over the field of integers.\n",
    "    \"\"\"\n",
    "\n",
    "    def __init__(self,polyDict):\n",
    "        \"\"\"Intializes Polynomial object; assigning the dictionary with coefficients and powers.\n",
    "\n",
    "        Args:\n",
    "            polyDict (dict): keys are powers, values are coefficients\n",
    "        \"\"\"\n",
    "        assert all(isinstance(k, int) and isinstance(v, int) for k,v in polyDict.items()), \"Check all the powers and coeffs are integer or not.\"\n",
    "        \n",
    "        self.polyDict = dict(sorted(polyDict.items(), key=lambda x:x[0]))\n",
    "    \n",
    "    def __repr__(self):\n",
    "        out=[]\n",
    "        self.polyDict ={k:v for k,v in self.polyDict.items() if v!=0}\n",
    "\n",
    "        for k,v in self.polyDict.items():\n",
    "            if v<0:\n",
    "                out.append(\"-\")\n",
    "            if v>0 and len(out)!=0:\n",
    "                out.append(\"+\")\n",
    "\n",
    "            if k==0:\n",
    "                out.append(str(abs(v)))\n",
    "            elif k==1:\n",
    "                if abs(v)==1:\n",
    "                    out.append(f\"x\")\n",
    "                else:\n",
    "                    out.append(f\"{abs(v)} x\")                    \n",
    "            else:\n",
    "                if abs(v)==1:\n",
    "                    out.append(f\"x^({k})\")\n",
    "                else:\n",
    "                    out.append(f\"{abs(v)} x^({k})\")\n",
    "        return \" \".join(out)\n",
    "\n",
    "    def __mul__(self,other):\n",
    "        assert isinstance(other, Polynomial) or isinstance(other, int), \"Only integer or polynomial class operations are allowed.\"\n",
    "        \n",
    "        if isinstance(other,int):\n",
    "            return Polynomial({k:v*other for k,v, in self.polyDict.items()})\n",
    "        elif isinstance(other,Polynomial):\n",
    "            mul_dict=defaultdict(int)\n",
    "            for k1,v1 in self.polyDict.items():\n",
    "                for k2,v2 in other.polyDict.items():\n",
    "                    mul_dict[k1+k2]+=v1*v2\n",
    "            mul_dict={k:v for k,v in mul_dict.items() if v!=0}\n",
    "            mul_dict=dict(sorted(mul_dict.items(), key=lambda x:x[0]))\n",
    "\n",
    "            if mul_dict=={}:\n",
    "                return Polynomial({0:0}) \n",
    "                    \n",
    "            return Polynomial(mul_dict)\n",
    "\n",
    "    \n",
    "    def __rmul__(self,other):\n",
    "        return self.__mul__(other)\n",
    "\n",
    "    \n",
    "    def __add__(self,other):\n",
    "        assert isinstance(other, Polynomial) or isinstance(other, int), \"Only integer or polynomial class operations are allowed.\"\n",
    "\n",
    "        if isinstance(other,Polynomial):\n",
    "            comb_k = {**self.polyDict,**other.polyDict}.keys()\n",
    "            add_dict=defaultdict(int)\n",
    "            for k in comb_k:\n",
    "                if k in self.polyDict:\n",
    "                    add_dict[k]+=self.polyDict[k]\n",
    "                \n",
    "                if k in other.polyDict:\n",
    "                    add_dict[k]+=other.polyDict[k]\n",
    "            add_dict={k:v for k,v in add_dict.items() if v!=0}\n",
    "            add_dict=dict(sorted(add_dict.items(), key=lambda x:x[0]))\n",
    "\n",
    "            if add_dict=={}:\n",
    "                return Polynomial({0:0}) \n",
    "                    \n",
    "            return Polynomial(add_dict)\n",
    "        elif isinstance(other,int):\n",
    "            if 0 not in self.polyDict:\n",
    "                self.polyDict[0]=0\n",
    "            self.polyDict[0]+=other\n",
    "\n",
    "            return self\n",
    "\n",
    "    def __radd__(self, other):\n",
    "        return self.__add__(other)\n",
    "            \n",
    "    def __sub__(self,other):\n",
    "        assert isinstance(other, Polynomial) or isinstance(other, int), \"Only integer or polynomial class operations are allowed.\"\n",
    "\n",
    "        return self+(-1*other)\n",
    "    \n",
    "    def __rsub__(self, other):\n",
    "        return self - self.__mul__(2) + other\n",
    "    \n",
    "    def subs(self,x):\n",
    "        \"\"\"Function susbtitutes value x into polynomial to find f(x)\n",
    "\n",
    "        Args:\n",
    "            x (int): input value\n",
    "\n",
    "        Returns:\n",
    "            int : value of f(x)\n",
    "        \"\"\"\n",
    "        assert isinstance(x,int), \"check that input is integer or not.\"\n",
    "\n",
    "        value = 0\n",
    "        for k,v in self.polyDict.items():\n",
    "            value+=v*(x**k)\n",
    "        return value\n",
    "\n",
    "    def __eq__(self,other):\n",
    "        assert isinstance(other, Polynomial) or isinstance(other, int), \"Only integer or polynomial class operations are allowed.\"\n",
    "\n",
    "        if isinstance(other,int):\n",
    "            return self.__eq__(Polynomial({0:other}))\n",
    "        elif isinstance(other,Polynomial):\n",
    "            if len(self.polyDict.items()) != len(other.polyDict.items()): return False\n",
    "            return self.polyDict==other.polyDict      \n",
    "\n",
    "    def degree(self):\n",
    "        return list(self.polyDict.keys())[-1]      \n",
    "\n",
    "\n",
    "    def __truediv__(self,other):\n",
    "        assert isinstance(other, Polynomial) or isinstance(other, int), \"Only integer or polynomial class operations are allowed.\"\n",
    "\n",
    "        assert other!=0,\"Division by zero not allowed.\"\n",
    "\n",
    "        if isinstance(other,Polynomial):\n",
    "            q=Polynomial({0:0})        \n",
    "            while self.degree()>=other.degree():\n",
    "                diff = self.degree()-other.degree()\n",
    "                \n",
    "                if self.polyDict[self.degree()]%other.polyDict[other.degree()]:\n",
    "                    raise NotImplementedError(\"Not a valid division\")\n",
    "                q_val = self.polyDict[self.degree()]//other.polyDict[other.degree()]\n",
    "\n",
    "                if q_val==0:\n",
    "                    break\n",
    "                q+=Polynomial({diff:q_val})\n",
    "                self=self-(Polynomial({diff:q_val})*other)\n",
    "            rem = self\n",
    "            if rem==0:\n",
    "                return q\n",
    "            raise NotImplementedError(\"Not a valid division\")\n",
    "        elif isinstance(other,int):            \n",
    "            return self.__truediv__(Polynomial({0:other}))\n",
    "        \n",
    "\n",
    "\n",
    "            \n",
    "\n",
    "    \n"
   ]
  },
  {
   "cell_type": "code",
   "execution_count": 59,
   "metadata": {},
   "outputs": [
    {
     "data": {
      "text/plain": [
       "False"
      ]
     },
     "execution_count": 59,
     "metadata": {},
     "output_type": "execute_result"
    }
   ],
   "source": [
    "p==0"
   ]
  },
  {
   "cell_type": "code",
   "execution_count": 56,
   "metadata": {},
   "outputs": [
    {
     "data": {
      "text/plain": [
       "True"
      ]
     },
     "execution_count": 56,
     "metadata": {},
     "output_type": "execute_result"
    }
   ],
   "source": [
    "p=Polynomial({0:8,1:0,3:4}) \n",
    "p==p"
   ]
  },
  {
   "cell_type": "code",
   "execution_count": 12,
   "metadata": {},
   "outputs": [
    {
     "data": {
      "text/plain": [
       "'8 + 4 x^(3)'"
      ]
     },
     "execution_count": 12,
     "metadata": {},
     "output_type": "execute_result"
    }
   ],
   "source": [
    "p=Polynomial({0:8,1:0,3:4}) \n",
    "repr(p)"
   ]
  },
  {
   "cell_type": "code",
   "execution_count": 16,
   "metadata": {},
   "outputs": [
    {
     "data": {
      "text/plain": [
       "- 2 + x + x^(2)"
      ]
     },
     "execution_count": 16,
     "metadata": {},
     "output_type": "execute_result"
    }
   ],
   "source": [
    "p+q"
   ]
  },
  {
   "cell_type": "code",
   "execution_count": 17,
   "metadata": {},
   "outputs": [
    {
     "name": "stdout",
     "output_type": "stream",
     "text": [
      "1 + x\n"
     ]
    }
   ],
   "source": [
    "p = Polynomial({2:1,0:-1})\n",
    "q = Polynomial({1:1,0:-1})\n",
    "print(p/q)\n"
   ]
  },
  {
   "cell_type": "code",
   "execution_count": 19,
   "metadata": {},
   "outputs": [
    {
     "data": {
      "text/plain": [
       "'8 + 2 x + 4 x^(3)'"
      ]
     },
     "execution_count": 19,
     "metadata": {},
     "output_type": "execute_result"
    }
   ],
   "source": [
    "p=Polynomial({0:8,1:2,3:4})\n",
    "q=Polynomial({0:8,1:2,2:8,4:4})\n",
    "repr(p)"
   ]
  },
  {
   "cell_type": "code",
   "execution_count": 21,
   "metadata": {},
   "outputs": [
    {
     "data": {
      "text/plain": [
       "16 + 4 x + 8 x^(2) + 4 x^(3) + 4 x^(4)"
      ]
     },
     "execution_count": 21,
     "metadata": {},
     "output_type": "execute_result"
    }
   ],
   "source": [
    "p+q"
   ]
  },
  {
   "cell_type": "code",
   "execution_count": 22,
   "metadata": {},
   "outputs": [
    {
     "data": {
      "text/plain": [
       "12 + 2 x + 4 x^(3)"
      ]
     },
     "execution_count": 22,
     "metadata": {},
     "output_type": "execute_result"
    }
   ],
   "source": [
    "(p*4 + 5 - 3*p) -1"
   ]
  },
  {
   "cell_type": "code",
   "execution_count": 24,
   "metadata": {},
   "outputs": [
    {
     "data": {
      "text/plain": [
       "__main__.Polynomial"
      ]
     },
     "execution_count": 24,
     "metadata": {},
     "output_type": "execute_result"
    }
   ],
   "source": [
    "type(p-p)"
   ]
  },
  {
   "cell_type": "code",
   "execution_count": 29,
   "metadata": {},
   "outputs": [
    {
     "data": {
      "text/plain": [
       "False"
      ]
     },
     "execution_count": 29,
     "metadata": {},
     "output_type": "execute_result"
    }
   ],
   "source": [
    "p==q"
   ]
  },
  {
   "cell_type": "code",
   "execution_count": 30,
   "metadata": {},
   "outputs": [
    {
     "data": {
      "text/plain": [
       "True"
      ]
     },
     "execution_count": 30,
     "metadata": {},
     "output_type": "execute_result"
    }
   ],
   "source": [
    "p-p==0"
   ]
  },
  {
   "cell_type": "code",
   "execution_count": 8,
   "metadata": {},
   "outputs": [],
   "source": [
    "import numpy as np\n",
    "from collections import defaultdict\n",
    "\n",
    "\n",
    "def find_convex_cover(pvertices, clist):\n",
    "    \"\"\" For convex olygon with vertices as \"pvertices\" and circles inside it with cetners as \"clist\", this function calculates the radius such that sum of aras of circles is minimized and that vertex is contained in atleast one of the circles.\n",
    "\n",
    "    Args:\n",
    "        pvertices (np.array): List of vertex co-ordinates of polygon.\n",
    "        clist (np.array): Co-ordinates of circle centers.\n",
    "\n",
    "    Returns:\n",
    "        list: List of radii for each circle center.\n",
    "    \"\"\"\n",
    "\n",
    "    # Vertices Corrdinates \n",
    "    x_v = pvertices[:, 0]\n",
    "    y_v = pvertices[:, 1]\n",
    "\n",
    "    # Center Corrdinates \n",
    "    clist = np.array(clist)\n",
    "    x_c = clist[:, 0]\n",
    "    y_c = clist[:, 1]\n",
    "\n",
    "    # Calculate distance of each circle center from every vertex. \n",
    "    dist = np.sqrt(\n",
    "        abs(x_v.reshape(-1, 1)[:, None] - x_c.reshape(-1, 1)) ** 2\n",
    "        + abs(y_v.reshape(-1, 1)[:, None] - y_c.reshape(-1, 1)) ** 2\n",
    "    )\n",
    "\n",
    "    # Extract circle centers with distance which are closest to each vertex\n",
    "    min_v = [\n",
    "        (x, y)\n",
    "        for x, y in zip(\n",
    "            np.sort(dist, axis=1)[:, 0][:, 0], np.argsort(dist, axis=1)[:, 0][:, 0]\n",
    "        )\n",
    "    ]\n",
    "\n",
    "    # For common closest centers, select the radius among all common radius which has max distance.\n",
    "    mapi = defaultdict(int)\n",
    "    for d, v in min_v:\n",
    "        mapi[v] = max(mapi[v], d)\n",
    "\n",
    "    # Final list with radius for each center\n",
    "    ans = [mapi[i] for i in range(len(clist))]\n",
    "\n",
    "    return ans\n",
    "\n"
   ]
  },
  {
   "cell_type": "code",
   "execution_count": 15,
   "metadata": {},
   "outputs": [
    {
     "data": {
      "text/plain": [
       "[0, 0, 0.10308867698080958, 0, 0.06328931721583797, 0.04821785454510229, 0]"
      ]
     },
     "execution_count": 15,
     "metadata": {},
     "output_type": "execute_result"
    }
   ],
   "source": [
    "find_convex_cover(pvertices,clist)"
   ]
  },
  {
   "cell_type": "code",
   "execution_count": 13,
   "metadata": {},
   "outputs": [],
   "source": [
    "\n",
    " \n",
    "pvertices = np.array([[ 0.573,  0.797],           \n",
    "                    [ 0.688,  0.402],                                                              \n",
    "                                                                   \n",
    "                    [ 0.757,  0.796],                                                              \n",
    "                    [ 0.589,  0.811]]) "
   ]
  },
  {
   "cell_type": "code",
   "execution_count": 14,
   "metadata": {},
   "outputs": [],
   "source": [
    "clist = [(0.7490863467660889, 0.4917635308023209),                                       \n",
    "              (0.6814339441396109, 0.6199470305156477),                                                \n",
    "              (0.7241617773773865, 0.6982813914515696),                                                \n",
    "              (0.6600700275207232, 0.7516911829987891),                                                \n",
    "              (0.6315848053622062, 0.7730550996176769),                                                \n",
    "              (0.7348437356868305, 0.41342916986639894),                                               \n",
    "              (0.7597683050755328, 0.31729154508140384)]  "
   ]
  },
  {
   "cell_type": "code",
   "execution_count": 6,
   "metadata": {},
   "outputs": [
    {
     "data": {
      "text/plain": [
       "numpy.ndarray"
      ]
     },
     "execution_count": 6,
     "metadata": {},
     "output_type": "execute_result"
    }
   ],
   "source": [
    "x_v = pvertices[:,0]\n",
    "y_v = pvertices[:,1]\n",
    "\n",
    "clist= np.array(clist)\n",
    "x_c = clist[:,0]\n",
    "y_c = clist[:,1]\n",
    "\n",
    "type(pvertices)\n"
   ]
  },
  {
   "cell_type": "code",
   "execution_count": 11,
   "metadata": {},
   "outputs": [
    {
     "data": {
      "text/plain": [
       "array([4, 5, 6, 5, 2, 4], dtype=int64)"
      ]
     },
     "execution_count": 11,
     "metadata": {},
     "output_type": "execute_result"
    }
   ],
   "source": [
    "dist = np.sqrt(abs(x_v.reshape(6,1)[:,None]-x_c.reshape(-1,1))**2 + abs(y_v.reshape(6,1)[:,None]-y_c.reshape(-1,1))**2)\n",
    "np.argsort(dist,axis=1)[:,0][:,0]\n",
    "# np.sort(dist,axis=1)[:,:2][:,:2]\n",
    "# np.sort(dist,axis=1)[:,0][:,0]\n"
   ]
  },
  {
   "cell_type": "code",
   "execution_count": 108,
   "metadata": {},
   "outputs": [
    {
     "data": {
      "text/plain": [
       "[0,\n",
       " 0,\n",
       " 0.10308867698080958,\n",
       " 0,\n",
       " 0.06328931721583797,\n",
       " 0.06832268735016316,\n",
       " 0.0803130047744335]"
      ]
     },
     "execution_count": 108,
     "metadata": {},
     "output_type": "execute_result"
    }
   ],
   "source": [
    "min_v=[(x,y) for x,y in zip(np.sort(dist,axis=1)[:,0][:,0],np.argsort(dist,axis=1)[:,0][:,0])]\n",
    "mapi=defaultdict(int)\n",
    "for d,v in min_v:\n",
    "    mapi[v] = max(mapi[v],d)\n",
    "\n",
    "ans = [mapi[i] for i in range(len(clist))]\n",
    "ans"
   ]
  },
  {
   "cell_type": "code",
   "execution_count": 105,
   "metadata": {},
   "outputs": [
    {
     "data": {
      "text/plain": [
       "[(0.06328931721583797, 4),\n",
       " (0.04821785454510229, 5),\n",
       " (0.0803130047744335, 6),\n",
       " (0.06832268735016316, 5),\n",
       " (0.10308867698080958, 2),\n",
       " (0.057037541258029456, 4)]"
      ]
     },
     "execution_count": 105,
     "metadata": {},
     "output_type": "execute_result"
    }
   ],
   "source": [
    "min_v=[]\n",
    "for v,(x_v,y_v) in enumerate(pvertices):\n",
    "    mini= float('inf')\n",
    "    mini_c = -1\n",
    "    for c,(x_c,y_c) in enumerate(clist):    \n",
    "        d = math.sqrt((x_c-x_v)**2  + (y_c-y_v)**2)\n",
    "        if d<=mini:\n",
    "            mini = d\n",
    "            mini_c=c\n",
    "    min_v.append((mini,mini_c))\n",
    "min_v\n",
    "\n"
   ]
  },
  {
   "cell_type": "code",
   "execution_count": 66,
   "metadata": {},
   "outputs": [
    {
     "data": {
      "text/plain": [
       "defaultdict(int,\n",
       "            {4: 0.06328931721583797,\n",
       "             5: 0.06832268735016316,\n",
       "             6: 0.0803130047744335,\n",
       "             2: 0.10308867698080958})"
      ]
     },
     "execution_count": 66,
     "metadata": {},
     "output_type": "execute_result"
    }
   ],
   "source": [
    "from collections import defaultdict\n",
    "mapi=defaultdict(int)\n",
    "for d,v in min_v:\n",
    "    mapi[v] = max(mapi[v],d)\n",
    "mapi"
   ]
  },
  {
   "cell_type": "code",
   "execution_count": 67,
   "metadata": {},
   "outputs": [
    {
     "data": {
      "text/plain": [
       "[0,\n",
       " 0,\n",
       " 0.10308867698080958,\n",
       " 0,\n",
       " 0.06328931721583797,\n",
       " 0.06832268735016316,\n",
       " 0.0803130047744335]"
      ]
     },
     "execution_count": 67,
     "metadata": {},
     "output_type": "execute_result"
    }
   ],
   "source": [
    "ans=[]\n",
    "for i in range(len(clist)):\n",
    "    ans.append(mapi[i])\n",
    "ans\n",
    "    "
   ]
  },
  {
   "cell_type": "code",
   "execution_count": 77,
   "metadata": {},
   "outputs": [
    {
     "data": {
      "text/plain": [
       "array([[[-3],\n",
       "        [-4],\n",
       "        [-5]],\n",
       "\n",
       "       [[-2],\n",
       "        [-3],\n",
       "        [-4]],\n",
       "\n",
       "       [[-1],\n",
       "        [-2],\n",
       "        [-3]]])"
      ]
     },
     "execution_count": 77,
     "metadata": {},
     "output_type": "execute_result"
    }
   ],
   "source": [
    "x = np.array([1,2,3])\n",
    "y = np.array([4,5,6])\n",
    "diff=x.reshape(-1,1)[:,None]-y.reshape(-1,1)\n",
    "diff\n"
   ]
  },
  {
   "cell_type": "code",
   "execution_count": 86,
   "metadata": {},
   "outputs": [
    {
     "data": {
      "text/plain": [
       "array([[2],\n",
       "       [2],\n",
       "       [2]], dtype=int64)"
      ]
     },
     "execution_count": 86,
     "metadata": {},
     "output_type": "execute_result"
    }
   ],
   "source": [
    "np.argsort(diff,axis=1)[:,0]\n",
    "\n"
   ]
  },
  {
   "cell_type": "code",
   "execution_count": 3,
   "metadata": {},
   "outputs": [
    {
     "data": {
      "text/plain": [
       "0.018315638888734186"
      ]
     },
     "execution_count": 3,
     "metadata": {},
     "output_type": "execute_result"
    }
   ],
   "source": [
    "import math\n",
    "\n",
    "math.e**(-4)"
   ]
  },
  {
   "cell_type": "code",
   "execution_count": 2,
   "metadata": {},
   "outputs": [
    {
     "data": {
      "text/plain": [
       "0.5934303402594009"
      ]
     },
     "execution_count": 2,
     "metadata": {},
     "output_type": "execute_result"
    }
   ],
   "source": [
    "import math\n",
    "1-(math.e**(-9/10))"
   ]
  },
  {
   "cell_type": "code",
   "execution_count": 1,
   "metadata": {},
   "outputs": [
    {
     "ename": "NameError",
     "evalue": "name 'math' is not defined",
     "output_type": "error",
     "traceback": [
      "\u001b[1;31m---------------------------------------------------------------------------\u001b[0m",
      "\u001b[1;31mNameError\u001b[0m                                 Traceback (most recent call last)",
      "\u001b[1;32m~\\AppData\\Local\\Temp/ipykernel_20112/520479120.py\u001b[0m in \u001b[0;36m<module>\u001b[1;34m\u001b[0m\n\u001b[1;32m----> 1\u001b[1;33m \u001b[0mmath\u001b[0m\u001b[1;33m.\u001b[0m\u001b[0msqrt\u001b[0m\u001b[1;33m(\u001b[0m\u001b[1;36m30\u001b[0m\u001b[1;33m)\u001b[0m\u001b[1;33m/\u001b[0m\u001b[1;36m10\u001b[0m\u001b[1;33m\u001b[0m\u001b[1;33m\u001b[0m\u001b[0m\n\u001b[0m",
      "\u001b[1;31mNameError\u001b[0m: name 'math' is not defined"
     ]
    }
   ],
   "source": [
    "math.sqrt(30)/10\n"
   ]
  },
  {
   "cell_type": "code",
   "execution_count": 3,
   "metadata": {},
   "outputs": [
    {
     "data": {
      "text/plain": [
       "['-7', '1', '15', '2', '300']"
      ]
     },
     "execution_count": 3,
     "metadata": {},
     "output_type": "execute_result"
    }
   ],
   "source": [
    "sorted([\"1\",\"2\",\"15\",\"-7\",\"300\"])"
   ]
  },
  {
   "cell_type": "code",
   "execution_count": 5,
   "metadata": {},
   "outputs": [],
   "source": [
    "import time,queue,threading\n",
    "q = queue.Queue()\n",
    "for i in [3,2,1]:\n",
    "    def f():\n",
    "        time.sleep(i)\n",
    "        q.put(i)\n",
    "    threading.Thread(target=f).start()\n"
   ]
  },
  {
   "cell_type": "code",
   "execution_count": 7,
   "metadata": {},
   "outputs": [
    {
     "data": {
      "text/plain": [
       "1"
      ]
     },
     "execution_count": 7,
     "metadata": {},
     "output_type": "execute_result"
    }
   ],
   "source": [
    "q.get()"
   ]
  },
  {
   "cell_type": "code",
   "execution_count": 8,
   "metadata": {},
   "outputs": [],
   "source": [
    "def func(a,b):\n",
    "    a+=1\n",
    "    b.append(1)\n",
    "    "
   ]
  },
  {
   "cell_type": "code",
   "execution_count": 10,
   "metadata": {},
   "outputs": [
    {
     "name": "stdout",
     "output_type": "stream",
     "text": [
      "0 [1]\n"
     ]
    }
   ],
   "source": [
    "a,b = 0,[]\n",
    "func(a,b)\n",
    "print(a,b)"
   ]
  },
  {
   "cell_type": "code",
   "execution_count": 12,
   "metadata": {},
   "outputs": [],
   "source": [
    "s_list=[\"Helo World\",\"Hello there\"]\n",
    "root={}\n",
    "for s in s_list:\n",
    "    b=root\n",
    "    for w in s.split(\" \"):\n",
    "        if not b.get(w):\n",
    "            b[w]={}\n",
    "        b=b[w]\n",
    "        \n"
   ]
  },
  {
   "cell_type": "code",
   "execution_count": 14,
   "metadata": {},
   "outputs": [],
   "source": [
    "f = lambda n: 1 if n<=1 else n*f(n-1)"
   ]
  },
  {
   "cell_type": "code",
   "execution_count": 18,
   "metadata": {},
   "outputs": [
    {
     "ename": "SyntaxError",
     "evalue": "unexpected EOF while parsing (Temp/ipykernel_20112/3760671423.py, line 1)",
     "output_type": "error",
     "traceback": [
      "\u001b[1;36m  File \u001b[1;32m\"C:\\Users\\Rajasvi\\AppData\\Local\\Temp/ipykernel_20112/3760671423.py\"\u001b[1;36m, line \u001b[1;32m1\u001b[0m\n\u001b[1;33m    try:\u001b[0m\n\u001b[1;37m        ^\u001b[0m\n\u001b[1;31mSyntaxError\u001b[0m\u001b[1;31m:\u001b[0m unexpected EOF while parsing\n"
     ]
    }
   ],
   "source": [
    "try:\n",
    "    file =open(file)"
   ]
  },
  {
   "cell_type": "code",
   "execution_count": null,
   "metadata": {},
   "outputs": [],
   "source": [
    "file"
   ]
  }
 ],
 "metadata": {
  "interpreter": {
   "hash": "c195e80731ac63e061c2c5ba7b0035aa0e2df99312723b2922dbe74866fc6587"
  },
  "kernelspec": {
   "display_name": "Python 3.7.9 64-bit ('kaggle': conda)",
   "name": "python3"
  },
  "language_info": {
   "codemirror_mode": {
    "name": "ipython",
    "version": 3
   },
   "file_extension": ".py",
   "mimetype": "text/x-python",
   "name": "python",
   "nbconvert_exporter": "python",
   "pygments_lexer": "ipython3",
   "version": "3.8.11"
  }
 },
 "nbformat": 4,
 "nbformat_minor": 2
}
