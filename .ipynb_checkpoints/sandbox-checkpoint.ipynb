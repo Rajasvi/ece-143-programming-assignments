{
 "cells": [
  {
   "cell_type": "code",
   "execution_count": null,
   "metadata": {},
   "outputs": [],
   "source": [
    "def is_string_integer(s):\n",
    "    '''This function checks whether the string is \n",
    "    a valid integer in base 10\n",
    "    '''\n",
    "    assert len(s)==1\n",
    "    if ord(s)<58 and ord(s)>47:\n",
    "        return True\n",
    "    return False\n"
   ]
  },
  {
   "cell_type": "code",
   "execution_count": null,
   "metadata": {},
   "outputs": [],
   "source": [
    "is_string_integer(\"9\")"
   ]
  },
  {
   "cell_type": "code",
   "execution_count": null,
   "metadata": {},
   "outputs": [],
   "source": [
    "import itertools as it\n",
    "\n",
    "def get_power_of3(x):\n",
    "    ''' This function constructs number x using any possible \n",
    "    non-repeating combination of [1,3,9,27] i.e. by both adding/subtracting operations\n",
    "    '''\n",
    "    assert isinstance(x,int)\n",
    "    assert x<=40 and x>=1\n",
    "    for v in it.product([1,-1,0],repeat=4):\n",
    "        s=sum([ a*b for a,b in zip([1,3,9,27],v)])\n",
    "        if s==x:\n",
    "            return list(v)\n",
    "    \n",
    "\n",
    "\n",
    "    "
   ]
  },
  {
   "cell_type": "code",
   "execution_count": null,
   "metadata": {},
   "outputs": [],
   "source": [
    "def write_columns(data, fname):\n",
    "    '''This function writes the data from list in three columns with following values per column:\n",
    "    data_value, data_value**2, (data_value+data_value**2)/3\n",
    "    '''\n",
    "    assert isinstance(data, list)\n",
    "    assert isinstance(fname, str)\n",
    "    with open(fname,'w') as f:\n",
    "        for d in data:\n",
    "            assert isinstance(d,float) or isinstance(d,int)            \n",
    "            # print(f'{d:.2f},{d**2:.2f},{(d+d**2)/3.0:.2f}')\n",
    "            f.write(f'{d:.2f},{d**2:.2f},{(d+d**2)/3.0:.2f}')\n",
    "            f.write(\"\\n\")\n"
   ]
  },
  {
   "cell_type": "code",
   "execution_count": null,
   "metadata": {},
   "outputs": [],
   "source": [
    "write_columns([4,3,2,4],\"p4_test\")"
   ]
  },
  {
   "cell_type": "code",
   "execution_count": null,
   "metadata": {},
   "outputs": [],
   "source": [
    "def write_chunks_of_five(words, fname):\n",
    "    ''' This function writes a file with consecutibe non-overlapping sequences \n",
    "    of five words merged in one line.\n",
    "    '''\n",
    "    assert isinstance(words, list)\n",
    "    assert isinstance(fname,str)\n",
    "    n = len(words)\n",
    "    with open(fname,'w') as f:\n",
    "        for st in range(0,n,5):\n",
    "            en = st+5 if st+5<=n else n\n",
    "            for w in words[st:en]:\n",
    "                assert isinstance(w,str)\n",
    "            row = \" \".join(words[st:en])\n",
    "            print(row)\n",
    "            f.write(row)\n",
    "            f.write(\"\\n\")"
   ]
  },
  {
   "cell_type": "code",
   "execution_count": null,
   "metadata": {},
   "outputs": [],
   "source": [
    "write_chunks_of_five([\"this\",\"dfd\",\"fsdfs\",\"dfff\",\"srrrr\",\"dfdfdf\",\"sdfdssdsd\"],\"p6_test\")"
   ]
  },
  {
   "cell_type": "code",
   "execution_count": null,
   "metadata": {},
   "outputs": [],
   "source": [
    "write_chunks_of_five([\"dfsdf\"],\"p6_test\")"
   ]
  },
  {
   "cell_type": "code",
   "execution_count": null,
   "metadata": {},
   "outputs": [],
   "source": [
    "def fibonacci(n):\n",
    "    ''' This generator func computes the first n Fibonnacci numbers.'''\n",
    "    assert n>=0\n",
    "    assert isinstance(n, int)\n",
    "    a = 1\n",
    "    b = 1\n",
    "    if n==0:\n",
    "        yield a\n",
    "    for i in range(1,n+1):\n",
    "        if i==1 or i==0:\n",
    "            yield a\n",
    "        elif i==2:\n",
    "            yield b\n",
    "        else:\n",
    "            c = a+b\n",
    "            yield c\n",
    "            a,b=b,c"
   ]
  },
  {
   "cell_type": "code",
   "execution_count": null,
   "metadata": {},
   "outputs": [],
   "source": [
    "list(fibonacci(3))"
   ]
  },
  {
   "cell_type": "code",
   "execution_count": null,
   "metadata": {},
   "outputs": [],
   "source": [
    "def all_sublists(x):\n",
    "    ''' This function generates all sublists i.e. 2**len(x) subset\n",
    "    of list x. Ordering is ignored and func asserts against empty input array.\n",
    "    '''\n",
    "    assert isinstance(x,list)\n",
    "    assert x!=[]\n",
    "    unique_list = []\n",
    "    for v in x:\n",
    "        assert v!=[]\n",
    "        if v not in unique_list:\n",
    "            unique_list.append(v)\n",
    "        else:\n",
    "            assert v not in unique_list\n",
    "\n",
    "    x_len=len(x)\n",
    "    n = 2**x_len\n",
    "    ans=[]\n",
    "    for i in range(1,n):\n",
    "        temp=i\n",
    "        sublist=[]\n",
    "        for j in range(x_len):\n",
    "            if (temp & 1) == 1:\n",
    "                sublist.append(x[j])\n",
    "            temp=temp>>1\n",
    "        ans.append(sublist)\n",
    "    assert len(ans) == 2**len(x)-1\n",
    "    return ans\n",
    "                \n",
    "\n"
   ]
  },
  {
   "cell_type": "code",
   "execution_count": null,
   "metadata": {},
   "outputs": [],
   "source": [
    "all_sublists([[3,4,3],[3,4,5]])"
   ]
  },
  {
   "cell_type": "code",
   "execution_count": null,
   "metadata": {},
   "outputs": [],
   "source": [
    "number_of_days(2021,10)"
   ]
  },
  {
   "cell_type": "code",
   "execution_count": null,
   "metadata": {},
   "outputs": [],
   "source": [
    "number_of_leap_years(1890,1908)"
   ]
  },
  {
   "cell_type": "code",
   "execution_count": null,
   "metadata": {},
   "outputs": [],
   "source": [
    "get_day_of_week(2021,9,30)"
   ]
  },
  {
   "cell_type": "code",
   "execution_count": null,
   "metadata": {},
   "outputs": [],
   "source": [
    "from time import sleep\n",
    "import random\n",
    "from datetime import datetime\n",
    "import itertools as it\n",
    "\n",
    "def producer():\n",
    "    'produce timestamps'\n",
    "    starttime = datetime.now()\n",
    "    while True:\n",
    "        sleep(random.uniform(0,0.2))\n",
    "        yield datetime.now()-starttime"
   ]
  },
  {
   "cell_type": "code",
   "execution_count": null,
   "metadata": {},
   "outputs": [],
   "source": [
    "import types\n",
    "\n",
    "def tracker(p,limit=1):\n",
    "    ''' This function is to track the odd numbered seconds from \n",
    "    producer's output upto a given limit.\n",
    "    |p|: producer \n",
    "    |limit|: tracking limit for odd numbered seconds \n",
    "    '''\n",
    "    assert limit > 0\n",
    "    assert isinstance(p,types.GeneratorType)\n",
    "    sec=0\n",
    "    sumi=0\n",
    "    while sumi<limit:\n",
    "        delta=next(p)\n",
    "        sec=int(delta.total_seconds())\n",
    "        if sec%2!=0:\n",
    "            sumi+=1\n",
    "        limitUpdate = (yield sumi)\n",
    "        if limitUpdate!=None:\n",
    "            assert limitUpdate>=limit\n",
    "            limit = limitUpdate\n",
    "        \n",
    "        \n"
   ]
  },
  {
   "cell_type": "code",
   "execution_count": null,
   "metadata": {},
   "outputs": [],
   "source": [
    "p=producer()\n",
    "t=tracker(p,limit=2)"
   ]
  },
  {
   "cell_type": "code",
   "execution_count": null,
   "metadata": {},
   "outputs": [],
   "source": [
    "list(tracker([\"ssds\"],limit=3))"
   ]
  },
  {
   "cell_type": "code",
   "execution_count": null,
   "metadata": {},
   "outputs": [],
   "source": [
    "next(t)"
   ]
  },
  {
   "cell_type": "code",
   "execution_count": 36,
   "metadata": {},
   "outputs": [],
   "source": [
    "import itertools as it\n",
    "import random\n",
    "\n",
    "def get_sample(nbits=3, prob=None, n=4):\n",
    "    ''' This func returns list of n samples from a finite PMF defined by dict prob\n",
    "    with keys defined by specific num of bits.\n",
    "    '''\n",
    "    assert isinstance(prob,dict) and isinstance(nbits,int) and isinstance(n,int)\n",
    "    assert nbits>0\n",
    "    assert len(prob.keys())==pow(2,nbits)\n",
    "    assert sum(list(prob.values()))==1\n",
    "\n",
    "    keys=list(prob.keys())\n",
    "    w = [prob[x] for x in keys]\n",
    "    return random.choices(keys,w,k=n)"
   ]
  },
  {
   "cell_type": "code",
   "execution_count": 8,
   "metadata": {},
   "outputs": [
    {
     "data": {
      "text/plain": [
       "['001', '101']"
      ]
     },
     "execution_count": 8,
     "metadata": {},
     "output_type": "execute_result"
    }
   ],
   "source": [
    "bits=3\n",
    "p={ \"\".join(x):1/pow(2,bits) for x in it.product([\"1\",\"0\"],repeat=bits)}\n",
    "get_sample(bits,p,2)\n"
   ]
  },
  {
   "cell_type": "code",
   "execution_count": 61,
   "metadata": {},
   "outputs": [
    {
     "name": "stdout",
     "output_type": "stream",
     "text": [
      "['111', '110', '101', '100', '011', '010', '001', '000'] [0.125, 0.125, 0.125, 0.125, 0.125, 0.125, 0.125, 0.125]\n"
     ]
    },
    {
     "data": {
      "text/plain": [
       "['011', '100']"
      ]
     },
     "execution_count": 61,
     "metadata": {},
     "output_type": "execute_result"
    }
   ],
   "source": [
    "get_sammple(3,p,2)"
   ]
  },
  {
   "cell_type": "code",
   "execution_count": 37,
   "metadata": {},
   "outputs": [],
   "source": [
    "def map_bitstring(l):\n",
    "    ''' This func takes a list of bitstrings (i.e., 0101) and maps each bitstring \n",
    "    to 0 if the number of 0s in the bitstring strictly exceeds the number of 1s\n",
    "    '''\n",
    "    assert isinstance(l,list)\n",
    "    strings = list(set(l))    \n",
    "    ans = {}\n",
    "    for s in strings:\n",
    "        assert isinstance(s,str)\n",
    "        intString = []\n",
    "        for b in s:\n",
    "            assert b=='1' or b=='0'\n",
    "            intString.append(int(b))\n",
    "\n",
    "        if sum(intString)>=len(intString)-sum(intString):\n",
    "            ans[s]=1\n",
    "        else:\n",
    "            ans[s]=0\n",
    "    return ans"
   ]
  },
  {
   "cell_type": "code",
   "execution_count": 35,
   "metadata": {},
   "outputs": [
    {
     "data": {
      "text/plain": [
       "{'011': 1, '1100': 1, '000': 0, '111': 1, '100': 0, '010': 0, '110': 1}"
      ]
     },
     "execution_count": 35,
     "metadata": {},
     "output_type": "execute_result"
    }
   ],
   "source": [
    "map_bitstring(['100', '1100', '110', '010', '111', '000', '110', '010', '011', '000'])"
   ]
  },
  {
   "cell_type": "code",
   "execution_count": 40,
   "metadata": {},
   "outputs": [],
   "source": [
    "def gather_values(x):\n",
    "    '''This func generates n samples and tally the number of times an \n",
    "    existing key is repeated. Generate a new dictionary with \n",
    "    bitstrings as keys and with values as lists that contain \n",
    "    the corresponding mapped values from map_bitstring.\n",
    "    '''\n",
    "    assert isinstance(x,list)\n",
    "    bit_map = map_bitstring(x)\n",
    "    freq_map = {}\n",
    "    for b in x:\n",
    "        if b not in freq_map:\n",
    "            freq_map[b]=[]\n",
    "        freq_map[b].append(bit_map[b])\n",
    "    return freq_map\n",
    "    \n"
   ]
  },
  {
   "cell_type": "code",
   "execution_count": 39,
   "metadata": {},
   "outputs": [
    {
     "data": {
      "text/plain": [
       "{'10': [1, 1, 1, 1, 1],\n",
       " '11': [1, 1, 1, 1, 1, 1],\n",
       " '01': [1, 1, 1],\n",
       " '00': [0, 0, 0, 0, 0, 0]}"
      ]
     },
     "execution_count": 39,
     "metadata": {},
     "output_type": "execute_result"
    }
   ],
   "source": [
    "gather_values(['10', '11', '01', '00', '10', '00', '00', '11', '10', '00', '00', '01', '01', '11', '10', '00', '11', '10', '11', '11'])"
   ]
  },
  {
   "cell_type": "code",
   "execution_count": 133,
   "metadata": {},
   "outputs": [],
   "source": [
    "def threshold_values(seq,threshold=1):\n",
    "    ''' This func thresholds the sampled values based upon their frequency and value.\n",
    "    Given threshold=2, we want to keep only those bitstrings with \n",
    "    the two highest frequency counts of the 1 value.\n",
    "    '''\n",
    "    assert threshold>0\n",
    "    g_map = gather_values(seq)\n",
    "    f = [ k for k,v in sorted(g_map.items(),key=lambda x: (len(x[1]),-int(x[0],2)),reverse=True)][:threshold]\n",
    "    f_map={}\n",
    "    for k,v in g_map.items():\n",
    "        if k in f:\n",
    "            f_map[k]=1\n",
    "        else:\n",
    "            f_map[k]=0\n",
    "        \n",
    "    return f_map "
   ]
  },
  {
   "cell_type": "code",
   "execution_count": 134,
   "metadata": {},
   "outputs": [],
   "source": [
    "seq=['1111', '0110', '1001', '0011', '0111', '0100', '0111', '1100', '0011', '0010', '0010', '1010', '1010', '1100', '0110', '0101', '0110', '1111', '1001', '0110', '0010', '1101', '0101', '0010', '0100', '0010', '0000', '0000', '0011', '0110', '0101', '1010', '1011', '1101', '1100', '0111', '1110', '0100', '0110', '1101', '0001', '1110', '0010', '0001', '1010', '1010', '0011', '1000', '0010', '0000', '1010', '1101', '1111', '1000', '1000', '0010', '1010', '0101', '0101', '1101', '0110', '1001', '1100', '1100', '1000', '1010', '0011', '0101', '0101', '0011', '0001', '1010', '0011', '0011', '1101', '1010', '0101', '0011', '1011', '0101', '0000', '1111', '1001', '0101', '1100', '0011', '1111', '1101', '0001', '1111', '1110', '1111', '0001', '0010', '0110', '0100', '0101', '1100', '1110', '1001'] "
   ]
  },
  {
   "cell_type": "code",
   "execution_count": 135,
   "metadata": {},
   "outputs": [
    {
     "data": {
      "text/plain": [
       "{'1111': 0,\n",
       " '0110': 0,\n",
       " '1001': 0,\n",
       " '0011': 1,\n",
       " '0111': 0,\n",
       " '0100': 0,\n",
       " '1100': 0,\n",
       " '0010': 0,\n",
       " '1010': 1,\n",
       " '0101': 1,\n",
       " '1101': 0,\n",
       " '0000': 0,\n",
       " '1011': 0,\n",
       " '1110': 0,\n",
       " '0001': 0,\n",
       " '1000': 0}"
      ]
     },
     "execution_count": 135,
     "metadata": {},
     "output_type": "execute_result"
    }
   ],
   "source": [
    "threshold_values(seq,3)"
   ]
  },
  {
   "cell_type": "code",
   "execution_count": 45,
   "metadata": {},
   "outputs": [],
   "source": [
    "import itertools as it\n",
    "\n",
    "def descrambler(w,k):\n",
    "    '''This generator yields all outcomes which descrambles the word into\n",
    "    k paritions with each partition representing a word from given common\n",
    "    word dictionary.'''\n",
    "    assert isinstance(w,str)\n",
    "    assert isinstance(k,tuple)\n",
    "    assert len(w)==sum(k)\n",
    "    assert \" \" not in w\n",
    "    import collections\n",
    "    word_map=collections.defaultdict(set)\n",
    "    with open('words.txt','r') as f:\n",
    "        for l in f.readlines():\n",
    "            temp = l.strip()\n",
    "            key=len(temp)\n",
    "            if key not in word_map:\n",
    "                word_map[key]=set()\n",
    "            word_map[key].add(l.strip())\n",
    "    print(\"Word List loaded\")\n",
    "    ans = set()\n",
    "    for p in it.permutations(w,len(w)):\n",
    "        s = \"\".join(p)\n",
    "        st=0\n",
    "        f=0\n",
    "        res=[]\n",
    "        \n",
    "        for gap in k:\n",
    "            en=st+gap\n",
    "            if s[st:en] not in word_map[gap]:\n",
    "                f=1\n",
    "                break\n",
    "            res.append(s[st:en])\n",
    "            st=en\n",
    "        res=\" \".join(res)\n",
    "        if f==0 and res not in ans:\n",
    "            ans.add(res)\n",
    "            yield res\n",
    "\n",
    "\n"
   ]
  },
  {
   "cell_type": "code",
   "execution_count": 46,
   "metadata": {},
   "outputs": [
    {
     "name": "stdout",
     "output_type": "stream",
     "text": [
      "Word List loaded\n"
     ]
    },
    {
     "data": {
      "text/plain": [
       "['there hello', 'hello three', 'hello there']"
      ]
     },
     "execution_count": 46,
     "metadata": {},
     "output_type": "execute_result"
    }
   ],
   "source": [
    "g=descrambler('trleeohelh' , k=(5,5))\n",
    "next(g)\n",
    "list(g)"
   ]
  },
  {
   "cell_type": "code",
   "execution_count": 41,
   "metadata": {},
   "outputs": [
    {
     "data": {
      "text/plain": [
       "'ceeghiknooootu'"
      ]
     },
     "execution_count": 41,
     "metadata": {},
     "output_type": "execute_result"
    }
   ],
   "source": [
    "\"\".join(sorted('choeounokeoitg'))"
   ]
  },
  {
   "cell_type": "code",
   "execution_count": 86,
   "metadata": {},
   "outputs": [
    {
     "name": "stdout",
     "output_type": "stream",
     "text": [
      "Words loaded \n"
     ]
    }
   ],
   "source": [
    "w='choeounokeoitg'\n",
    "k=(3,5,6)\n",
    "word_map={}\n",
    "with open('words.txt','r') as f:\n",
    "    for l in f.readlines():\n",
    "        temp = l.strip()\n",
    "        sort_s = \"\".join(sorted(temp))\n",
    "        if sort_s not in word_map:\n",
    "            word_map[sort_s]=set()\n",
    "        word_map[sort_s].add(l.strip())\n",
    "print(\"Words loaded \")"
   ]
  },
  {
   "cell_type": "code",
   "execution_count": 88,
   "metadata": {},
   "outputs": [
    {
     "ename": "KeyError",
     "evalue": "'eelrt'",
     "output_type": "error",
     "traceback": [
      "\u001b[1;31m---------------------------------------------------------------------------\u001b[0m",
      "\u001b[1;31mKeyError\u001b[0m                                  Traceback (most recent call last)",
      "\u001b[1;32m<ipython-input-88-a64249769181>\u001b[0m in \u001b[0;36m<module>\u001b[1;34m\u001b[0m\n\u001b[1;32m----> 1\u001b[1;33m \u001b[0mword_map\u001b[0m\u001b[1;33m[\u001b[0m\u001b[1;34m'eelrt'\u001b[0m\u001b[1;33m]\u001b[0m\u001b[1;33m\u001b[0m\u001b[1;33m\u001b[0m\u001b[0m\n\u001b[0m",
      "\u001b[1;31mKeyError\u001b[0m: 'eelrt'"
     ]
    }
   ],
   "source": [
    "word_map['eelrt']"
   ]
  },
  {
   "cell_type": "code",
   "execution_count": 13,
   "metadata": {},
   "outputs": [],
   "source": [
    "import itertools as it\n",
    "\n",
    "def descrambler(w,k):\n",
    "    '''This generator yields all outcomes which descrambles the word into\n",
    "    k paritions with each partition representing a word from given common\n",
    "    word dictionary.'''\n",
    "    assert isinstance(w,str)\n",
    "    assert isinstance(k,tuple)\n",
    "    assert len(w)==sum(k)\n",
    "    assert \" \" not in w\n",
    "    \n",
    "    word_map = {}\n",
    "    with open('words.txt','r') as f:\n",
    "        for l in f.readlines():\n",
    "            temp = l.strip()\n",
    "            sort_s = \"\".join(sorted(temp))\n",
    "            if sort_s not in word_map:\n",
    "                word_map[sort_s]=set()\n",
    "            word_map[sort_s].add(temp)\n",
    "    print(\"Words loaded! \")\n",
    "    \n",
    "    ans_set=set()\n",
    "    def gen(tot_k,pos,part_k,words,word,vis):\n",
    "        if pos>k[part_k] or part_k>tot_k:\n",
    "            return\n",
    "        if pos==k[part_k]: \n",
    "            sorted_key = \"\".join(sorted(word))\n",
    "            if sorted_key in word_map:\n",
    "                for wi in word_map[sorted_key]:\n",
    "                    # print(\"Boom foundiiiiii \",wi,word,part_k,tot_k)    \n",
    "#                     if wi in words:\n",
    "#                         return\n",
    "                    words.append(wi)\n",
    "                    if part_k>=tot_k:\n",
    "                        if \" \".join(words) not in ans_set:\n",
    "                            ans_set.add(\" \".join(words))\n",
    "                            print(\"Booom \",part_k,tot_k,\" \".join(words))\n",
    "                    else:\n",
    "                        gen(tot_k,0,part_k+1,words,\"\",vis)\n",
    "                    words.pop()\n",
    "            return\n",
    "        # print(word,words,pos,part_k,k)\n",
    "        for i in range(0,len(w)):\n",
    "            if i not in vis or vis[i]!=1:\n",
    "                # print(word)\n",
    "                vis[i]=1\n",
    "                gen(tot_k,pos+1,part_k,words,word+w[i],vis)\n",
    "                vis[i]=0\n",
    "#                 gen(tot_k,pos,part_k,words,word,vis)\n",
    "        return\n",
    "\n",
    "    gen(len(k)-1,0,0,[],\"\",{})\n",
    "    return list(ans_set)"
   ]
  },
  {
   "cell_type": "code",
   "execution_count": 19,
   "metadata": {},
   "outputs": [],
   "source": [
    "import itertools as it\n",
    "\n",
    "def descrambler(w,k):\n",
    "    '''This generator yields all outcomes which descrambles the word into\n",
    "    k paritions with each partition representing a word from given common\n",
    "    word dictionary.'''\n",
    "    assert isinstance(w,str)\n",
    "    assert isinstance(k,tuple)\n",
    "    assert len(w)==sum(k)\n",
    "    assert \" \" not in w\n",
    "    \n",
    "    from collections import defaultdict\n",
    "    word_map = defaultdict(set)\n",
    "    with open('words.txt','r') as f:\n",
    "        while True:\n",
    "            l = f.readline()\n",
    "            \n",
    "            if not l:\n",
    "                break\n",
    "            temp = l.strip()\n",
    "            if len(temp) not in k:\n",
    "                continue\n",
    "            word_map[len(temp)].add(temp)\n",
    "#     for k,v in word_map.items():\n",
    "#         print(k,len(v))\n",
    "    \n",
    "    ans_set=set()    \n",
    "    mem_map=defaultdict(int)\n",
    "    def gen(tot_k,pos,part_k,words,word,vis):\n",
    "        if pos>k[part_k] or part_k>tot_k:\n",
    "            return\n",
    "        \n",
    "        if pos==k[part_k]: \n",
    "            if word in word_map[len(word)]:\n",
    "                words.append(word)\n",
    "                if part_k>=tot_k:\n",
    "                    ordered_w = \" \".join(words)\n",
    "                    if ordered_w not in ans_set:\n",
    "                        ans_set.add(ordered_w)                    \n",
    "                else:\n",
    "                    if mem_map[(part_k,word)]!=1:\n",
    "                        mem_map[(part_k,word)]=1\n",
    "                        gen(tot_k,0,part_k+1,words,\"\",vis)\n",
    "                        \n",
    "                words.pop()\n",
    "            return\n",
    "\n",
    "        for i in range(0,len(w)):\n",
    "            if i not in vis or vis[i]!=1:\n",
    "                vis[i]=1\n",
    "                gen(tot_k,pos+1,part_k,words,word+w[i],vis)\n",
    "                vis[i]=0\n",
    "#         mem_map[(word,part_k,pos)]=1\n",
    "        return \n",
    "\n",
    "    gen(len(k)-1,0,0,[],\"\",{})\n",
    "    \n",
    "    for i in list(ans_set):\n",
    "        yield i"
   ]
  },
  {
   "cell_type": "code",
   "execution_count": 77,
   "metadata": {},
   "outputs": [],
   "source": [
    "from collections import defaultdict,Counter\n",
    "\n",
    "def descrambler(w,k):\n",
    "    '''This generator yields all outcomes which descrambles the word into\n",
    "    k paritions with each partition representing a word from given common\n",
    "    word dictionary.'''\n",
    "    assert isinstance(w,str)\n",
    "    assert isinstance(k,tuple)\n",
    "    assert len(w)==sum(k)\n",
    "    assert \" \" not in w\n",
    "    \n",
    "    word_map = defaultdict(set)\n",
    "    with open('words.txt','r') as f:\n",
    "        while True:\n",
    "            l = f.readline()\n",
    "            \n",
    "            if not l:\n",
    "                break\n",
    "            temp = l.strip()\n",
    "            if len(temp) not in k:\n",
    "                continue\n",
    "            word_map[len(temp)].add(temp)\n",
    "    \n",
    "    ans_set=set()\n",
    "    def gen(tot_part,freq_c, k_part, words):\n",
    "        if k_part>=tot_part:\n",
    "            if \" \".join(words) not in ans_set:\n",
    "                ans_set.add(\" \".join(words))\n",
    "            return\n",
    "        for word in word_map[k[k_part]]:\n",
    "            source_counter = dict(Counter(word))\n",
    "            target_counter = dict(freq_c.copy())\n",
    "            f=0\n",
    "            for s_key,s_f in source_counter.items():\n",
    "                if s_key in target_counter and target_counter[s_key]>=s_f:\n",
    "                    target_counter[s_key]-=source_counter[s_key]\n",
    "                else:\n",
    "                    f=1\n",
    "                    break\n",
    "            if f==1:\n",
    "                continue\n",
    "            else:\n",
    "                words.append(word)\n",
    "                gen(tot_part,target_counter,k_part+1,words)\n",
    "                words.pop()\n",
    "    gen(len(k),Counter(w),0,[])  \n",
    "    \n",
    "    for i in list(ans_set):\n",
    "        yield i\n",
    "            \n",
    "    \n",
    "    "
   ]
  },
  {
   "cell_type": "code",
   "execution_count": 78,
   "metadata": {},
   "outputs": [
    {
     "name": "stdout",
     "output_type": "stream",
     "text": [
      "Wall time: 1.91 s\n"
     ]
    },
    {
     "data": {
      "text/plain": [
       "['neo ought cookie',\n",
       " 'neo tough cookie',\n",
       " 'one ought cookie',\n",
       " 'one tough cookie']"
      ]
     },
     "execution_count": 78,
     "metadata": {},
     "output_type": "execute_result"
    }
   ],
   "source": [
    "%time list(descrambler('choeounokeoitg',(3,5,6)))"
   ]
  },
  {
   "cell_type": "code",
   "execution_count": 79,
   "metadata": {},
   "outputs": [
    {
     "data": {
      "text/plain": [
       "'wise insider consequences'"
      ]
     },
     "execution_count": 79,
     "metadata": {},
     "output_type": "execute_result"
    }
   ],
   "source": [
    "g=descrambler('qeodwnsciseuesincereins',(4,7,12))\n",
    "next(g)"
   ]
  },
  {
   "cell_type": "code",
   "execution_count": 80,
   "metadata": {},
   "outputs": [
    {
     "ename": "StopIteration",
     "evalue": "",
     "output_type": "error",
     "traceback": [
      "\u001b[1;31m---------------------------------------------------------------------------\u001b[0m",
      "\u001b[1;31mStopIteration\u001b[0m                             Traceback (most recent call last)",
      "\u001b[1;32m~\\AppData\\Local\\Temp/ipykernel_21068/4253931490.py\u001b[0m in \u001b[0;36m<module>\u001b[1;34m\u001b[0m\n\u001b[1;32m----> 1\u001b[1;33m \u001b[0mnext\u001b[0m\u001b[1;33m(\u001b[0m\u001b[0mg\u001b[0m\u001b[1;33m)\u001b[0m\u001b[1;33m\u001b[0m\u001b[1;33m\u001b[0m\u001b[0m\n\u001b[0m",
      "\u001b[1;31mStopIteration\u001b[0m: "
     ]
    }
   ],
   "source": [
    "next(g)"
   ]
  },
  {
   "cell_type": "code",
   "execution_count": 74,
   "metadata": {},
   "outputs": [
    {
     "name": "stdout",
     "output_type": "stream",
     "text": [
      "Wall time: 2.45 s\n"
     ]
    },
    {
     "data": {
      "text/plain": [
       "['wise insider consequences']"
      ]
     },
     "execution_count": 74,
     "metadata": {},
     "output_type": "execute_result"
    }
   ],
   "source": [
    "%time list(descrambler('qeodwnsciseuesincereins',(4,7,12)))"
   ]
  },
  {
   "cell_type": "code",
   "execution_count": 71,
   "metadata": {},
   "outputs": [],
   "source": [
    "import itertools as it\n",
    "\n",
    "def descrambler(w,k):\n",
    "    '''This generator yields all outcomes which descrambles the word into\n",
    "    k paritions with each partition representing a word from given common\n",
    "    word dictionary.'''on\n",
    "    assert isinstance(w,str)\n",
    "    assert isinstance(k,tuple)\n",
    "    assert len(w)==sum(k)\n",
    "    assert \" \" not in w\n",
    "    \n",
    "    word_map = {}\n",
    "    with open('words.txt','r') as f:\n",
    "        for l in f.readlines():\n",
    "            temp = l.strip()\n",
    "            if len(temp) not in word_map:\n",
    "                word_map[len(temp)]=set()\n",
    "            word_map[len(temp)].add(temp)\n",
    "    \n",
    "    ans_set=set()\n",
    "    def gen(tot_k,pos,part_k,words,word,vis):\n",
    "        if pos>k[part_k] or part_k>tot_k:\n",
    "            return\n",
    "        if pos==k[part_k]: \n",
    "            sorted_key = \"\".join(sorted(word))\n",
    "            if word in word_map[len(word)]:\n",
    "                words.append(word)\n",
    "                if part_k>=tot_k:\n",
    "                    ordered_w = \" \".join(words)\n",
    "                    if ordered_w not in ans_set:\n",
    "                        ans_set.add(ordered_w)\n",
    "                        yield ordered_w\n",
    "                        \n",
    "#                         print(\"Booom \",part_k,tot_k,\" \".join(words))\n",
    "                else:\n",
    "                    yield from gen(tot_k,0,part_k+1,words,\"\",vis)\n",
    "                words.pop()\n",
    "            return\n",
    "\n",
    "        for i in range(0,len(w)):\n",
    "            if i not in vis or vis[i]!=1:\n",
    "                # print(word)\n",
    "                vis[i]=1\n",
    "                yield from gen(tot_k,pos+1,part_k,words,word+w[i],vis)\n",
    "                vis[i]=0\n",
    "        return\n",
    "\n",
    "    g=None\n",
    "    if g==None:\n",
    "        g=gen(len(k)-1,0,0,[],\"\",{})\n",
    "        return g\n",
    "    else:\n",
    "        while g:\n",
    "            yield\n",
    "        return next(g)\n",
    "    "
   ]
  },
  {
   "cell_type": "code",
   "execution_count": 53,
   "metadata": {},
   "outputs": [
    {
     "name": "stdout",
     "output_type": "stream",
     "text": [
      "Wall time: 40.3 s\n"
     ]
    },
    {
     "data": {
      "text/plain": [
       "['one ought cookie',\n",
       " 'one ought cookie cookie',\n",
       " 'one ought cookie ought cookie',\n",
       " 'one ought cookie ought cookie cookie',\n",
       " 'one ought cookie ought cookie ought cookie',\n",
       " 'one ought cookie ought cookie ought cookie cookie',\n",
       " 'one ought cookie ought cookie ought cookie tough cookie',\n",
       " 'one ought cookie ought cookie ought cookie tough cookie cookie',\n",
       " 'one ought cookie ought cookie ought cookie tough cookie tough cookie',\n",
       " 'one ought cookie ought cookie ought cookie tough cookie tough cookie cookie',\n",
       " 'one ought cookie ought cookie ought cookie tough cookie tough cookie tough cookie',\n",
       " 'one ought cookie ought cookie ought cookie tough cookie tough cookie tough cookie cookie',\n",
       " 'one ought cookie ought cookie ought cookie tough cookie tough cookie tough one ought cookie',\n",
       " 'one ought cookie ought cookie ought cookie tough cookie tough cookie tough one ought cookie cookie',\n",
       " 'one ought cookie ought cookie ought cookie tough cookie tough cookie tough one ought cookie ought cookie',\n",
       " 'one ought cookie ought cookie ought cookie tough cookie tough cookie tough one ought cookie ought cookie cookie',\n",
       " 'one ought cookie ought cookie ought cookie tough cookie tough cookie tough one ought cookie ought cookie ought cookie',\n",
       " 'one ought cookie ought cookie ought cookie tough cookie tough cookie tough one ought cookie ought cookie ought cookie cookie',\n",
       " 'one ought cookie ought cookie ought cookie tough cookie tough cookie tough one ought cookie ought cookie ought cookie tough cookie',\n",
       " 'one ought cookie ought cookie ought cookie tough cookie tough cookie tough one ought cookie ought cookie ought cookie tough cookie cookie',\n",
       " 'one ought cookie ought cookie ought cookie tough cookie tough cookie tough one ought cookie ought cookie ought cookie tough cookie tough cookie',\n",
       " 'one ought cookie ought cookie ought cookie tough cookie tough cookie tough one ought cookie ought cookie ought cookie tough cookie tough cookie cookie',\n",
       " 'one ought cookie ought cookie ought cookie tough cookie tough cookie tough one ought cookie ought cookie ought cookie tough cookie tough cookie tough cookie',\n",
       " 'one ought cookie ought cookie ought cookie tough cookie tough cookie tough one ought cookie ought cookie ought cookie tough cookie tough cookie tough cookie cookie',\n",
       " 'one ought cookie ought cookie ought cookie tough cookie tough cookie tough one ought cookie ought cookie ought cookie tough cookie tough cookie tough one ought cookie',\n",
       " 'one ought cookie ought cookie ought cookie tough cookie tough cookie tough one ought cookie ought cookie ought cookie tough cookie tough cookie tough one ought cookie cookie',\n",
       " 'one ought cookie ought cookie ought cookie tough cookie tough cookie tough one ought cookie ought cookie ought cookie tough cookie tough cookie tough one ought cookie ought cookie',\n",
       " 'one ought cookie ought cookie ought cookie tough cookie tough cookie tough one ought cookie ought cookie ought cookie tough cookie tough cookie tough one ought cookie ought cookie cookie',\n",
       " 'one ought cookie ought cookie ought cookie tough cookie tough cookie tough one ought cookie ought cookie ought cookie tough cookie tough cookie tough one ought cookie ought cookie ought cookie',\n",
       " 'one ought cookie ought cookie ought cookie tough cookie tough cookie tough one ought cookie ought cookie ought cookie tough cookie tough cookie tough one ought cookie ought cookie ought cookie cookie',\n",
       " 'one ought cookie ought cookie ought cookie tough cookie tough cookie tough one ought cookie ought cookie ought cookie tough cookie tough cookie tough one ought cookie ought cookie ought cookie tough cookie',\n",
       " 'one ought cookie ought cookie ought cookie tough cookie tough cookie tough one ought cookie ought cookie ought cookie tough cookie tough cookie tough one ought cookie ought cookie ought cookie tough cookie cookie',\n",
       " 'one ought cookie ought cookie ought cookie tough cookie tough cookie tough one ought cookie ought cookie ought cookie tough cookie tough cookie tough one ought cookie ought cookie ought cookie tough cookie tough cookie',\n",
       " 'one ought cookie ought cookie ought cookie tough cookie tough cookie tough one ought cookie ought cookie ought cookie tough cookie tough cookie tough one ought cookie ought cookie ought cookie tough cookie tough cookie cookie',\n",
       " 'one ought cookie ought cookie ought cookie tough cookie tough cookie tough one ought cookie ought cookie ought cookie tough cookie tough cookie tough one ought cookie ought cookie ought cookie tough cookie tough cookie tough cookie',\n",
       " 'one ought cookie ought cookie ought cookie tough cookie tough cookie tough one ought cookie ought cookie ought cookie tough cookie tough cookie tough one ought cookie ought cookie ought cookie tough cookie tough cookie tough cookie cookie',\n",
       " 'one ought cookie ought cookie ought cookie tough cookie tough cookie tough one ought cookie ought cookie ought cookie tough cookie tough cookie tough one ought cookie ought cookie ought cookie tough cookie tough cookie tough one ought cookie',\n",
       " 'one ought cookie ought cookie ought cookie tough cookie tough cookie tough one ought cookie ought cookie ought cookie tough cookie tough cookie tough one ought cookie ought cookie ought cookie tough cookie tough cookie tough one ought cookie cookie',\n",
       " 'one ought cookie ought cookie ought cookie tough cookie tough cookie tough one ought cookie ought cookie ought cookie tough cookie tough cookie tough one ought cookie ought cookie ought cookie tough cookie tough cookie tough one ought cookie ought cookie',\n",
       " 'one ought cookie ought cookie ought cookie tough cookie tough cookie tough one ought cookie ought cookie ought cookie tough cookie tough cookie tough one ought cookie ought cookie ought cookie tough cookie tough cookie tough one ought cookie ought cookie cookie',\n",
       " 'one ought cookie ought cookie ought cookie tough cookie tough cookie tough one ought cookie ought cookie ought cookie tough cookie tough cookie tough one ought cookie ought cookie ought cookie tough cookie tough cookie tough one ought cookie ought cookie ought cookie',\n",
       " 'one ought cookie ought cookie ought cookie tough cookie tough cookie tough one ought cookie ought cookie ought cookie tough cookie tough cookie tough one ought cookie ought cookie ought cookie tough cookie tough cookie tough one ought cookie ought cookie ought cookie cookie',\n",
       " 'one ought cookie ought cookie ought cookie tough cookie tough cookie tough one ought cookie ought cookie ought cookie tough cookie tough cookie tough one ought cookie ought cookie ought cookie tough cookie tough cookie tough one ought cookie ought cookie ought cookie tough cookie',\n",
       " 'one ought cookie ought cookie ought cookie tough cookie tough cookie tough one ought cookie ought cookie ought cookie tough cookie tough cookie tough one ought cookie ought cookie ought cookie tough cookie tough cookie tough one ought cookie ought cookie ought cookie tough cookie cookie',\n",
       " 'one ought cookie ought cookie ought cookie tough cookie tough cookie tough one ought cookie ought cookie ought cookie tough cookie tough cookie tough one ought cookie ought cookie ought cookie tough cookie tough cookie tough one ought cookie ought cookie ought cookie tough cookie tough cookie',\n",
       " 'one ought cookie ought cookie ought cookie tough cookie tough cookie tough one ought cookie ought cookie ought cookie tough cookie tough cookie tough one ought cookie ought cookie ought cookie tough cookie tough cookie tough one ought cookie ought cookie ought cookie tough cookie tough cookie cookie',\n",
       " 'one ought cookie ought cookie ought cookie tough cookie tough cookie tough one ought cookie ought cookie ought cookie tough cookie tough cookie tough one ought cookie ought cookie ought cookie tough cookie tough cookie tough one ought cookie ought cookie ought cookie tough cookie tough cookie tough cookie',\n",
       " 'one ought cookie ought cookie ought cookie tough cookie tough cookie tough one ought cookie ought cookie ought cookie tough cookie tough cookie tough one ought cookie ought cookie ought cookie tough cookie tough cookie tough one ought cookie ought cookie ought cookie tough cookie tough cookie tough cookie cookie',\n",
       " 'one ought cookie ought cookie ought cookie tough cookie tough cookie tough one ought cookie ought cookie ought cookie tough cookie tough cookie tough one ought cookie ought cookie ought cookie tough cookie tough cookie tough one ought cookie ought cookie ought cookie tough cookie tough cookie tough neo ought cookie',\n",
       " 'one ought cookie ought cookie ought cookie tough cookie tough cookie tough one ought cookie ought cookie ought cookie tough cookie tough cookie tough one ought cookie ought cookie ought cookie tough cookie tough cookie tough one ought cookie ought cookie ought cookie tough cookie tough cookie tough neo ought cookie cookie',\n",
       " 'one ought cookie ought cookie ought cookie tough cookie tough cookie tough one ought cookie ought cookie ought cookie tough cookie tough cookie tough one ought cookie ought cookie ought cookie tough cookie tough cookie tough one ought cookie ought cookie ought cookie tough cookie tough cookie tough neo ought cookie ought cookie',\n",
       " 'one ought cookie ought cookie ought cookie tough cookie tough cookie tough one ought cookie ought cookie ought cookie tough cookie tough cookie tough one ought cookie ought cookie ought cookie tough cookie tough cookie tough one ought cookie ought cookie ought cookie tough cookie tough cookie tough neo ought cookie ought cookie cookie',\n",
       " 'one ought cookie ought cookie ought cookie tough cookie tough cookie tough one ought cookie ought cookie ought cookie tough cookie tough cookie tough one ought cookie ought cookie ought cookie tough cookie tough cookie tough one ought cookie ought cookie ought cookie tough cookie tough cookie tough neo ought cookie ought cookie ought cookie',\n",
       " 'one ought cookie ought cookie ought cookie tough cookie tough cookie tough one ought cookie ought cookie ought cookie tough cookie tough cookie tough one ought cookie ought cookie ought cookie tough cookie tough cookie tough one ought cookie ought cookie ought cookie tough cookie tough cookie tough neo ought cookie ought cookie ought cookie cookie',\n",
       " 'one ought cookie ought cookie ought cookie tough cookie tough cookie tough one ought cookie ought cookie ought cookie tough cookie tough cookie tough one ought cookie ought cookie ought cookie tough cookie tough cookie tough one ought cookie ought cookie ought cookie tough cookie tough cookie tough neo ought cookie ought cookie ought cookie tough cookie',\n",
       " 'one ought cookie ought cookie ought cookie tough cookie tough cookie tough one ought cookie ought cookie ought cookie tough cookie tough cookie tough one ought cookie ought cookie ought cookie tough cookie tough cookie tough one ought cookie ought cookie ought cookie tough cookie tough cookie tough neo ought cookie ought cookie ought cookie tough cookie cookie',\n",
       " 'one ought cookie ought cookie ought cookie tough cookie tough cookie tough one ought cookie ought cookie ought cookie tough cookie tough cookie tough one ought cookie ought cookie ought cookie tough cookie tough cookie tough one ought cookie ought cookie ought cookie tough cookie tough cookie tough neo ought cookie ought cookie ought cookie tough cookie tough cookie',\n",
       " 'one ought cookie ought cookie ought cookie tough cookie tough cookie tough one ought cookie ought cookie ought cookie tough cookie tough cookie tough one ought cookie ought cookie ought cookie tough cookie tough cookie tough one ought cookie ought cookie ought cookie tough cookie tough cookie tough neo ought cookie ought cookie ought cookie tough cookie tough cookie cookie',\n",
       " 'one ought cookie ought cookie ought cookie tough cookie tough cookie tough one ought cookie ought cookie ought cookie tough cookie tough cookie tough one ought cookie ought cookie ought cookie tough cookie tough cookie tough one ought cookie ought cookie ought cookie tough cookie tough cookie tough neo ought cookie ought cookie ought cookie tough cookie tough cookie tough cookie',\n",
       " 'one ought cookie ought cookie ought cookie tough cookie tough cookie tough one ought cookie ought cookie ought cookie tough cookie tough cookie tough one ought cookie ought cookie ought cookie tough cookie tough cookie tough one ought cookie ought cookie ought cookie tough cookie tough cookie tough neo ought cookie ought cookie ought cookie tough cookie tough cookie tough cookie cookie',\n",
       " 'one ought cookie ought cookie ought cookie tough cookie tough cookie tough one ought cookie ought cookie ought cookie tough cookie tough cookie tough one ought cookie ought cookie ought cookie tough cookie tough cookie tough one ought cookie ought cookie ought cookie tough cookie tough cookie tough neo ought cookie ought cookie ought cookie tough cookie tough cookie tough neo ought cookie',\n",
       " 'one ought cookie ought cookie ought cookie tough cookie tough cookie tough one ought cookie ought cookie ought cookie tough cookie tough cookie tough one ought cookie ought cookie ought cookie tough cookie tough cookie tough one ought cookie ought cookie ought cookie tough cookie tough cookie tough neo ought cookie ought cookie ought cookie tough cookie tough cookie tough neo ought cookie cookie',\n",
       " 'one ought cookie ought cookie ought cookie tough cookie tough cookie tough one ought cookie ought cookie ought cookie tough cookie tough cookie tough one ought cookie ought cookie ought cookie tough cookie tough cookie tough one ought cookie ought cookie ought cookie tough cookie tough cookie tough neo ought cookie ought cookie ought cookie tough cookie tough cookie tough neo ought cookie ought cookie',\n",
       " 'one ought cookie ought cookie ought cookie tough cookie tough cookie tough one ought cookie ought cookie ought cookie tough cookie tough cookie tough one ought cookie ought cookie ought cookie tough cookie tough cookie tough one ought cookie ought cookie ought cookie tough cookie tough cookie tough neo ought cookie ought cookie ought cookie tough cookie tough cookie tough neo ought cookie ought cookie cookie',\n",
       " 'one ought cookie ought cookie ought cookie tough cookie tough cookie tough one ought cookie ought cookie ought cookie tough cookie tough cookie tough one ought cookie ought cookie ought cookie tough cookie tough cookie tough one ought cookie ought cookie ought cookie tough cookie tough cookie tough neo ought cookie ought cookie ought cookie tough cookie tough cookie tough neo ought cookie ought cookie ought cookie',\n",
       " 'one ought cookie ought cookie ought cookie tough cookie tough cookie tough one ought cookie ought cookie ought cookie tough cookie tough cookie tough one ought cookie ought cookie ought cookie tough cookie tough cookie tough one ought cookie ought cookie ought cookie tough cookie tough cookie tough neo ought cookie ought cookie ought cookie tough cookie tough cookie tough neo ought cookie ought cookie ought cookie cookie',\n",
       " 'one ought cookie ought cookie ought cookie tough cookie tough cookie tough one ought cookie ought cookie ought cookie tough cookie tough cookie tough one ought cookie ought cookie ought cookie tough cookie tough cookie tough one ought cookie ought cookie ought cookie tough cookie tough cookie tough neo ought cookie ought cookie ought cookie tough cookie tough cookie tough neo ought cookie ought cookie ought cookie tough cookie',\n",
       " 'one ought cookie ought cookie ought cookie tough cookie tough cookie tough one ought cookie ought cookie ought cookie tough cookie tough cookie tough one ought cookie ought cookie ought cookie tough cookie tough cookie tough one ought cookie ought cookie ought cookie tough cookie tough cookie tough neo ought cookie ought cookie ought cookie tough cookie tough cookie tough neo ought cookie ought cookie ought cookie tough cookie cookie',\n",
       " 'one ought cookie ought cookie ought cookie tough cookie tough cookie tough one ought cookie ought cookie ought cookie tough cookie tough cookie tough one ought cookie ought cookie ought cookie tough cookie tough cookie tough one ought cookie ought cookie ought cookie tough cookie tough cookie tough neo ought cookie ought cookie ought cookie tough cookie tough cookie tough neo ought cookie ought cookie ought cookie tough cookie tough cookie',\n",
       " 'one ought cookie ought cookie ought cookie tough cookie tough cookie tough one ought cookie ought cookie ought cookie tough cookie tough cookie tough one ought cookie ought cookie ought cookie tough cookie tough cookie tough one ought cookie ought cookie ought cookie tough cookie tough cookie tough neo ought cookie ought cookie ought cookie tough cookie tough cookie tough neo ought cookie ought cookie ought cookie tough cookie tough cookie cookie',\n",
       " 'one ought cookie ought cookie ought cookie tough cookie tough cookie tough one ought cookie ought cookie ought cookie tough cookie tough cookie tough one ought cookie ought cookie ought cookie tough cookie tough cookie tough one ought cookie ought cookie ought cookie tough cookie tough cookie tough neo ought cookie ought cookie ought cookie tough cookie tough cookie tough neo ought cookie ought cookie ought cookie tough cookie tough cookie tough cookie',\n",
       " 'one ought cookie ought cookie ought cookie tough cookie tough cookie tough one ought cookie ought cookie ought cookie tough cookie tough cookie tough one ought cookie ought cookie ought cookie tough cookie tough cookie tough one ought cookie ought cookie ought cookie tough cookie tough cookie tough neo ought cookie ought cookie ought cookie tough cookie tough cookie tough neo ought cookie ought cookie ought cookie tough cookie tough cookie tough cookie cookie',\n",
       " 'one ought cookie ought cookie ought cookie tough cookie tough cookie tough one ought cookie ought cookie ought cookie tough cookie tough cookie tough one ought cookie ought cookie ought cookie tough cookie tough cookie tough one ought cookie ought cookie ought cookie tough cookie tough cookie tough neo ought cookie ought cookie ought cookie tough cookie tough cookie tough neo ought cookie ought cookie ought cookie tough cookie tough cookie tough neo ought cookie',\n",
       " 'one ought cookie ought cookie ought cookie tough cookie tough cookie tough one ought cookie ought cookie ought cookie tough cookie tough cookie tough one ought cookie ought cookie ought cookie tough cookie tough cookie tough one ought cookie ought cookie ought cookie tough cookie tough cookie tough neo ought cookie ought cookie ought cookie tough cookie tough cookie tough neo ought cookie ought cookie ought cookie tough cookie tough cookie tough neo ought cookie cookie',\n",
       " 'one ought cookie ought cookie ought cookie tough cookie tough cookie tough one ought cookie ought cookie ought cookie tough cookie tough cookie tough one ought cookie ought cookie ought cookie tough cookie tough cookie tough one ought cookie ought cookie ought cookie tough cookie tough cookie tough neo ought cookie ought cookie ought cookie tough cookie tough cookie tough neo ought cookie ought cookie ought cookie tough cookie tough cookie tough neo ought cookie ought cookie',\n",
       " 'one ought cookie ought cookie ought cookie tough cookie tough cookie tough one ought cookie ought cookie ought cookie tough cookie tough cookie tough one ought cookie ought cookie ought cookie tough cookie tough cookie tough one ought cookie ought cookie ought cookie tough cookie tough cookie tough neo ought cookie ought cookie ought cookie tough cookie tough cookie tough neo ought cookie ought cookie ought cookie tough cookie tough cookie tough neo ought cookie ought cookie cookie',\n",
       " 'one ought cookie ought cookie ought cookie tough cookie tough cookie tough one ought cookie ought cookie ought cookie tough cookie tough cookie tough one ought cookie ought cookie ought cookie tough cookie tough cookie tough one ought cookie ought cookie ought cookie tough cookie tough cookie tough neo ought cookie ought cookie ought cookie tough cookie tough cookie tough neo ought cookie ought cookie ought cookie tough cookie tough cookie tough neo ought cookie ought cookie ought cookie',\n",
       " 'one ought cookie ought cookie ought cookie tough cookie tough cookie tough one ought cookie ought cookie ought cookie tough cookie tough cookie tough one ought cookie ought cookie ought cookie tough cookie tough cookie tough one ought cookie ought cookie ought cookie tough cookie tough cookie tough neo ought cookie ought cookie ought cookie tough cookie tough cookie tough neo ought cookie ought cookie ought cookie tough cookie tough cookie tough neo ought cookie ought cookie ought cookie cookie',\n",
       " 'one ought cookie ought cookie ought cookie tough cookie tough cookie tough one ought cookie ought cookie ought cookie tough cookie tough cookie tough one ought cookie ought cookie ought cookie tough cookie tough cookie tough one ought cookie ought cookie ought cookie tough cookie tough cookie tough neo ought cookie ought cookie ought cookie tough cookie tough cookie tough neo ought cookie ought cookie ought cookie tough cookie tough cookie tough neo ought cookie ought cookie ought cookie tough cookie',\n",
       " 'one ought cookie ought cookie ought cookie tough cookie tough cookie tough one ought cookie ought cookie ought cookie tough cookie tough cookie tough one ought cookie ought cookie ought cookie tough cookie tough cookie tough one ought cookie ought cookie ought cookie tough cookie tough cookie tough neo ought cookie ought cookie ought cookie tough cookie tough cookie tough neo ought cookie ought cookie ought cookie tough cookie tough cookie tough neo ought cookie ought cookie ought cookie tough cookie cookie',\n",
       " 'one ought cookie ought cookie ought cookie tough cookie tough cookie tough one ought cookie ought cookie ought cookie tough cookie tough cookie tough one ought cookie ought cookie ought cookie tough cookie tough cookie tough one ought cookie ought cookie ought cookie tough cookie tough cookie tough neo ought cookie ought cookie ought cookie tough cookie tough cookie tough neo ought cookie ought cookie ought cookie tough cookie tough cookie tough neo ought cookie ought cookie ought cookie tough cookie tough cookie',\n",
       " 'one ought cookie ought cookie ought cookie tough cookie tough cookie tough one ought cookie ought cookie ought cookie tough cookie tough cookie tough one ought cookie ought cookie ought cookie tough cookie tough cookie tough one ought cookie ought cookie ought cookie tough cookie tough cookie tough neo ought cookie ought cookie ought cookie tough cookie tough cookie tough neo ought cookie ought cookie ought cookie tough cookie tough cookie tough neo ought cookie ought cookie ought cookie tough cookie tough cookie cookie',\n",
       " 'one ought cookie ought cookie ought cookie tough cookie tough cookie tough one ought cookie ought cookie ought cookie tough cookie tough cookie tough one ought cookie ought cookie ought cookie tough cookie tough cookie tough one ought cookie ought cookie ought cookie tough cookie tough cookie tough neo ought cookie ought cookie ought cookie tough cookie tough cookie tough neo ought cookie ought cookie ought cookie tough cookie tough cookie tough neo ought cookie ought cookie ought cookie tough cookie tough cookie tough cookie',\n",
       " 'one ought cookie ought cookie ought cookie tough cookie tough cookie tough one ought cookie ought cookie ought cookie tough cookie tough cookie tough one ought cookie ought cookie ought cookie tough cookie tough cookie tough one ought cookie ought cookie ought cookie tough cookie tough cookie tough neo ought cookie ought cookie ought cookie tough cookie tough cookie tough neo ought cookie ought cookie ought cookie tough cookie tough cookie tough neo ought cookie ought cookie ought cookie tough cookie tough cookie tough cookie cookie',\n",
       " 'one ought cookie ought cookie ought cookie tough cookie tough cookie tough one ought cookie ought cookie ought cookie tough cookie tough cookie tough one ought cookie ought cookie ought cookie tough cookie tough cookie tough one ought cookie ought cookie ought cookie tough cookie tough cookie tough neo ought cookie ought cookie ought cookie tough cookie tough cookie tough neo ought cookie ought cookie ought cookie tough cookie tough cookie tough neo ought cookie ought cookie ought cookie tough cookie tough cookie tough neo ought cookie',\n",
       " 'one ought cookie ought cookie ought cookie tough cookie tough cookie tough one ought cookie ought cookie ought cookie tough cookie tough cookie tough one ought cookie ought cookie ought cookie tough cookie tough cookie tough one ought cookie ought cookie ought cookie tough cookie tough cookie tough neo ought cookie ought cookie ought cookie tough cookie tough cookie tough neo ought cookie ought cookie ought cookie tough cookie tough cookie tough neo ought cookie ought cookie ought cookie tough cookie tough cookie tough neo ought cookie cookie',\n",
       " 'one ought cookie ought cookie ought cookie tough cookie tough cookie tough one ought cookie ought cookie ought cookie tough cookie tough cookie tough one ought cookie ought cookie ought cookie tough cookie tough cookie tough one ought cookie ought cookie ought cookie tough cookie tough cookie tough neo ought cookie ought cookie ought cookie tough cookie tough cookie tough neo ought cookie ought cookie ought cookie tough cookie tough cookie tough neo ought cookie ought cookie ought cookie tough cookie tough cookie tough neo ought cookie ought cookie',\n",
       " 'one ought cookie ought cookie ought cookie tough cookie tough cookie tough one ought cookie ought cookie ought cookie tough cookie tough cookie tough one ought cookie ought cookie ought cookie tough cookie tough cookie tough one ought cookie ought cookie ought cookie tough cookie tough cookie tough neo ought cookie ought cookie ought cookie tough cookie tough cookie tough neo ought cookie ought cookie ought cookie tough cookie tough cookie tough neo ought cookie ought cookie ought cookie tough cookie tough cookie tough neo ought cookie ought cookie cookie',\n",
       " 'one ought cookie ought cookie ought cookie tough cookie tough cookie tough one ought cookie ought cookie ought cookie tough cookie tough cookie tough one ought cookie ought cookie ought cookie tough cookie tough cookie tough one ought cookie ought cookie ought cookie tough cookie tough cookie tough neo ought cookie ought cookie ought cookie tough cookie tough cookie tough neo ought cookie ought cookie ought cookie tough cookie tough cookie tough neo ought cookie ought cookie ought cookie tough cookie tough cookie tough neo ought cookie ought cookie ought cookie',\n",
       " 'one ought cookie ought cookie ought cookie tough cookie tough cookie tough one ought cookie ought cookie ought cookie tough cookie tough cookie tough one ought cookie ought cookie ought cookie tough cookie tough cookie tough one ought cookie ought cookie ought cookie tough cookie tough cookie tough neo ought cookie ought cookie ought cookie tough cookie tough cookie tough neo ought cookie ought cookie ought cookie tough cookie tough cookie tough neo ought cookie ought cookie ought cookie tough cookie tough cookie tough neo ought cookie ought cookie ought cookie cookie',\n",
       " 'one ought cookie ought cookie ought cookie tough cookie tough cookie tough one ought cookie ought cookie ought cookie tough cookie tough cookie tough one ought cookie ought cookie ought cookie tough cookie tough cookie tough one ought cookie ought cookie ought cookie tough cookie tough cookie tough neo ought cookie ought cookie ought cookie tough cookie tough cookie tough neo ought cookie ought cookie ought cookie tough cookie tough cookie tough neo ought cookie ought cookie ought cookie tough cookie tough cookie tough neo ought cookie ought cookie ought cookie tough cookie',\n",
       " 'one ought cookie ought cookie ought cookie tough cookie tough cookie tough one ought cookie ought cookie ought cookie tough cookie tough cookie tough one ought cookie ought cookie ought cookie tough cookie tough cookie tough one ought cookie ought cookie ought cookie tough cookie tough cookie tough neo ought cookie ought cookie ought cookie tough cookie tough cookie tough neo ought cookie ought cookie ought cookie tough cookie tough cookie tough neo ought cookie ought cookie ought cookie tough cookie tough cookie tough neo ought cookie ought cookie ought cookie tough cookie cookie',\n",
       " 'one ought cookie ought cookie ought cookie tough cookie tough cookie tough one ought cookie ought cookie ought cookie tough cookie tough cookie tough one ought cookie ought cookie ought cookie tough cookie tough cookie tough one ought cookie ought cookie ought cookie tough cookie tough cookie tough neo ought cookie ought cookie ought cookie tough cookie tough cookie tough neo ought cookie ought cookie ought cookie tough cookie tough cookie tough neo ought cookie ought cookie ought cookie tough cookie tough cookie tough neo ought cookie ought cookie ought cookie tough cookie tough cookie',\n",
       " 'one ought cookie ought cookie ought cookie tough cookie tough cookie tough one ought cookie ought cookie ought cookie tough cookie tough cookie tough one ought cookie ought cookie ought cookie tough cookie tough cookie tough one ought cookie ought cookie ought cookie tough cookie tough cookie tough neo ought cookie ought cookie ought cookie tough cookie tough cookie tough neo ought cookie ought cookie ought cookie tough cookie tough cookie tough neo ought cookie ought cookie ought cookie tough cookie tough cookie tough neo ought cookie ought cookie ought cookie tough cookie tough cookie cookie',\n",
       " 'one ought cookie ought cookie ought cookie tough cookie tough cookie tough one ought cookie ought cookie ought cookie tough cookie tough cookie tough one ought cookie ought cookie ought cookie tough cookie tough cookie tough one ought cookie ought cookie ought cookie tough cookie tough cookie tough neo ought cookie ought cookie ought cookie tough cookie tough cookie tough neo ought cookie ought cookie ought cookie tough cookie tough cookie tough neo ought cookie ought cookie ought cookie tough cookie tough cookie tough neo ought cookie ought cookie ought cookie tough cookie tough cookie tough cookie',\n",
       " 'one ought cookie ought cookie ought cookie tough cookie tough cookie tough one ought cookie ought cookie ought cookie tough cookie tough cookie tough one ought cookie ought cookie ought cookie tough cookie tough cookie tough one ought cookie ought cookie ought cookie tough cookie tough cookie tough neo ought cookie ought cookie ought cookie tough cookie tough cookie tough neo ought cookie ought cookie ought cookie tough cookie tough cookie tough neo ought cookie ought cookie ought cookie tough cookie tough cookie tough neo ought cookie ought cookie ought cookie tough cookie tough cookie tough cookie cookie',\n",
       " 'one ought cookie ought cookie ought cookie tough cookie tough cookie tough one ought cookie ought cookie ought cookie tough cookie tough cookie tough one ought cookie ought cookie ought cookie tough cookie tough cookie tough one ought cookie ought cookie ought cookie tough cookie tough cookie tough neo ought cookie ought cookie ought cookie tough cookie tough cookie tough neo ought cookie ought cookie ought cookie tough cookie tough cookie tough neo ought cookie ought cookie ought cookie tough cookie tough cookie tough neo ought cookie ought cookie ought cookie tough cookie tough cookie tough neo ought cookie',\n",
       " 'one ought cookie ought cookie ought cookie tough cookie tough cookie tough one ought cookie ought cookie ought cookie tough cookie tough cookie tough one ought cookie ought cookie ought cookie tough cookie tough cookie tough one ought cookie ought cookie ought cookie tough cookie tough cookie tough neo ought cookie ought cookie ought cookie tough cookie tough cookie tough neo ought cookie ought cookie ought cookie tough cookie tough cookie tough neo ought cookie ought cookie ought cookie tough cookie tough cookie tough neo ought cookie ought cookie ought cookie tough cookie tough cookie tough neo ought cookie cookie',\n",
       " 'one ought cookie ought cookie ought cookie tough cookie tough cookie tough one ought cookie ought cookie ought cookie tough cookie tough cookie tough one ought cookie ought cookie ought cookie tough cookie tough cookie tough one ought cookie ought cookie ought cookie tough cookie tough cookie tough neo ought cookie ought cookie ought cookie tough cookie tough cookie tough neo ought cookie ought cookie ought cookie tough cookie tough cookie tough neo ought cookie ought cookie ought cookie tough cookie tough cookie tough neo ought cookie ought cookie ought cookie tough cookie tough cookie tough neo ought cookie ought cookie',\n",
       " 'one ought cookie ought cookie ought cookie tough cookie tough cookie tough one ought cookie ought cookie ought cookie tough cookie tough cookie tough one ought cookie ought cookie ought cookie tough cookie tough cookie tough one ought cookie ought cookie ought cookie tough cookie tough cookie tough neo ought cookie ought cookie ought cookie tough cookie tough cookie tough neo ought cookie ought cookie ought cookie tough cookie tough cookie tough neo ought cookie ought cookie ought cookie tough cookie tough cookie tough neo ought cookie ought cookie ought cookie tough cookie tough cookie tough neo ought cookie ought cookie cookie',\n",
       " 'one ought cookie ought cookie ought cookie tough cookie tough cookie tough one ought cookie ought cookie ought cookie tough cookie tough cookie tough one ought cookie ought cookie ought cookie tough cookie tough cookie tough one ought cookie ought cookie ought cookie tough cookie tough cookie tough neo ought cookie ought cookie ought cookie tough cookie tough cookie tough neo ought cookie ought cookie ought cookie tough cookie tough cookie tough neo ought cookie ought cookie ought cookie tough cookie tough cookie tough neo ought cookie ought cookie ought cookie tough cookie tough cookie tough neo ought cookie ought cookie ought cookie',\n",
       " 'one ought cookie ought cookie ought cookie tough cookie tough cookie tough one ought cookie ought cookie ought cookie tough cookie tough cookie tough one ought cookie ought cookie ought cookie tough cookie tough cookie tough one ought cookie ought cookie ought cookie tough cookie tough cookie tough neo ought cookie ought cookie ought cookie tough cookie tough cookie tough neo ought cookie ought cookie ought cookie tough cookie tough cookie tough neo ought cookie ought cookie ought cookie tough cookie tough cookie tough neo ought cookie ought cookie ought cookie tough cookie tough cookie tough neo ought cookie ought cookie ought cookie cookie',\n",
       " 'one ought cookie ought cookie ought cookie tough cookie tough cookie tough one ought cookie ought cookie ought cookie tough cookie tough cookie tough one ought cookie ought cookie ought cookie tough cookie tough cookie tough one ought cookie ought cookie ought cookie tough cookie tough cookie tough neo ought cookie ought cookie ought cookie tough cookie tough cookie tough neo ought cookie ought cookie ought cookie tough cookie tough cookie tough neo ought cookie ought cookie ought cookie tough cookie tough cookie tough neo ought cookie ought cookie ought cookie tough cookie tough cookie tough neo ought cookie ought cookie ought cookie tough cookie',\n",
       " 'one ought cookie ought cookie ought cookie tough cookie tough cookie tough one ought cookie ought cookie ought cookie tough cookie tough cookie tough one ought cookie ought cookie ought cookie tough cookie tough cookie tough one ought cookie ought cookie ought cookie tough cookie tough cookie tough neo ought cookie ought cookie ought cookie tough cookie tough cookie tough neo ought cookie ought cookie ought cookie tough cookie tough cookie tough neo ought cookie ought cookie ought cookie tough cookie tough cookie tough neo ought cookie ought cookie ought cookie tough cookie tough cookie tough neo ought cookie ought cookie ought cookie tough cookie cookie',\n",
       " 'one ought cookie ought cookie ought cookie tough cookie tough cookie tough one ought cookie ought cookie ought cookie tough cookie tough cookie tough one ought cookie ought cookie ought cookie tough cookie tough cookie tough one ought cookie ought cookie ought cookie tough cookie tough cookie tough neo ought cookie ought cookie ought cookie tough cookie tough cookie tough neo ought cookie ought cookie ought cookie tough cookie tough cookie tough neo ought cookie ought cookie ought cookie tough cookie tough cookie tough neo ought cookie ought cookie ought cookie tough cookie tough cookie tough neo ought cookie ought cookie ought cookie tough cookie tough cookie',\n",
       " 'one ought cookie ought cookie ought cookie tough cookie tough cookie tough one ought cookie ought cookie ought cookie tough cookie tough cookie tough one ought cookie ought cookie ought cookie tough cookie tough cookie tough one ought cookie ought cookie ought cookie tough cookie tough cookie tough neo ought cookie ought cookie ought cookie tough cookie tough cookie tough neo ought cookie ought cookie ought cookie tough cookie tough cookie tough neo ought cookie ought cookie ought cookie tough cookie tough cookie tough neo ought cookie ought cookie ought cookie tough cookie tough cookie tough neo ought cookie ought cookie ought cookie tough cookie tough cookie cookie',\n",
       " 'one ought cookie ought cookie ought cookie tough cookie tough cookie tough one ought cookie ought cookie ought cookie tough cookie tough cookie tough one ought cookie ought cookie ought cookie tough cookie tough cookie tough one ought cookie ought cookie ought cookie tough cookie tough cookie tough neo ought cookie ought cookie ought cookie tough cookie tough cookie tough neo ought cookie ought cookie ought cookie tough cookie tough cookie tough neo ought cookie ought cookie ought cookie tough cookie tough cookie tough neo ought cookie ought cookie ought cookie tough cookie tough cookie tough neo ought cookie ought cookie ought cookie tough cookie tough cookie tough cookie',\n",
       " 'one ought cookie ought cookie ought cookie tough cookie tough cookie tough one ought cookie ought cookie ought cookie tough cookie tough cookie tough one ought cookie ought cookie ought cookie tough cookie tough cookie tough one ought cookie ought cookie ought cookie tough cookie tough cookie tough neo ought cookie ought cookie ought cookie tough cookie tough cookie tough neo ought cookie ought cookie ought cookie tough cookie tough cookie tough neo ought cookie ought cookie ought cookie tough cookie tough cookie tough neo ought cookie ought cookie ought cookie tough cookie tough cookie tough neo ought cookie ought cookie ought cookie tough cookie tough cookie tough cookie cookie',\n",
       " 'one ought cookie ought cookie ought cookie tough cookie tough cookie tough one ought cookie ought cookie ought cookie tough cookie tough cookie tough one ought cookie ought cookie ought cookie tough cookie tough cookie tough one ought cookie ought cookie ought cookie tough cookie tough cookie tough neo ought cookie ought cookie ought cookie tough cookie tough cookie tough neo ought cookie ought cookie ought cookie tough cookie tough cookie tough neo ought cookie ought cookie ought cookie tough cookie tough cookie tough neo ought cookie ought cookie ought cookie tough cookie tough cookie tough neo ought cookie ought cookie ought cookie tough cookie tough cookie tough neo ought cookie',\n",
       " 'one ought cookie ought cookie ought cookie tough cookie tough cookie tough one ought cookie ought cookie ought cookie tough cookie tough cookie tough one ought cookie ought cookie ought cookie tough cookie tough cookie tough one ought cookie ought cookie ought cookie tough cookie tough cookie tough neo ought cookie ought cookie ought cookie tough cookie tough cookie tough neo ought cookie ought cookie ought cookie tough cookie tough cookie tough neo ought cookie ought cookie ought cookie tough cookie tough cookie tough neo ought cookie ought cookie ought cookie tough cookie tough cookie tough neo ought cookie ought cookie ought cookie tough cookie tough cookie tough neo ought cookie cookie',\n",
       " 'one ought cookie ought cookie ought cookie tough cookie tough cookie tough one ought cookie ought cookie ought cookie tough cookie tough cookie tough one ought cookie ought cookie ought cookie tough cookie tough cookie tough one ought cookie ought cookie ought cookie tough cookie tough cookie tough neo ought cookie ought cookie ought cookie tough cookie tough cookie tough neo ought cookie ought cookie ought cookie tough cookie tough cookie tough neo ought cookie ought cookie ought cookie tough cookie tough cookie tough neo ought cookie ought cookie ought cookie tough cookie tough cookie tough neo ought cookie ought cookie ought cookie tough cookie tough cookie tough neo ought cookie ought cookie',\n",
       " 'one ought cookie ought cookie ought cookie tough cookie tough cookie tough one ought cookie ought cookie ought cookie tough cookie tough cookie tough one ought cookie ought cookie ought cookie tough cookie tough cookie tough one ought cookie ought cookie ought cookie tough cookie tough cookie tough neo ought cookie ought cookie ought cookie tough cookie tough cookie tough neo ought cookie ought cookie ought cookie tough cookie tough cookie tough neo ought cookie ought cookie ought cookie tough cookie tough cookie tough neo ought cookie ought cookie ought cookie tough cookie tough cookie tough neo ought cookie ought cookie ought cookie tough cookie tough cookie tough neo ought cookie ought cookie cookie',\n",
       " 'one ought cookie ought cookie ought cookie tough cookie tough cookie tough one ought cookie ought cookie ought cookie tough cookie tough cookie tough one ought cookie ought cookie ought cookie tough cookie tough cookie tough one ought cookie ought cookie ought cookie tough cookie tough cookie tough neo ought cookie ought cookie ought cookie tough cookie tough cookie tough neo ought cookie ought cookie ought cookie tough cookie tough cookie tough neo ought cookie ought cookie ought cookie tough cookie tough cookie tough neo ought cookie ought cookie ought cookie tough cookie tough cookie tough neo ought cookie ought cookie ought cookie tough cookie tough cookie tough neo ought cookie ought cookie ought cookie',\n",
       " 'one ought cookie ought cookie ought cookie tough cookie tough cookie tough one ought cookie ought cookie ought cookie tough cookie tough cookie tough one ought cookie ought cookie ought cookie tough cookie tough cookie tough one ought cookie ought cookie ought cookie tough cookie tough cookie tough neo ought cookie ought cookie ought cookie tough cookie tough cookie tough neo ought cookie ought cookie ought cookie tough cookie tough cookie tough neo ought cookie ought cookie ought cookie tough cookie tough cookie tough neo ought cookie ought cookie ought cookie tough cookie tough cookie tough neo ought cookie ought cookie ought cookie tough cookie tough cookie tough neo ought cookie ought cookie ought cookie cookie',\n",
       " 'one ought cookie ought cookie ought cookie tough cookie tough cookie tough one ought cookie ought cookie ought cookie tough cookie tough cookie tough one ought cookie ought cookie ought cookie tough cookie tough cookie tough one ought cookie ought cookie ought cookie tough cookie tough cookie tough neo ought cookie ought cookie ought cookie tough cookie tough cookie tough neo ought cookie ought cookie ought cookie tough cookie tough cookie tough neo ought cookie ought cookie ought cookie tough cookie tough cookie tough neo ought cookie ought cookie ought cookie tough cookie tough cookie tough neo ought cookie ought cookie ought cookie tough cookie tough cookie tough neo ought cookie ought cookie ought cookie tough cookie',\n",
       " 'one ought cookie ought cookie ought cookie tough cookie tough cookie tough one ought cookie ought cookie ought cookie tough cookie tough cookie tough one ought cookie ought cookie ought cookie tough cookie tough cookie tough one ought cookie ought cookie ought cookie tough cookie tough cookie tough neo ought cookie ought cookie ought cookie tough cookie tough cookie tough neo ought cookie ought cookie ought cookie tough cookie tough cookie tough neo ought cookie ought cookie ought cookie tough cookie tough cookie tough neo ought cookie ought cookie ought cookie tough cookie tough cookie tough neo ought cookie ought cookie ought cookie tough cookie tough cookie tough neo ought cookie ought cookie ought cookie tough cookie cookie',\n",
       " 'one ought cookie ought cookie ought cookie tough cookie tough cookie tough one ought cookie ought cookie ought cookie tough cookie tough cookie tough one ought cookie ought cookie ought cookie tough cookie tough cookie tough one ought cookie ought cookie ought cookie tough cookie tough cookie tough neo ought cookie ought cookie ought cookie tough cookie tough cookie tough neo ought cookie ought cookie ought cookie tough cookie tough cookie tough neo ought cookie ought cookie ought cookie tough cookie tough cookie tough neo ought cookie ought cookie ought cookie tough cookie tough cookie tough neo ought cookie ought cookie ought cookie tough cookie tough cookie tough neo ought cookie ought cookie ought cookie tough cookie tough cookie',\n",
       " 'one ought cookie ought cookie ought cookie tough cookie tough cookie tough one ought cookie ought cookie ought cookie tough cookie tough cookie tough one ought cookie ought cookie ought cookie tough cookie tough cookie tough one ought cookie ought cookie ought cookie tough cookie tough cookie tough neo ought cookie ought cookie ought cookie tough cookie tough cookie tough neo ought cookie ought cookie ought cookie tough cookie tough cookie tough neo ought cookie ought cookie ought cookie tough cookie tough cookie tough neo ought cookie ought cookie ought cookie tough cookie tough cookie tough neo ought cookie ought cookie ought cookie tough cookie tough cookie tough neo ought cookie ought cookie ought cookie tough cookie tough cookie cookie',\n",
       " 'one ought cookie ought cookie ought cookie tough cookie tough cookie tough one ought cookie ought cookie ought cookie tough cookie tough cookie tough one ought cookie ought cookie ought cookie tough cookie tough cookie tough one ought cookie ought cookie ought cookie tough cookie tough cookie tough neo ought cookie ought cookie ought cookie tough cookie tough cookie tough neo ought cookie ought cookie ought cookie tough cookie tough cookie tough neo ought cookie ought cookie ought cookie tough cookie tough cookie tough neo ought cookie ought cookie ought cookie tough cookie tough cookie tough neo ought cookie ought cookie ought cookie tough cookie tough cookie tough neo ought cookie ought cookie ought cookie tough cookie tough cookie tough cookie',\n",
       " 'one ought cookie ought cookie ought cookie tough cookie tough cookie tough one ought cookie ought cookie ought cookie tough cookie tough cookie tough one ought cookie ought cookie ought cookie tough cookie tough cookie tough one ought cookie ought cookie ought cookie tough cookie tough cookie tough neo ought cookie ought cookie ought cookie tough cookie tough cookie tough neo ought cookie ought cookie ought cookie tough cookie tough cookie tough neo ought cookie ought cookie ought cookie tough cookie tough cookie tough neo ought cookie ought cookie ought cookie tough cookie tough cookie tough neo ought cookie ought cookie ought cookie tough cookie tough cookie tough neo ought cookie ought cookie ought cookie tough cookie tough cookie tough cookie cookie',\n",
       " 'one ought cookie ought cookie ought cookie tough cookie tough cookie tough one ought cookie ought cookie ought cookie tough cookie tough cookie tough one ought cookie ought cookie ought cookie tough cookie tough cookie tough one ought cookie ought cookie ought cookie tough cookie tough cookie tough neo ought cookie ought cookie ought cookie tough cookie tough cookie tough neo ought cookie ought cookie ought cookie tough cookie tough cookie tough neo ought cookie ought cookie ought cookie tough cookie tough cookie tough neo ought cookie ought cookie ought cookie tough cookie tough cookie tough neo ought cookie ought cookie ought cookie tough cookie tough cookie tough neo ought cookie ought cookie ought cookie tough cookie tough cookie tough neo ought cookie',\n",
       " 'one ought cookie ought cookie ought cookie tough cookie tough cookie tough one ought cookie ought cookie ought cookie tough cookie tough cookie tough one ought cookie ought cookie ought cookie tough cookie tough cookie tough one ought cookie ought cookie ought cookie tough cookie tough cookie tough neo ought cookie ought cookie ought cookie tough cookie tough cookie tough neo ought cookie ought cookie ought cookie tough cookie tough cookie tough neo ought cookie ought cookie ought cookie tough cookie tough cookie tough neo ought cookie ought cookie ought cookie tough cookie tough cookie tough neo ought cookie ought cookie ought cookie tough cookie tough cookie tough neo ought cookie ought cookie ought cookie tough cookie tough cookie tough neo ought cookie cookie',\n",
       " 'one ought cookie ought cookie ought cookie tough cookie tough cookie tough one ought cookie ought cookie ought cookie tough cookie tough cookie tough one ought cookie ought cookie ought cookie tough cookie tough cookie tough one ought cookie ought cookie ought cookie tough cookie tough cookie tough neo ought cookie ought cookie ought cookie tough cookie tough cookie tough neo ought cookie ought cookie ought cookie tough cookie tough cookie tough neo ought cookie ought cookie ought cookie tough cookie tough cookie tough neo ought cookie ought cookie ought cookie tough cookie tough cookie tough neo ought cookie ought cookie ought cookie tough cookie tough cookie tough neo ought cookie ought cookie ought cookie tough cookie tough cookie tough neo ought cookie ought cookie',\n",
       " 'one ought cookie ought cookie ought cookie tough cookie tough cookie tough one ought cookie ought cookie ought cookie tough cookie tough cookie tough one ought cookie ought cookie ought cookie tough cookie tough cookie tough one ought cookie ought cookie ought cookie tough cookie tough cookie tough neo ought cookie ought cookie ought cookie tough cookie tough cookie tough neo ought cookie ought cookie ought cookie tough cookie tough cookie tough neo ought cookie ought cookie ought cookie tough cookie tough cookie tough neo ought cookie ought cookie ought cookie tough cookie tough cookie tough neo ought cookie ought cookie ought cookie tough cookie tough cookie tough neo ought cookie ought cookie ought cookie tough cookie tough cookie tough neo ought cookie ought cookie cookie',\n",
       " 'one ought cookie ought cookie ought cookie tough cookie tough cookie tough one ought cookie ought cookie ought cookie tough cookie tough cookie tough one ought cookie ought cookie ought cookie tough cookie tough cookie tough one ought cookie ought cookie ought cookie tough cookie tough cookie tough neo ought cookie ought cookie ought cookie tough cookie tough cookie tough neo ought cookie ought cookie ought cookie tough cookie tough cookie tough neo ought cookie ought cookie ought cookie tough cookie tough cookie tough neo ought cookie ought cookie ought cookie tough cookie tough cookie tough neo ought cookie ought cookie ought cookie tough cookie tough cookie tough neo ought cookie ought cookie ought cookie tough cookie tough cookie tough neo ought cookie ought cookie ought cookie',\n",
       " 'one ought cookie ought cookie ought cookie tough cookie tough cookie tough one ought cookie ought cookie ought cookie tough cookie tough cookie tough one ought cookie ought cookie ought cookie tough cookie tough cookie tough one ought cookie ought cookie ought cookie tough cookie tough cookie tough neo ought cookie ought cookie ought cookie tough cookie tough cookie tough neo ought cookie ought cookie ought cookie tough cookie tough cookie tough neo ought cookie ought cookie ought cookie tough cookie tough cookie tough neo ought cookie ought cookie ought cookie tough cookie tough cookie tough neo ought cookie ought cookie ought cookie tough cookie tough cookie tough neo ought cookie ought cookie ought cookie tough cookie tough cookie tough neo ought cookie ought cookie ought cookie cookie',\n",
       " 'one ought cookie ought cookie ought cookie tough cookie tough cookie tough one ought cookie ought cookie ought cookie tough cookie tough cookie tough one ought cookie ought cookie ought cookie tough cookie tough cookie tough one ought cookie ought cookie ought cookie tough cookie tough cookie tough neo ought cookie ought cookie ought cookie tough cookie tough cookie tough neo ought cookie ought cookie ought cookie tough cookie tough cookie tough neo ought cookie ought cookie ought cookie tough cookie tough cookie tough neo ought cookie ought cookie ought cookie tough cookie tough cookie tough neo ought cookie ought cookie ought cookie tough cookie tough cookie tough neo ought cookie ought cookie ought cookie tough cookie tough cookie tough neo ought cookie ought cookie ought cookie tough cookie',\n",
       " 'one ought cookie ought cookie ought cookie tough cookie tough cookie tough one ought cookie ought cookie ought cookie tough cookie tough cookie tough one ought cookie ought cookie ought cookie tough cookie tough cookie tough one ought cookie ought cookie ought cookie tough cookie tough cookie tough neo ought cookie ought cookie ought cookie tough cookie tough cookie tough neo ought cookie ought cookie ought cookie tough cookie tough cookie tough neo ought cookie ought cookie ought cookie tough cookie tough cookie tough neo ought cookie ought cookie ought cookie tough cookie tough cookie tough neo ought cookie ought cookie ought cookie tough cookie tough cookie tough neo ought cookie ought cookie ought cookie tough cookie tough cookie tough neo ought cookie ought cookie ought cookie tough cookie cookie',\n",
       " 'one ought cookie ought cookie ought cookie tough cookie tough cookie tough one ought cookie ought cookie ought cookie tough cookie tough cookie tough one ought cookie ought cookie ought cookie tough cookie tough cookie tough one ought cookie ought cookie ought cookie tough cookie tough cookie tough neo ought cookie ought cookie ought cookie tough cookie tough cookie tough neo ought cookie ought cookie ought cookie tough cookie tough cookie tough neo ought cookie ought cookie ought cookie tough cookie tough cookie tough neo ought cookie ought cookie ought cookie tough cookie tough cookie tough neo ought cookie ought cookie ought cookie tough cookie tough cookie tough neo ought cookie ought cookie ought cookie tough cookie tough cookie tough neo ought cookie ought cookie ought cookie tough cookie tough cookie',\n",
       " 'one ought cookie ought cookie ought cookie tough cookie tough cookie tough one ought cookie ought cookie ought cookie tough cookie tough cookie tough one ought cookie ought cookie ought cookie tough cookie tough cookie tough one ought cookie ought cookie ought cookie tough cookie tough cookie tough neo ought cookie ought cookie ought cookie tough cookie tough cookie tough neo ought cookie ought cookie ought cookie tough cookie tough cookie tough neo ought cookie ought cookie ought cookie tough cookie tough cookie tough neo ought cookie ought cookie ought cookie tough cookie tough cookie tough neo ought cookie ought cookie ought cookie tough cookie tough cookie tough neo ought cookie ought cookie ought cookie tough cookie tough cookie tough neo ought cookie ought cookie ought cookie tough cookie tough cookie cookie',\n",
       " 'one ought cookie ought cookie ought cookie tough cookie tough cookie tough one ought cookie ought cookie ought cookie tough cookie tough cookie tough one ought cookie ought cookie ought cookie tough cookie tough cookie tough one ought cookie ought cookie ought cookie tough cookie tough cookie tough neo ought cookie ought cookie ought cookie tough cookie tough cookie tough neo ought cookie ought cookie ought cookie tough cookie tough cookie tough neo ought cookie ought cookie ought cookie tough cookie tough cookie tough neo ought cookie ought cookie ought cookie tough cookie tough cookie tough neo ought cookie ought cookie ought cookie tough cookie tough cookie tough neo ought cookie ought cookie ought cookie tough cookie tough cookie tough neo ought cookie ought cookie ought cookie tough cookie tough cookie tough cookie',\n",
       " 'one ought cookie ought cookie ought cookie tough cookie tough cookie tough one ought cookie ought cookie ought cookie tough cookie tough cookie tough one ought cookie ought cookie ought cookie tough cookie tough cookie tough one ought cookie ought cookie ought cookie tough cookie tough cookie tough neo ought cookie ought cookie ought cookie tough cookie tough cookie tough neo ought cookie ought cookie ought cookie tough cookie tough cookie tough neo ought cookie ought cookie ought cookie tough cookie tough cookie tough neo ought cookie ought cookie ought cookie tough cookie tough cookie tough neo ought cookie ought cookie ought cookie tough cookie tough cookie tough neo ought cookie ought cookie ought cookie tough cookie tough cookie tough neo ought cookie ought cookie ought cookie tough cookie tough cookie tough cookie cookie',\n",
       " 'one ought cookie ought cookie ought cookie tough cookie tough cookie tough one ought cookie ought cookie ought cookie tough cookie tough cookie tough one ought cookie ought cookie ought cookie tough cookie tough cookie tough one ought cookie ought cookie ought cookie tough cookie tough cookie tough neo ought cookie ought cookie ought cookie tough cookie tough cookie tough neo ought cookie ought cookie ought cookie tough cookie tough cookie tough neo ought cookie ought cookie ought cookie tough cookie tough cookie tough neo ought cookie ought cookie ought cookie tough cookie tough cookie tough neo ought cookie ought cookie ought cookie tough cookie tough cookie tough neo ought cookie ought cookie ought cookie tough cookie tough cookie tough neo ought cookie ought cookie ought cookie tough cookie tough cookie tough neo ought cookie',\n",
       " 'one ought cookie ought cookie ought cookie tough cookie tough cookie tough one ought cookie ought cookie ought cookie tough cookie tough cookie tough one ought cookie ought cookie ought cookie tough cookie tough cookie tough one ought cookie ought cookie ought cookie tough cookie tough cookie tough neo ought cookie ought cookie ought cookie tough cookie tough cookie tough neo ought cookie ought cookie ought cookie tough cookie tough cookie tough neo ought cookie ought cookie ought cookie tough cookie tough cookie tough neo ought cookie ought cookie ought cookie tough cookie tough cookie tough neo ought cookie ought cookie ought cookie tough cookie tough cookie tough neo ought cookie ought cookie ought cookie tough cookie tough cookie tough neo ought cookie ought cookie ought cookie tough cookie tough cookie tough neo ought cookie cookie',\n",
       " 'one ought cookie ought cookie ought cookie tough cookie tough cookie tough one ought cookie ought cookie ought cookie tough cookie tough cookie tough one ought cookie ought cookie ought cookie tough cookie tough cookie tough one ought cookie ought cookie ought cookie tough cookie tough cookie tough neo ought cookie ought cookie ought cookie tough cookie tough cookie tough neo ought cookie ought cookie ought cookie tough cookie tough cookie tough neo ought cookie ought cookie ought cookie tough cookie tough cookie tough neo ought cookie ought cookie ought cookie tough cookie tough cookie tough neo ought cookie ought cookie ought cookie tough cookie tough cookie tough neo ought cookie ought cookie ought cookie tough cookie tough cookie tough neo ought cookie ought cookie ought cookie tough cookie tough cookie tough neo ought cookie ought cookie',\n",
       " 'one ought cookie ought cookie ought cookie tough cookie tough cookie tough one ought cookie ought cookie ought cookie tough cookie tough cookie tough one ought cookie ought cookie ought cookie tough cookie tough cookie tough one ought cookie ought cookie ought cookie tough cookie tough cookie tough neo ought cookie ought cookie ought cookie tough cookie tough cookie tough neo ought cookie ought cookie ought cookie tough cookie tough cookie tough neo ought cookie ought cookie ought cookie tough cookie tough cookie tough neo ought cookie ought cookie ought cookie tough cookie tough cookie tough neo ought cookie ought cookie ought cookie tough cookie tough cookie tough neo ought cookie ought cookie ought cookie tough cookie tough cookie tough neo ought cookie ought cookie ought cookie tough cookie tough cookie tough neo ought cookie ought cookie cookie',\n",
       " 'one ought cookie ought cookie ought cookie tough cookie tough cookie tough one ought cookie ought cookie ought cookie tough cookie tough cookie tough one ought cookie ought cookie ought cookie tough cookie tough cookie tough one ought cookie ought cookie ought cookie tough cookie tough cookie tough neo ought cookie ought cookie ought cookie tough cookie tough cookie tough neo ought cookie ought cookie ought cookie tough cookie tough cookie tough neo ought cookie ought cookie ought cookie tough cookie tough cookie tough neo ought cookie ought cookie ought cookie tough cookie tough cookie tough neo ought cookie ought cookie ought cookie tough cookie tough cookie tough neo ought cookie ought cookie ought cookie tough cookie tough cookie tough neo ought cookie ought cookie ought cookie tough cookie tough cookie tough neo ought cookie ought cookie ought cookie',\n",
       " 'one ought cookie ought cookie ought cookie tough cookie tough cookie tough one ought cookie ought cookie ought cookie tough cookie tough cookie tough one ought cookie ought cookie ought cookie tough cookie tough cookie tough one ought cookie ought cookie ought cookie tough cookie tough cookie tough neo ought cookie ought cookie ought cookie tough cookie tough cookie tough neo ought cookie ought cookie ought cookie tough cookie tough cookie tough neo ought cookie ought cookie ought cookie tough cookie tough cookie tough neo ought cookie ought cookie ought cookie tough cookie tough cookie tough neo ought cookie ought cookie ought cookie tough cookie tough cookie tough neo ought cookie ought cookie ought cookie tough cookie tough cookie tough neo ought cookie ought cookie ought cookie tough cookie tough cookie tough neo ought cookie ought cookie ought cookie cookie',\n",
       " 'one ought cookie ought cookie ought cookie tough cookie tough cookie tough one ought cookie ought cookie ought cookie tough cookie tough cookie tough one ought cookie ought cookie ought cookie tough cookie tough cookie tough one ought cookie ought cookie ought cookie tough cookie tough cookie tough neo ought cookie ought cookie ought cookie tough cookie tough cookie tough neo ought cookie ought cookie ought cookie tough cookie tough cookie tough neo ought cookie ought cookie ought cookie tough cookie tough cookie tough neo ought cookie ought cookie ought cookie tough cookie tough cookie tough neo ought cookie ought cookie ought cookie tough cookie tough cookie tough neo ought cookie ought cookie ought cookie tough cookie tough cookie tough neo ought cookie ought cookie ought cookie tough cookie tough cookie tough neo ought cookie ought cookie ought cookie tough cookie',\n",
       " 'one ought cookie ought cookie ought cookie tough cookie tough cookie tough one ought cookie ought cookie ought cookie tough cookie tough cookie tough one ought cookie ought cookie ought cookie tough cookie tough cookie tough one ought cookie ought cookie ought cookie tough cookie tough cookie tough neo ought cookie ought cookie ought cookie tough cookie tough cookie tough neo ought cookie ought cookie ought cookie tough cookie tough cookie tough neo ought cookie ought cookie ought cookie tough cookie tough cookie tough neo ought cookie ought cookie ought cookie tough cookie tough cookie tough neo ought cookie ought cookie ought cookie tough cookie tough cookie tough neo ought cookie ought cookie ought cookie tough cookie tough cookie tough neo ought cookie ought cookie ought cookie tough cookie tough cookie tough neo ought cookie ought cookie ought cookie tough cookie cookie',\n",
       " 'one ought cookie ought cookie ought cookie tough cookie tough cookie tough one ought cookie ought cookie ought cookie tough cookie tough cookie tough one ought cookie ought cookie ought cookie tough cookie tough cookie tough one ought cookie ought cookie ought cookie tough cookie tough cookie tough neo ought cookie ought cookie ought cookie tough cookie tough cookie tough neo ought cookie ought cookie ought cookie tough cookie tough cookie tough neo ought cookie ought cookie ought cookie tough cookie tough cookie tough neo ought cookie ought cookie ought cookie tough cookie tough cookie tough neo ought cookie ought cookie ought cookie tough cookie tough cookie tough neo ought cookie ought cookie ought cookie tough cookie tough cookie tough neo ought cookie ought cookie ought cookie tough cookie tough cookie tough neo ought cookie ought cookie ought cookie tough cookie tough cookie',\n",
       " 'one ought cookie ought cookie ought cookie tough cookie tough cookie tough one ought cookie ought cookie ought cookie tough cookie tough cookie tough one ought cookie ought cookie ought cookie tough cookie tough cookie tough one ought cookie ought cookie ought cookie tough cookie tough cookie tough neo ought cookie ought cookie ought cookie tough cookie tough cookie tough neo ought cookie ought cookie ought cookie tough cookie tough cookie tough neo ought cookie ought cookie ought cookie tough cookie tough cookie tough neo ought cookie ought cookie ought cookie tough cookie tough cookie tough neo ought cookie ought cookie ought cookie tough cookie tough cookie tough neo ought cookie ought cookie ought cookie tough cookie tough cookie tough neo ought cookie ought cookie ought cookie tough cookie tough cookie tough neo ought cookie ought cookie ought cookie tough cookie tough cookie cookie',\n",
       " 'one ought cookie ought cookie ought cookie tough cookie tough cookie tough one ought cookie ought cookie ought cookie tough cookie tough cookie tough one ought cookie ought cookie ought cookie tough cookie tough cookie tough one ought cookie ought cookie ought cookie tough cookie tough cookie tough neo ought cookie ought cookie ought cookie tough cookie tough cookie tough neo ought cookie ought cookie ought cookie tough cookie tough cookie tough neo ought cookie ought cookie ought cookie tough cookie tough cookie tough neo ought cookie ought cookie ought cookie tough cookie tough cookie tough neo ought cookie ought cookie ought cookie tough cookie tough cookie tough neo ought cookie ought cookie ought cookie tough cookie tough cookie tough neo ought cookie ought cookie ought cookie tough cookie tough cookie tough neo ought cookie ought cookie ought cookie tough cookie tough cookie tough cookie',\n",
       " 'one ought cookie ought cookie ought cookie tough cookie tough cookie tough one ought cookie ought cookie ought cookie tough cookie tough cookie tough one ought cookie ought cookie ought cookie tough cookie tough cookie tough one ought cookie ought cookie ought cookie tough cookie tough cookie tough neo ought cookie ought cookie ought cookie tough cookie tough cookie tough neo ought cookie ought cookie ought cookie tough cookie tough cookie tough neo ought cookie ought cookie ought cookie tough cookie tough cookie tough neo ought cookie ought cookie ought cookie tough cookie tough cookie tough neo ought cookie ought cookie ought cookie tough cookie tough cookie tough neo ought cookie ought cookie ought cookie tough cookie tough cookie tough neo ought cookie ought cookie ought cookie tough cookie tough cookie tough neo ought cookie ought cookie ought cookie tough cookie tough cookie tough cookie cookie',\n",
       " 'one ought cookie ought cookie ought cookie tough cookie tough cookie tough one ought cookie ought cookie ought cookie tough cookie tough cookie tough one ought cookie ought cookie ought cookie tough cookie tough cookie tough one ought cookie ought cookie ought cookie tough cookie tough cookie tough neo ought cookie ought cookie ought cookie tough cookie tough cookie tough neo ought cookie ought cookie ought cookie tough cookie tough cookie tough neo ought cookie ought cookie ought cookie tough cookie tough cookie tough neo ought cookie ought cookie ought cookie tough cookie tough cookie tough neo ought cookie ought cookie ought cookie tough cookie tough cookie tough neo ought cookie ought cookie ought cookie tough cookie tough cookie tough neo ought cookie ought cookie ought cookie tough cookie tough cookie tough neo ought cookie ought cookie ought cookie tough cookie tough cookie tough one ought cookie',\n",
       " 'one ought cookie ought cookie ought cookie tough cookie tough cookie tough one ought cookie ought cookie ought cookie tough cookie tough cookie tough one ought cookie ought cookie ought cookie tough cookie tough cookie tough one ought cookie ought cookie ought cookie tough cookie tough cookie tough neo ought cookie ought cookie ought cookie tough cookie tough cookie tough neo ought cookie ought cookie ought cookie tough cookie tough cookie tough neo ought cookie ought cookie ought cookie tough cookie tough cookie tough neo ought cookie ought cookie ought cookie tough cookie tough cookie tough neo ought cookie ought cookie ought cookie tough cookie tough cookie tough neo ought cookie ought cookie ought cookie tough cookie tough cookie tough neo ought cookie ought cookie ought cookie tough cookie tough cookie tough neo ought cookie ought cookie ought cookie tough cookie tough cookie tough one ought cookie cookie',\n",
       " 'one ought cookie ought cookie ought cookie tough cookie tough cookie tough one ought cookie ought cookie ought cookie tough cookie tough cookie tough one ought cookie ought cookie ought cookie tough cookie tough cookie tough one ought cookie ought cookie ought cookie tough cookie tough cookie tough neo ought cookie ought cookie ought cookie tough cookie tough cookie tough neo ought cookie ought cookie ought cookie tough cookie tough cookie tough neo ought cookie ought cookie ought cookie tough cookie tough cookie tough neo ought cookie ought cookie ought cookie tough cookie tough cookie tough neo ought cookie ought cookie ought cookie tough cookie tough cookie tough neo ought cookie ought cookie ought cookie tough cookie tough cookie tough neo ought cookie ought cookie ought cookie tough cookie tough cookie tough neo ought cookie ought cookie ought cookie tough cookie tough cookie tough one ought cookie ought cookie',\n",
       " 'one ought cookie ought cookie ought cookie tough cookie tough cookie tough one ought cookie ought cookie ought cookie tough cookie tough cookie tough one ought cookie ought cookie ought cookie tough cookie tough cookie tough one ought cookie ought cookie ought cookie tough cookie tough cookie tough neo ought cookie ought cookie ought cookie tough cookie tough cookie tough neo ought cookie ought cookie ought cookie tough cookie tough cookie tough neo ought cookie ought cookie ought cookie tough cookie tough cookie tough neo ought cookie ought cookie ought cookie tough cookie tough cookie tough neo ought cookie ought cookie ought cookie tough cookie tough cookie tough neo ought cookie ought cookie ought cookie tough cookie tough cookie tough neo ought cookie ought cookie ought cookie tough cookie tough cookie tough neo ought cookie ought cookie ought cookie tough cookie tough cookie tough one ought cookie ought cookie cookie',\n",
       " 'one ought cookie ought cookie ought cookie tough cookie tough cookie tough one ought cookie ought cookie ought cookie tough cookie tough cookie tough one ought cookie ought cookie ought cookie tough cookie tough cookie tough one ought cookie ought cookie ought cookie tough cookie tough cookie tough neo ought cookie ought cookie ought cookie tough cookie tough cookie tough neo ought cookie ought cookie ought cookie tough cookie tough cookie tough neo ought cookie ought cookie ought cookie tough cookie tough cookie tough neo ought cookie ought cookie ought cookie tough cookie tough cookie tough neo ought cookie ought cookie ought cookie tough cookie tough cookie tough neo ought cookie ought cookie ought cookie tough cookie tough cookie tough neo ought cookie ought cookie ought cookie tough cookie tough cookie tough neo ought cookie ought cookie ought cookie tough cookie tough cookie tough one ought cookie ought cookie ought cookie',\n",
       " 'one ought cookie ought cookie ought cookie tough cookie tough cookie tough one ought cookie ought cookie ought cookie tough cookie tough cookie tough one ought cookie ought cookie ought cookie tough cookie tough cookie tough one ought cookie ought cookie ought cookie tough cookie tough cookie tough neo ought cookie ought cookie ought cookie tough cookie tough cookie tough neo ought cookie ought cookie ought cookie tough cookie tough cookie tough neo ought cookie ought cookie ought cookie tough cookie tough cookie tough neo ought cookie ought cookie ought cookie tough cookie tough cookie tough neo ought cookie ought cookie ought cookie tough cookie tough cookie tough neo ought cookie ought cookie ought cookie tough cookie tough cookie tough neo ought cookie ought cookie ought cookie tough cookie tough cookie tough neo ought cookie ought cookie ought cookie tough cookie tough cookie tough one ought cookie ought cookie ought cookie cookie',\n",
       " 'one ought cookie ought cookie ought cookie tough cookie tough cookie tough one ought cookie ought cookie ought cookie tough cookie tough cookie tough one ought cookie ought cookie ought cookie tough cookie tough cookie tough one ought cookie ought cookie ought cookie tough cookie tough cookie tough neo ought cookie ought cookie ought cookie tough cookie tough cookie tough neo ought cookie ought cookie ought cookie tough cookie tough cookie tough neo ought cookie ought cookie ought cookie tough cookie tough cookie tough neo ought cookie ought cookie ought cookie tough cookie tough cookie tough neo ought cookie ought cookie ought cookie tough cookie tough cookie tough neo ought cookie ought cookie ought cookie tough cookie tough cookie tough neo ought cookie ought cookie ought cookie tough cookie tough cookie tough neo ought cookie ought cookie ought cookie tough cookie tough cookie tough one ought cookie ought cookie ought cookie tough cookie',\n",
       " 'one ought cookie ought cookie ought cookie tough cookie tough cookie tough one ought cookie ought cookie ought cookie tough cookie tough cookie tough one ought cookie ought cookie ought cookie tough cookie tough cookie tough one ought cookie ought cookie ought cookie tough cookie tough cookie tough neo ought cookie ought cookie ought cookie tough cookie tough cookie tough neo ought cookie ought cookie ought cookie tough cookie tough cookie tough neo ought cookie ought cookie ought cookie tough cookie tough cookie tough neo ought cookie ought cookie ought cookie tough cookie tough cookie tough neo ought cookie ought cookie ought cookie tough cookie tough cookie tough neo ought cookie ought cookie ought cookie tough cookie tough cookie tough neo ought cookie ought cookie ought cookie tough cookie tough cookie tough neo ought cookie ought cookie ought cookie tough cookie tough cookie tough one ought cookie ought cookie ought cookie tough cookie cookie',\n",
       " 'one ought cookie ought cookie ought cookie tough cookie tough cookie tough one ought cookie ought cookie ought cookie tough cookie tough cookie tough one ought cookie ought cookie ought cookie tough cookie tough cookie tough one ought cookie ought cookie ought cookie tough cookie tough cookie tough neo ought cookie ought cookie ought cookie tough cookie tough cookie tough neo ought cookie ought cookie ought cookie tough cookie tough cookie tough neo ought cookie ought cookie ought cookie tough cookie tough cookie tough neo ought cookie ought cookie ought cookie tough cookie tough cookie tough neo ought cookie ought cookie ought cookie tough cookie tough cookie tough neo ought cookie ought cookie ought cookie tough cookie tough cookie tough neo ought cookie ought cookie ought cookie tough cookie tough cookie tough neo ought cookie ought cookie ought cookie tough cookie tough cookie tough one ought cookie ought cookie ought cookie tough cookie tough cookie',\n",
       " 'one ought cookie ought cookie ought cookie tough cookie tough cookie tough one ought cookie ought cookie ought cookie tough cookie tough cookie tough one ought cookie ought cookie ought cookie tough cookie tough cookie tough one ought cookie ought cookie ought cookie tough cookie tough cookie tough neo ought cookie ought cookie ought cookie tough cookie tough cookie tough neo ought cookie ought cookie ought cookie tough cookie tough cookie tough neo ought cookie ought cookie ought cookie tough cookie tough cookie tough neo ought cookie ought cookie ought cookie tough cookie tough cookie tough neo ought cookie ought cookie ought cookie tough cookie tough cookie tough neo ought cookie ought cookie ought cookie tough cookie tough cookie tough neo ought cookie ought cookie ought cookie tough cookie tough cookie tough neo ought cookie ought cookie ought cookie tough cookie tough cookie tough one ought cookie ought cookie ought cookie tough cookie tough cookie cookie',\n",
       " 'one ought cookie ought cookie ought cookie tough cookie tough cookie tough one ought cookie ought cookie ought cookie tough cookie tough cookie tough one ought cookie ought cookie ought cookie tough cookie tough cookie tough one ought cookie ought cookie ought cookie tough cookie tough cookie tough neo ought cookie ought cookie ought cookie tough cookie tough cookie tough neo ought cookie ought cookie ought cookie tough cookie tough cookie tough neo ought cookie ought cookie ought cookie tough cookie tough cookie tough neo ought cookie ought cookie ought cookie tough cookie tough cookie tough neo ought cookie ought cookie ought cookie tough cookie tough cookie tough neo ought cookie ought cookie ought cookie tough cookie tough cookie tough neo ought cookie ought cookie ought cookie tough cookie tough cookie tough neo ought cookie ought cookie ought cookie tough cookie tough cookie tough one ought cookie ought cookie ought cookie tough cookie tough cookie tough cookie',\n",
       " 'one ought cookie ought cookie ought cookie tough cookie tough cookie tough one ought cookie ought cookie ought cookie tough cookie tough cookie tough one ought cookie ought cookie ought cookie tough cookie tough cookie tough one ought cookie ought cookie ought cookie tough cookie tough cookie tough neo ought cookie ought cookie ought cookie tough cookie tough cookie tough neo ought cookie ought cookie ought cookie tough cookie tough cookie tough neo ought cookie ought cookie ought cookie tough cookie tough cookie tough neo ought cookie ought cookie ought cookie tough cookie tough cookie tough neo ought cookie ought cookie ought cookie tough cookie tough cookie tough neo ought cookie ought cookie ought cookie tough cookie tough cookie tough neo ought cookie ought cookie ought cookie tough cookie tough cookie tough neo ought cookie ought cookie ought cookie tough cookie tough cookie tough one ought cookie ought cookie ought cookie tough cookie tough cookie tough cookie cookie',\n",
       " 'one ought cookie ought cookie ought cookie tough cookie tough cookie tough one ought cookie ought cookie ought cookie tough cookie tough cookie tough one ought cookie ought cookie ought cookie tough cookie tough cookie tough one ought cookie ought cookie ought cookie tough cookie tough cookie tough neo ought cookie ought cookie ought cookie tough cookie tough cookie tough neo ought cookie ought cookie ought cookie tough cookie tough cookie tough neo ought cookie ought cookie ought cookie tough cookie tough cookie tough neo ought cookie ought cookie ought cookie tough cookie tough cookie tough neo ought cookie ought cookie ought cookie tough cookie tough cookie tough neo ought cookie ought cookie ought cookie tough cookie tough cookie tough neo ought cookie ought cookie ought cookie tough cookie tough cookie tough neo ought cookie ought cookie ought cookie tough cookie tough cookie tough one ought cookie ought cookie ought cookie tough cookie tough cookie tough one ought cookie',\n",
       " 'one ought cookie ought cookie ought cookie tough cookie tough cookie tough one ought cookie ought cookie ought cookie tough cookie tough cookie tough one ought cookie ought cookie ought cookie tough cookie tough cookie tough one ought cookie ought cookie ought cookie tough cookie tough cookie tough neo ought cookie ought cookie ought cookie tough cookie tough cookie tough neo ought cookie ought cookie ought cookie tough cookie tough cookie tough neo ought cookie ought cookie ought cookie tough cookie tough cookie tough neo ought cookie ought cookie ought cookie tough cookie tough cookie tough neo ought cookie ought cookie ought cookie tough cookie tough cookie tough neo ought cookie ought cookie ought cookie tough cookie tough cookie tough neo ought cookie ought cookie ought cookie tough cookie tough cookie tough neo ought cookie ought cookie ought cookie tough cookie tough cookie tough one ought cookie ought cookie ought cookie tough cookie tough cookie tough one ought cookie cookie',\n",
       " 'one ought cookie ought cookie ought cookie tough cookie tough cookie tough one ought cookie ought cookie ought cookie tough cookie tough cookie tough one ought cookie ought cookie ought cookie tough cookie tough cookie tough one ought cookie ought cookie ought cookie tough cookie tough cookie tough neo ought cookie ought cookie ought cookie tough cookie tough cookie tough neo ought cookie ought cookie ought cookie tough cookie tough cookie tough neo ought cookie ought cookie ought cookie tough cookie tough cookie tough neo ought cookie ought cookie ought cookie tough cookie tough cookie tough neo ought cookie ought cookie ought cookie tough cookie tough cookie tough neo ought cookie ought cookie ought cookie tough cookie tough cookie tough neo ought cookie ought cookie ought cookie tough cookie tough cookie tough neo ought cookie ought cookie ought cookie tough cookie tough cookie tough one ought cookie ought cookie ought cookie tough cookie tough cookie tough one ought cookie ought cookie',\n",
       " 'one ought cookie ought cookie ought cookie tough cookie tough cookie tough one ought cookie ought cookie ought cookie tough cookie tough cookie tough one ought cookie ought cookie ought cookie tough cookie tough cookie tough one ought cookie ought cookie ought cookie tough cookie tough cookie tough neo ought cookie ought cookie ought cookie tough cookie tough cookie tough neo ought cookie ought cookie ought cookie tough cookie tough cookie tough neo ought cookie ought cookie ought cookie tough cookie tough cookie tough neo ought cookie ought cookie ought cookie tough cookie tough cookie tough neo ought cookie ought cookie ought cookie tough cookie tough cookie tough neo ought cookie ought cookie ought cookie tough cookie tough cookie tough neo ought cookie ought cookie ought cookie tough cookie tough cookie tough neo ought cookie ought cookie ought cookie tough cookie tough cookie tough one ought cookie ought cookie ought cookie tough cookie tough cookie tough one ought cookie ought cookie cookie',\n",
       " 'one ought cookie ought cookie ought cookie tough cookie tough cookie tough one ought cookie ought cookie ought cookie tough cookie tough cookie tough one ought cookie ought cookie ought cookie tough cookie tough cookie tough one ought cookie ought cookie ought cookie tough cookie tough cookie tough neo ought cookie ought cookie ought cookie tough cookie tough cookie tough neo ought cookie ought cookie ought cookie tough cookie tough cookie tough neo ought cookie ought cookie ought cookie tough cookie tough cookie tough neo ought cookie ought cookie ought cookie tough cookie tough cookie tough neo ought cookie ought cookie ought cookie tough cookie tough cookie tough neo ought cookie ought cookie ought cookie tough cookie tough cookie tough neo ought cookie ought cookie ought cookie tough cookie tough cookie tough neo ought cookie ought cookie ought cookie tough cookie tough cookie tough one ought cookie ought cookie ought cookie tough cookie tough cookie tough one ought cookie ought cookie ought cookie',\n",
       " 'one ought cookie ought cookie ought cookie tough cookie tough cookie tough one ought cookie ought cookie ought cookie tough cookie tough cookie tough one ought cookie ought cookie ought cookie tough cookie tough cookie tough one ought cookie ought cookie ought cookie tough cookie tough cookie tough neo ought cookie ought cookie ought cookie tough cookie tough cookie tough neo ought cookie ought cookie ought cookie tough cookie tough cookie tough neo ought cookie ought cookie ought cookie tough cookie tough cookie tough neo ought cookie ought cookie ought cookie tough cookie tough cookie tough neo ought cookie ought cookie ought cookie tough cookie tough cookie tough neo ought cookie ought cookie ought cookie tough cookie tough cookie tough neo ought cookie ought cookie ought cookie tough cookie tough cookie tough neo ought cookie ought cookie ought cookie tough cookie tough cookie tough one ought cookie ought cookie ought cookie tough cookie tough cookie tough one ought cookie ought cookie ought cookie cookie',\n",
       " 'one ought cookie ought cookie ought cookie tough cookie tough cookie tough one ought cookie ought cookie ought cookie tough cookie tough cookie tough one ought cookie ought cookie ought cookie tough cookie tough cookie tough one ought cookie ought cookie ought cookie tough cookie tough cookie tough neo ought cookie ought cookie ought cookie tough cookie tough cookie tough neo ought cookie ought cookie ought cookie tough cookie tough cookie tough neo ought cookie ought cookie ought cookie tough cookie tough cookie tough neo ought cookie ought cookie ought cookie tough cookie tough cookie tough neo ought cookie ought cookie ought cookie tough cookie tough cookie tough neo ought cookie ought cookie ought cookie tough cookie tough cookie tough neo ought cookie ought cookie ought cookie tough cookie tough cookie tough neo ought cookie ought cookie ought cookie tough cookie tough cookie tough one ought cookie ought cookie ought cookie tough cookie tough cookie tough one ought cookie ought cookie ought cookie tough cookie',\n",
       " 'one ought cookie ought cookie ought cookie tough cookie tough cookie tough one ought cookie ought cookie ought cookie tough cookie tough cookie tough one ought cookie ought cookie ought cookie tough cookie tough cookie tough one ought cookie ought cookie ought cookie tough cookie tough cookie tough neo ought cookie ought cookie ought cookie tough cookie tough cookie tough neo ought cookie ought cookie ought cookie tough cookie tough cookie tough neo ought cookie ought cookie ought cookie tough cookie tough cookie tough neo ought cookie ought cookie ought cookie tough cookie tough cookie tough neo ought cookie ought cookie ought cookie tough cookie tough cookie tough neo ought cookie ought cookie ought cookie tough cookie tough cookie tough neo ought cookie ought cookie ought cookie tough cookie tough cookie tough neo ought cookie ought cookie ought cookie tough cookie tough cookie tough one ought cookie ought cookie ought cookie tough cookie tough cookie tough one ought cookie ought cookie ought cookie tough cookie cookie',\n",
       " 'one ought cookie ought cookie ought cookie tough cookie tough cookie tough one ought cookie ought cookie ought cookie tough cookie tough cookie tough one ought cookie ought cookie ought cookie tough cookie tough cookie tough one ought cookie ought cookie ought cookie tough cookie tough cookie tough neo ought cookie ought cookie ought cookie tough cookie tough cookie tough neo ought cookie ought cookie ought cookie tough cookie tough cookie tough neo ought cookie ought cookie ought cookie tough cookie tough cookie tough neo ought cookie ought cookie ought cookie tough cookie tough cookie tough neo ought cookie ought cookie ought cookie tough cookie tough cookie tough neo ought cookie ought cookie ought cookie tough cookie tough cookie tough neo ought cookie ought cookie ought cookie tough cookie tough cookie tough neo ought cookie ought cookie ought cookie tough cookie tough cookie tough one ought cookie ought cookie ought cookie tough cookie tough cookie tough one ought cookie ought cookie ought cookie tough cookie tough cookie',\n",
       " 'one ought cookie ought cookie ought cookie tough cookie tough cookie tough one ought cookie ought cookie ought cookie tough cookie tough cookie tough one ought cookie ought cookie ought cookie tough cookie tough cookie tough one ought cookie ought cookie ought cookie tough cookie tough cookie tough neo ought cookie ought cookie ought cookie tough cookie tough cookie tough neo ought cookie ought cookie ought cookie tough cookie tough cookie tough neo ought cookie ought cookie ought cookie tough cookie tough cookie tough neo ought cookie ought cookie ought cookie tough cookie tough cookie tough neo ought cookie ought cookie ought cookie tough cookie tough cookie tough neo ought cookie ought cookie ought cookie tough cookie tough cookie tough neo ought cookie ought cookie ought cookie tough cookie tough cookie tough neo ought cookie ought cookie ought cookie tough cookie tough cookie tough one ought cookie ought cookie ought cookie tough cookie tough cookie tough one ought cookie ought cookie ought cookie tough cookie tough cookie cookie',\n",
       " 'one ought cookie ought cookie ought cookie tough cookie tough cookie tough one ought cookie ought cookie ought cookie tough cookie tough cookie tough one ought cookie ought cookie ought cookie tough cookie tough cookie tough one ought cookie ought cookie ought cookie tough cookie tough cookie tough neo ought cookie ought cookie ought cookie tough cookie tough cookie tough neo ought cookie ought cookie ought cookie tough cookie tough cookie tough neo ought cookie ought cookie ought cookie tough cookie tough cookie tough neo ought cookie ought cookie ought cookie tough cookie tough cookie tough neo ought cookie ought cookie ought cookie tough cookie tough cookie tough neo ought cookie ought cookie ought cookie tough cookie tough cookie tough neo ought cookie ought cookie ought cookie tough cookie tough cookie tough neo ought cookie ought cookie ought cookie tough cookie tough cookie tough one ought cookie ought cookie ought cookie tough cookie tough cookie tough one ought cookie ought cookie ought cookie tough cookie tough cookie tough cookie',\n",
       " 'one ought cookie ought cookie ought cookie tough cookie tough cookie tough one ought cookie ought cookie ought cookie tough cookie tough cookie tough one ought cookie ought cookie ought cookie tough cookie tough cookie tough one ought cookie ought cookie ought cookie tough cookie tough cookie tough neo ought cookie ought cookie ought cookie tough cookie tough cookie tough neo ought cookie ought cookie ought cookie tough cookie tough cookie tough neo ought cookie ought cookie ought cookie tough cookie tough cookie tough neo ought cookie ought cookie ought cookie tough cookie tough cookie tough neo ought cookie ought cookie ought cookie tough cookie tough cookie tough neo ought cookie ought cookie ought cookie tough cookie tough cookie tough neo ought cookie ought cookie ought cookie tough cookie tough cookie tough neo ought cookie ought cookie ought cookie tough cookie tough cookie tough one ought cookie ought cookie ought cookie tough cookie tough cookie tough one ought cookie ought cookie ought cookie tough cookie tough cookie tough cookie cookie',\n",
       " 'one ought cookie ought cookie ought cookie tough cookie tough cookie tough one ought cookie ought cookie ought cookie tough cookie tough cookie tough one ought cookie ought cookie ought cookie tough cookie tough cookie tough one ought cookie ought cookie ought cookie tough cookie tough cookie tough neo ought cookie ought cookie ought cookie tough cookie tough cookie tough neo ought cookie ought cookie ought cookie tough cookie tough cookie tough neo ought cookie ought cookie ought cookie tough cookie tough cookie tough neo ought cookie ought cookie ought cookie tough cookie tough cookie tough neo ought cookie ought cookie ought cookie tough cookie tough cookie tough neo ought cookie ought cookie ought cookie tough cookie tough cookie tough neo ought cookie ought cookie ought cookie tough cookie tough cookie tough neo ought cookie ought cookie ought cookie tough cookie tough cookie tough one ought cookie ought cookie ought cookie tough cookie tough cookie tough one ought cookie ought cookie ought cookie tough cookie tough cookie tough one ought cookie',\n",
       " 'one ought cookie ought cookie ought cookie tough cookie tough cookie tough one ought cookie ought cookie ought cookie tough cookie tough cookie tough one ought cookie ought cookie ought cookie tough cookie tough cookie tough one ought cookie ought cookie ought cookie tough cookie tough cookie tough neo ought cookie ought cookie ought cookie tough cookie tough cookie tough neo ought cookie ought cookie ought cookie tough cookie tough cookie tough neo ought cookie ought cookie ought cookie tough cookie tough cookie tough neo ought cookie ought cookie ought cookie tough cookie tough cookie tough neo ought cookie ought cookie ought cookie tough cookie tough cookie tough neo ought cookie ought cookie ought cookie tough cookie tough cookie tough neo ought cookie ought cookie ought cookie tough cookie tough cookie tough neo ought cookie ought cookie ought cookie tough cookie tough cookie tough one ought cookie ought cookie ought cookie tough cookie tough cookie tough one ought cookie ought cookie ought cookie tough cookie tough cookie tough one ought cookie cookie',\n",
       " 'one ought cookie ought cookie ought cookie tough cookie tough cookie tough one ought cookie ought cookie ought cookie tough cookie tough cookie tough one ought cookie ought cookie ought cookie tough cookie tough cookie tough one ought cookie ought cookie ought cookie tough cookie tough cookie tough neo ought cookie ought cookie ought cookie tough cookie tough cookie tough neo ought cookie ought cookie ought cookie tough cookie tough cookie tough neo ought cookie ought cookie ought cookie tough cookie tough cookie tough neo ought cookie ought cookie ought cookie tough cookie tough cookie tough neo ought cookie ought cookie ought cookie tough cookie tough cookie tough neo ought cookie ought cookie ought cookie tough cookie tough cookie tough neo ought cookie ought cookie ought cookie tough cookie tough cookie tough neo ought cookie ought cookie ought cookie tough cookie tough cookie tough one ought cookie ought cookie ought cookie tough cookie tough cookie tough one ought cookie ought cookie ought cookie tough cookie tough cookie tough one ought cookie ought cookie',\n",
       " 'one ought cookie ought cookie ought cookie tough cookie tough cookie tough one ought cookie ought cookie ought cookie tough cookie tough cookie tough one ought cookie ought cookie ought cookie tough cookie tough cookie tough one ought cookie ought cookie ought cookie tough cookie tough cookie tough neo ought cookie ought cookie ought cookie tough cookie tough cookie tough neo ought cookie ought cookie ought cookie tough cookie tough cookie tough neo ought cookie ought cookie ought cookie tough cookie tough cookie tough neo ought cookie ought cookie ought cookie tough cookie tough cookie tough neo ought cookie ought cookie ought cookie tough cookie tough cookie tough neo ought cookie ought cookie ought cookie tough cookie tough cookie tough neo ought cookie ought cookie ought cookie tough cookie tough cookie tough neo ought cookie ought cookie ought cookie tough cookie tough cookie tough one ought cookie ought cookie ought cookie tough cookie tough cookie tough one ought cookie ought cookie ought cookie tough cookie tough cookie tough one ought cookie ought cookie cookie',\n",
       " 'one ought cookie ought cookie ought cookie tough cookie tough cookie tough one ought cookie ought cookie ought cookie tough cookie tough cookie tough one ought cookie ought cookie ought cookie tough cookie tough cookie tough one ought cookie ought cookie ought cookie tough cookie tough cookie tough neo ought cookie ought cookie ought cookie tough cookie tough cookie tough neo ought cookie ought cookie ought cookie tough cookie tough cookie tough neo ought cookie ought cookie ought cookie tough cookie tough cookie tough neo ought cookie ought cookie ought cookie tough cookie tough cookie tough neo ought cookie ought cookie ought cookie tough cookie tough cookie tough neo ought cookie ought cookie ought cookie tough cookie tough cookie tough neo ought cookie ought cookie ought cookie tough cookie tough cookie tough neo ought cookie ought cookie ought cookie tough cookie tough cookie tough one ought cookie ought cookie ought cookie tough cookie tough cookie tough one ought cookie ought cookie ought cookie tough cookie tough cookie tough one ought cookie ought cookie ought cookie',\n",
       " 'one ought cookie ought cookie ought cookie tough cookie tough cookie tough one ought cookie ought cookie ought cookie tough cookie tough cookie tough one ought cookie ought cookie ought cookie tough cookie tough cookie tough one ought cookie ought cookie ought cookie tough cookie tough cookie tough neo ought cookie ought cookie ought cookie tough cookie tough cookie tough neo ought cookie ought cookie ought cookie tough cookie tough cookie tough neo ought cookie ought cookie ought cookie tough cookie tough cookie tough neo ought cookie ought cookie ought cookie tough cookie tough cookie tough neo ought cookie ought cookie ought cookie tough cookie tough cookie tough neo ought cookie ought cookie ought cookie tough cookie tough cookie tough neo ought cookie ought cookie ought cookie tough cookie tough cookie tough neo ought cookie ought cookie ought cookie tough cookie tough cookie tough one ought cookie ought cookie ought cookie tough cookie tough cookie tough one ought cookie ought cookie ought cookie tough cookie tough cookie tough one ought cookie ought cookie ought cookie cookie',\n",
       " 'one ought cookie ought cookie ought cookie tough cookie tough cookie tough one ought cookie ought cookie ought cookie tough cookie tough cookie tough one ought cookie ought cookie ought cookie tough cookie tough cookie tough one ought cookie ought cookie ought cookie tough cookie tough cookie tough neo ought cookie ought cookie ought cookie tough cookie tough cookie tough neo ought cookie ought cookie ought cookie tough cookie tough cookie tough neo ought cookie ought cookie ought cookie tough cookie tough cookie tough neo ought cookie ought cookie ought cookie tough cookie tough cookie tough neo ought cookie ought cookie ought cookie tough cookie tough cookie tough neo ought cookie ought cookie ought cookie tough cookie tough cookie tough neo ought cookie ought cookie ought cookie tough cookie tough cookie tough neo ought cookie ought cookie ought cookie tough cookie tough cookie tough one ought cookie ought cookie ought cookie tough cookie tough cookie tough one ought cookie ought cookie ought cookie tough cookie tough cookie tough one ought cookie ought cookie ought cookie tough cookie',\n",
       " 'one ought cookie ought cookie ought cookie tough cookie tough cookie tough one ought cookie ought cookie ought cookie tough cookie tough cookie tough one ought cookie ought cookie ought cookie tough cookie tough cookie tough one ought cookie ought cookie ought cookie tough cookie tough cookie tough neo ought cookie ought cookie ought cookie tough cookie tough cookie tough neo ought cookie ought cookie ought cookie tough cookie tough cookie tough neo ought cookie ought cookie ought cookie tough cookie tough cookie tough neo ought cookie ought cookie ought cookie tough cookie tough cookie tough neo ought cookie ought cookie ought cookie tough cookie tough cookie tough neo ought cookie ought cookie ought cookie tough cookie tough cookie tough neo ought cookie ought cookie ought cookie tough cookie tough cookie tough neo ought cookie ought cookie ought cookie tough cookie tough cookie tough one ought cookie ought cookie ought cookie tough cookie tough cookie tough one ought cookie ought cookie ought cookie tough cookie tough cookie tough one ought cookie ought cookie ought cookie tough cookie cookie',\n",
       " 'one ought cookie ought cookie ought cookie tough cookie tough cookie tough one ought cookie ought cookie ought cookie tough cookie tough cookie tough one ought cookie ought cookie ought cookie tough cookie tough cookie tough one ought cookie ought cookie ought cookie tough cookie tough cookie tough neo ought cookie ought cookie ought cookie tough cookie tough cookie tough neo ought cookie ought cookie ought cookie tough cookie tough cookie tough neo ought cookie ought cookie ought cookie tough cookie tough cookie tough neo ought cookie ought cookie ought cookie tough cookie tough cookie tough neo ought cookie ought cookie ought cookie tough cookie tough cookie tough neo ought cookie ought cookie ought cookie tough cookie tough cookie tough neo ought cookie ought cookie ought cookie tough cookie tough cookie tough neo ought cookie ought cookie ought cookie tough cookie tough cookie tough one ought cookie ought cookie ought cookie tough cookie tough cookie tough one ought cookie ought cookie ought cookie tough cookie tough cookie tough one ought cookie ought cookie ought cookie tough cookie tough cookie',\n",
       " 'one ought cookie ought cookie ought cookie tough cookie tough cookie tough one ought cookie ought cookie ought cookie tough cookie tough cookie tough one ought cookie ought cookie ought cookie tough cookie tough cookie tough one ought cookie ought cookie ought cookie tough cookie tough cookie tough neo ought cookie ought cookie ought cookie tough cookie tough cookie tough neo ought cookie ought cookie ought cookie tough cookie tough cookie tough neo ought cookie ought cookie ought cookie tough cookie tough cookie tough neo ought cookie ought cookie ought cookie tough cookie tough cookie tough neo ought cookie ought cookie ought cookie tough cookie tough cookie tough neo ought cookie ought cookie ought cookie tough cookie tough cookie tough neo ought cookie ought cookie ought cookie tough cookie tough cookie tough neo ought cookie ought cookie ought cookie tough cookie tough cookie tough one ought cookie ought cookie ought cookie tough cookie tough cookie tough one ought cookie ought cookie ought cookie tough cookie tough cookie tough one ought cookie ought cookie ought cookie tough cookie tough cookie cookie',\n",
       " 'one ought cookie ought cookie ought cookie tough cookie tough cookie tough one ought cookie ought cookie ought cookie tough cookie tough cookie tough one ought cookie ought cookie ought cookie tough cookie tough cookie tough one ought cookie ought cookie ought cookie tough cookie tough cookie tough neo ought cookie ought cookie ought cookie tough cookie tough cookie tough neo ought cookie ought cookie ought cookie tough cookie tough cookie tough neo ought cookie ought cookie ought cookie tough cookie tough cookie tough neo ought cookie ought cookie ought cookie tough cookie tough cookie tough neo ought cookie ought cookie ought cookie tough cookie tough cookie tough neo ought cookie ought cookie ought cookie tough cookie tough cookie tough neo ought cookie ought cookie ought cookie tough cookie tough cookie tough neo ought cookie ought cookie ought cookie tough cookie tough cookie tough one ought cookie ought cookie ought cookie tough cookie tough cookie tough one ought cookie ought cookie ought cookie tough cookie tough cookie tough one ought cookie ought cookie ought cookie tough cookie tough cookie tough cookie',\n",
       " 'one ought cookie ought cookie ought cookie tough cookie tough cookie tough one ought cookie ought cookie ought cookie tough cookie tough cookie tough one ought cookie ought cookie ought cookie tough cookie tough cookie tough one ought cookie ought cookie ought cookie tough cookie tough cookie tough neo ought cookie ought cookie ought cookie tough cookie tough cookie tough neo ought cookie ought cookie ought cookie tough cookie tough cookie tough neo ought cookie ought cookie ought cookie tough cookie tough cookie tough neo ought cookie ought cookie ought cookie tough cookie tough cookie tough neo ought cookie ought cookie ought cookie tough cookie tough cookie tough neo ought cookie ought cookie ought cookie tough cookie tough cookie tough neo ought cookie ought cookie ought cookie tough cookie tough cookie tough neo ought cookie ought cookie ought cookie tough cookie tough cookie tough one ought cookie ought cookie ought cookie tough cookie tough cookie tough one ought cookie ought cookie ought cookie tough cookie tough cookie tough one ought cookie ought cookie ought cookie tough cookie tough cookie tough cookie cookie',\n",
       " 'one ought cookie ought cookie ought cookie tough cookie tough cookie tough one ought cookie ought cookie ought cookie tough cookie tough cookie tough one ought cookie ought cookie ought cookie tough cookie tough cookie tough one ought cookie ought cookie ought cookie tough cookie tough cookie tough neo ought cookie ought cookie ought cookie tough cookie tough cookie tough neo ought cookie ought cookie ought cookie tough cookie tough cookie tough neo ought cookie ought cookie ought cookie tough cookie tough cookie tough neo ought cookie ought cookie ought cookie tough cookie tough cookie tough neo ought cookie ought cookie ought cookie tough cookie tough cookie tough neo ought cookie ought cookie ought cookie tough cookie tough cookie tough neo ought cookie ought cookie ought cookie tough cookie tough cookie tough neo ought cookie ought cookie ought cookie tough cookie tough cookie tough one ought cookie ought cookie ought cookie tough cookie tough cookie tough one ought cookie ought cookie ought cookie tough cookie tough cookie tough one ought cookie ought cookie ought cookie tough cookie tough cookie tough one ought cookie',\n",
       " 'one ought cookie ought cookie ought cookie tough cookie tough cookie tough one ought cookie ought cookie ought cookie tough cookie tough cookie tough one ought cookie ought cookie ought cookie tough cookie tough cookie tough one ought cookie ought cookie ought cookie tough cookie tough cookie tough neo ought cookie ought cookie ought cookie tough cookie tough cookie tough neo ought cookie ought cookie ought cookie tough cookie tough cookie tough neo ought cookie ought cookie ought cookie tough cookie tough cookie tough neo ought cookie ought cookie ought cookie tough cookie tough cookie tough neo ought cookie ought cookie ought cookie tough cookie tough cookie tough neo ought cookie ought cookie ought cookie tough cookie tough cookie tough neo ought cookie ought cookie ought cookie tough cookie tough cookie tough neo ought cookie ought cookie ought cookie tough cookie tough cookie tough one ought cookie ought cookie ought cookie tough cookie tough cookie tough one ought cookie ought cookie ought cookie tough cookie tough cookie tough one ought cookie ought cookie ought cookie tough cookie tough cookie tough one ought cookie cookie',\n",
       " 'one ought cookie ought cookie ought cookie tough cookie tough cookie tough one ought cookie ought cookie ought cookie tough cookie tough cookie tough one ought cookie ought cookie ought cookie tough cookie tough cookie tough one ought cookie ought cookie ought cookie tough cookie tough cookie tough neo ought cookie ought cookie ought cookie tough cookie tough cookie tough neo ought cookie ought cookie ought cookie tough cookie tough cookie tough neo ought cookie ought cookie ought cookie tough cookie tough cookie tough neo ought cookie ought cookie ought cookie tough cookie tough cookie tough neo ought cookie ought cookie ought cookie tough cookie tough cookie tough neo ought cookie ought cookie ought cookie tough cookie tough cookie tough neo ought cookie ought cookie ought cookie tough cookie tough cookie tough neo ought cookie ought cookie ought cookie tough cookie tough cookie tough one ought cookie ought cookie ought cookie tough cookie tough cookie tough one ought cookie ought cookie ought cookie tough cookie tough cookie tough one ought cookie ought cookie ought cookie tough cookie tough cookie tough one ought cookie ought cookie',\n",
       " 'one ought cookie ought cookie ought cookie tough cookie tough cookie tough one ought cookie ought cookie ought cookie tough cookie tough cookie tough one ought cookie ought cookie ought cookie tough cookie tough cookie tough one ought cookie ought cookie ought cookie tough cookie tough cookie tough neo ought cookie ought cookie ought cookie tough cookie tough cookie tough neo ought cookie ought cookie ought cookie tough cookie tough cookie tough neo ought cookie ought cookie ought cookie tough cookie tough cookie tough neo ought cookie ought cookie ought cookie tough cookie tough cookie tough neo ought cookie ought cookie ought cookie tough cookie tough cookie tough neo ought cookie ought cookie ought cookie tough cookie tough cookie tough neo ought cookie ought cookie ought cookie tough cookie tough cookie tough neo ought cookie ought cookie ought cookie tough cookie tough cookie tough one ought cookie ought cookie ought cookie tough cookie tough cookie tough one ought cookie ought cookie ought cookie tough cookie tough cookie tough one ought cookie ought cookie ought cookie tough cookie tough cookie tough one ought cookie ought cookie cookie',\n",
       " 'one ought cookie ought cookie ought cookie tough cookie tough cookie tough one ought cookie ought cookie ought cookie tough cookie tough cookie tough one ought cookie ought cookie ought cookie tough cookie tough cookie tough one ought cookie ought cookie ought cookie tough cookie tough cookie tough neo ought cookie ought cookie ought cookie tough cookie tough cookie tough neo ought cookie ought cookie ought cookie tough cookie tough cookie tough neo ought cookie ought cookie ought cookie tough cookie tough cookie tough neo ought cookie ought cookie ought cookie tough cookie tough cookie tough neo ought cookie ought cookie ought cookie tough cookie tough cookie tough neo ought cookie ought cookie ought cookie tough cookie tough cookie tough neo ought cookie ought cookie ought cookie tough cookie tough cookie tough neo ought cookie ought cookie ought cookie tough cookie tough cookie tough one ought cookie ought cookie ought cookie tough cookie tough cookie tough one ought cookie ought cookie ought cookie tough cookie tough cookie tough one ought cookie ought cookie ought cookie tough cookie tough cookie tough one ought cookie ought cookie ought cookie',\n",
       " 'one ought cookie ought cookie ought cookie tough cookie tough cookie tough one ought cookie ought cookie ought cookie tough cookie tough cookie tough one ought cookie ought cookie ought cookie tough cookie tough cookie tough one ought cookie ought cookie ought cookie tough cookie tough cookie tough neo ought cookie ought cookie ought cookie tough cookie tough cookie tough neo ought cookie ought cookie ought cookie tough cookie tough cookie tough neo ought cookie ought cookie ought cookie tough cookie tough cookie tough neo ought cookie ought cookie ought cookie tough cookie tough cookie tough neo ought cookie ought cookie ought cookie tough cookie tough cookie tough neo ought cookie ought cookie ought cookie tough cookie tough cookie tough neo ought cookie ought cookie ought cookie tough cookie tough cookie tough neo ought cookie ought cookie ought cookie tough cookie tough cookie tough one ought cookie ought cookie ought cookie tough cookie tough cookie tough one ought cookie ought cookie ought cookie tough cookie tough cookie tough one ought cookie ought cookie ought cookie tough cookie tough cookie tough one ought cookie ought cookie ought cookie cookie',\n",
       " 'one ought cookie ought cookie ought cookie tough cookie tough cookie tough one ought cookie ought cookie ought cookie tough cookie tough cookie tough one ought cookie ought cookie ought cookie tough cookie tough cookie tough one ought cookie ought cookie ought cookie tough cookie tough cookie tough neo ought cookie ought cookie ought cookie tough cookie tough cookie tough neo ought cookie ought cookie ought cookie tough cookie tough cookie tough neo ought cookie ought cookie ought cookie tough cookie tough cookie tough neo ought cookie ought cookie ought cookie tough cookie tough cookie tough neo ought cookie ought cookie ought cookie tough cookie tough cookie tough neo ought cookie ought cookie ought cookie tough cookie tough cookie tough neo ought cookie ought cookie ought cookie tough cookie tough cookie tough neo ought cookie ought cookie ought cookie tough cookie tough cookie tough one ought cookie ought cookie ought cookie tough cookie tough cookie tough one ought cookie ought cookie ought cookie tough cookie tough cookie tough one ought cookie ought cookie ought cookie tough cookie tough cookie tough one ought cookie ought cookie ought cookie tough cookie',\n",
       " 'one ought cookie ought cookie ought cookie tough cookie tough cookie tough one ought cookie ought cookie ought cookie tough cookie tough cookie tough one ought cookie ought cookie ought cookie tough cookie tough cookie tough one ought cookie ought cookie ought cookie tough cookie tough cookie tough neo ought cookie ought cookie ought cookie tough cookie tough cookie tough neo ought cookie ought cookie ought cookie tough cookie tough cookie tough neo ought cookie ought cookie ought cookie tough cookie tough cookie tough neo ought cookie ought cookie ought cookie tough cookie tough cookie tough neo ought cookie ought cookie ought cookie tough cookie tough cookie tough neo ought cookie ought cookie ought cookie tough cookie tough cookie tough neo ought cookie ought cookie ought cookie tough cookie tough cookie tough neo ought cookie ought cookie ought cookie tough cookie tough cookie tough one ought cookie ought cookie ought cookie tough cookie tough cookie tough one ought cookie ought cookie ought cookie tough cookie tough cookie tough one ought cookie ought cookie ought cookie tough cookie tough cookie tough one ought cookie ought cookie ought cookie tough cookie cookie',\n",
       " 'one ought cookie ought cookie ought cookie tough cookie tough cookie tough one ought cookie ought cookie ought cookie tough cookie tough cookie tough one ought cookie ought cookie ought cookie tough cookie tough cookie tough one ought cookie ought cookie ought cookie tough cookie tough cookie tough neo ought cookie ought cookie ought cookie tough cookie tough cookie tough neo ought cookie ought cookie ought cookie tough cookie tough cookie tough neo ought cookie ought cookie ought cookie tough cookie tough cookie tough neo ought cookie ought cookie ought cookie tough cookie tough cookie tough neo ought cookie ought cookie ought cookie tough cookie tough cookie tough neo ought cookie ought cookie ought cookie tough cookie tough cookie tough neo ought cookie ought cookie ought cookie tough cookie tough cookie tough neo ought cookie ought cookie ought cookie tough cookie tough cookie tough one ought cookie ought cookie ought cookie tough cookie tough cookie tough one ought cookie ought cookie ought cookie tough cookie tough cookie tough one ought cookie ought cookie ought cookie tough cookie tough cookie tough one ought cookie ought cookie ought cookie tough cookie tough cookie',\n",
       " 'one ought cookie ought cookie ought cookie tough cookie tough cookie tough one ought cookie ought cookie ought cookie tough cookie tough cookie tough one ought cookie ought cookie ought cookie tough cookie tough cookie tough one ought cookie ought cookie ought cookie tough cookie tough cookie tough neo ought cookie ought cookie ought cookie tough cookie tough cookie tough neo ought cookie ought cookie ought cookie tough cookie tough cookie tough neo ought cookie ought cookie ought cookie tough cookie tough cookie tough neo ought cookie ought cookie ought cookie tough cookie tough cookie tough neo ought cookie ought cookie ought cookie tough cookie tough cookie tough neo ought cookie ought cookie ought cookie tough cookie tough cookie tough neo ought cookie ought cookie ought cookie tough cookie tough cookie tough neo ought cookie ought cookie ought cookie tough cookie tough cookie tough one ought cookie ought cookie ought cookie tough cookie tough cookie tough one ought cookie ought cookie ought cookie tough cookie tough cookie tough one ought cookie ought cookie ought cookie tough cookie tough cookie tough one ought cookie ought cookie ought cookie tough cookie tough cookie cookie',\n",
       " 'one ought cookie ought cookie ought cookie tough cookie tough cookie tough one ought cookie ought cookie ought cookie tough cookie tough cookie tough one ought cookie ought cookie ought cookie tough cookie tough cookie tough one ought cookie ought cookie ought cookie tough cookie tough cookie tough neo ought cookie ought cookie ought cookie tough cookie tough cookie tough neo ought cookie ought cookie ought cookie tough cookie tough cookie tough neo ought cookie ought cookie ought cookie tough cookie tough cookie tough neo ought cookie ought cookie ought cookie tough cookie tough cookie tough neo ought cookie ought cookie ought cookie tough cookie tough cookie tough neo ought cookie ought cookie ought cookie tough cookie tough cookie tough neo ought cookie ought cookie ought cookie tough cookie tough cookie tough neo ought cookie ought cookie ought cookie tough cookie tough cookie tough one ought cookie ought cookie ought cookie tough cookie tough cookie tough one ought cookie ought cookie ought cookie tough cookie tough cookie tough one ought cookie ought cookie ought cookie tough cookie tough cookie tough one ought cookie ought cookie ought cookie tough cookie tough cookie tough cookie',\n",
       " 'one ought cookie ought cookie ought cookie tough cookie tough cookie tough one ought cookie ought cookie ought cookie tough cookie tough cookie tough one ought cookie ought cookie ought cookie tough cookie tough cookie tough one ought cookie ought cookie ought cookie tough cookie tough cookie tough neo ought cookie ought cookie ought cookie tough cookie tough cookie tough neo ought cookie ought cookie ought cookie tough cookie tough cookie tough neo ought cookie ought cookie ought cookie tough cookie tough cookie tough neo ought cookie ought cookie ought cookie tough cookie tough cookie tough neo ought cookie ought cookie ought cookie tough cookie tough cookie tough neo ought cookie ought cookie ought cookie tough cookie tough cookie tough neo ought cookie ought cookie ought cookie tough cookie tough cookie tough neo ought cookie ought cookie ought cookie tough cookie tough cookie tough one ought cookie ought cookie ought cookie tough cookie tough cookie tough one ought cookie ought cookie ought cookie tough cookie tough cookie tough one ought cookie ought cookie ought cookie tough cookie tough cookie tough one ought cookie ought cookie ought cookie tough cookie tough cookie tough cookie cookie']"
      ]
     },
     "execution_count": 53,
     "metadata": {},
     "output_type": "execute_result"
    }
   ],
   "source": [
    "%time list(descrambler('choeounokeoitg',(3,5,6)))"
   ]
  },
  {
   "cell_type": "code",
   "execution_count": 55,
   "metadata": {},
   "outputs": [
    {
     "data": {
      "text/plain": [
       "'one ought cookie'"
      ]
     },
     "execution_count": 55,
     "metadata": {},
     "output_type": "execute_result"
    }
   ],
   "source": [
    "g=descrambler('choeounokeoitg',(3,5,6))\n",
    "next(g)"
   ]
  },
  {
   "cell_type": "code",
   "execution_count": 64,
   "metadata": {},
   "outputs": [
    {
     "data": {
      "text/plain": [
       "'one ought cookie ought cookie ought cookie tough cookie tough cookie cookie'"
      ]
     },
     "execution_count": 64,
     "metadata": {},
     "output_type": "execute_result"
    }
   ],
   "source": [
    "next(g)"
   ]
  },
  {
   "cell_type": "code",
   "execution_count": 27,
   "metadata": {},
   "outputs": [
    {
     "name": "stdout",
     "output_type": "stream",
     "text": [
      "Booom  2 2 one ought cookie\n",
      "Booom  2 2 one tough cookie\n",
      "Booom  2 2 neo ought cookie\n",
      "Booom  2 2 neo tough cookie\n",
      "Wall time: 38.7 s\n"
     ]
    },
    {
     "data": {
      "text/plain": [
       "['one tough cookie',\n",
       " 'neo ought cookie',\n",
       " 'neo tough cookie',\n",
       " 'one ought cookie']"
      ]
     },
     "execution_count": 27,
     "metadata": {},
     "output_type": "execute_result"
    }
   ],
   "source": [
    "\n",
    "%time descrambler('choeounokeoitg',(3,5,6))\n",
    "# %time descrambler('trleeohelh' , k=(5,5))"
   ]
  },
  {
   "cell_type": "code",
   "execution_count": 23,
   "metadata": {},
   "outputs": [
    {
     "ename": "TypeError",
     "evalue": "'int' object is not iterable",
     "output_type": "error",
     "traceback": [
      "\u001b[1;31m---------------------------------------------------------------------------\u001b[0m",
      "\u001b[1;31mTypeError\u001b[0m                                 Traceback (most recent call last)",
      "\u001b[1;32m<ipython-input-23-e734f8aca5ac>\u001b[0m in \u001b[0;36m<module>\u001b[1;34m\u001b[0m\n\u001b[1;32m----> 1\u001b[1;33m \u001b[0mnext\u001b[0m\u001b[1;33m(\u001b[0m\u001b[0mg\u001b[0m\u001b[1;33m)\u001b[0m\u001b[1;33m\u001b[0m\u001b[1;33m\u001b[0m\u001b[0m\n\u001b[0m",
      "\u001b[1;32m<ipython-input-19-b2e902659905>\u001b[0m in \u001b[0;36mdescrambler\u001b[1;34m(w, k)\u001b[0m\n\u001b[0;32m     26\u001b[0m         \u001b[0mres\u001b[0m\u001b[1;33m=\u001b[0m\u001b[1;33m[\u001b[0m\u001b[1;33m]\u001b[0m\u001b[1;33m\u001b[0m\u001b[1;33m\u001b[0m\u001b[0m\n\u001b[0;32m     27\u001b[0m \u001b[1;33m\u001b[0m\u001b[0m\n\u001b[1;32m---> 28\u001b[1;33m         \u001b[1;32mfor\u001b[0m \u001b[0mgap\u001b[0m \u001b[1;32min\u001b[0m \u001b[0mk\u001b[0m\u001b[1;33m:\u001b[0m\u001b[1;33m\u001b[0m\u001b[1;33m\u001b[0m\u001b[0m\n\u001b[0m\u001b[0;32m     29\u001b[0m             \u001b[0men\u001b[0m\u001b[1;33m=\u001b[0m\u001b[0mst\u001b[0m\u001b[1;33m+\u001b[0m\u001b[0mgap\u001b[0m\u001b[1;33m\u001b[0m\u001b[1;33m\u001b[0m\u001b[0m\n\u001b[0;32m     30\u001b[0m             \u001b[1;32mif\u001b[0m \u001b[0ms\u001b[0m\u001b[1;33m[\u001b[0m\u001b[0mst\u001b[0m\u001b[1;33m:\u001b[0m\u001b[0men\u001b[0m\u001b[1;33m]\u001b[0m \u001b[1;32mnot\u001b[0m \u001b[1;32min\u001b[0m \u001b[0mword_map\u001b[0m\u001b[1;33m[\u001b[0m\u001b[0mk\u001b[0m\u001b[1;33m]\u001b[0m\u001b[1;33m:\u001b[0m\u001b[1;33m\u001b[0m\u001b[1;33m\u001b[0m\u001b[0m\n",
      "\u001b[1;31mTypeError\u001b[0m: 'int' object is not iterable"
     ]
    }
   ],
   "source": [
    "next(g)"
   ]
  },
  {
   "cell_type": "code",
   "execution_count": 24,
   "metadata": {},
   "outputs": [
    {
     "data": {
      "text/plain": [
       "{'s': 5, 'd': 1, 'f': 1}"
      ]
     },
     "execution_count": 24,
     "metadata": {},
     "output_type": "execute_result"
    }
   ],
   "source": [
    "from collections import Counter\n",
    "dict(Counter(\"sdfssss\"))"
   ]
  }
 ],
 "metadata": {
  "interpreter": {
   "hash": "c195e80731ac63e061c2c5ba7b0035aa0e2df99312723b2922dbe74866fc6587"
  },
  "kernelspec": {
   "display_name": "Python 3 (ipykernel)",
   "language": "python",
   "name": "python3"
  },
  "language_info": {
   "codemirror_mode": {
    "name": "ipython",
    "version": 3
   },
   "file_extension": ".py",
   "mimetype": "text/x-python",
   "name": "python",
   "nbconvert_exporter": "python",
   "pygments_lexer": "ipython3",
   "version": "3.8.11"
  }
 },
 "nbformat": 4,
 "nbformat_minor": 2
}
